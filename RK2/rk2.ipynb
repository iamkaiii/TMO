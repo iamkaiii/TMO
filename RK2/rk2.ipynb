{
 "cells": [
  {
   "metadata": {},
   "cell_type": "markdown",
   "source": [
    "<h1><b>Рубежный контроль №2 </b></h1>\n",
    "Линейная/логистическая регрессия и Градиентный бустинг для world_hapiness_resort.csv"
   ],
   "id": "8bee4d5ecedaa0f0"
  },
  {
   "metadata": {},
   "cell_type": "markdown",
   "source": "1. Загрузка и предварительный анализ данных",
   "id": "2f04e434b3339f09"
  },
  {
   "metadata": {
    "ExecuteTime": {
     "end_time": "2025-04-13T17:44:59.992172Z",
     "start_time": "2025-04-13T17:44:55.896239Z"
    }
   },
   "cell_type": "code",
   "source": [
    "import pandas as pd\n",
    "import numpy as np\n",
    "import matplotlib.pyplot as plt\n",
    "import seaborn as sns\n",
    "from sklearn.model_selection import train_test_split\n",
    "from sklearn.preprocessing import StandardScaler\n",
    "from sklearn.linear_model import LinearRegression\n",
    "from sklearn.ensemble import GradientBoostingRegressor\n",
    "from sklearn.metrics import mean_squared_error, r2_score, mean_absolute_error"
   ],
   "id": "451498b86e0cd0d6",
   "outputs": [],
   "execution_count": 1
  },
  {
   "metadata": {},
   "cell_type": "markdown",
   "source": "Загрузка и анализ данных",
   "id": "2715bd864adb055"
  },
  {
   "metadata": {
    "ExecuteTime": {
     "end_time": "2025-04-13T17:45:54.880641Z",
     "start_time": "2025-04-13T17:45:54.841299Z"
    }
   },
   "cell_type": "code",
   "source": [
    "data = pd.read_csv('world_happiness_report.csv')\n",
    "print(f\"Размер датасета: {data.shape}\")"
   ],
   "id": "a129edccac91b240",
   "outputs": [
    {
     "name": "stdout",
     "output_type": "stream",
     "text": [
      "Размер датасета: (4000, 24)\n"
     ]
    }
   ],
   "execution_count": 3
  },
  {
   "metadata": {
    "ExecuteTime": {
     "end_time": "2025-04-13T17:45:56.571410Z",
     "start_time": "2025-04-13T17:45:56.535613Z"
    }
   },
   "cell_type": "code",
   "source": [
    "print(\"\\nПервые 5 строк:\")\n",
    "print(data.head())"
   ],
   "id": "ed7ef8990ec48051",
   "outputs": [
    {
     "name": "stdout",
     "output_type": "stream",
     "text": [
      "\n",
      "Первые 5 строк:\n",
      "  Country  Year  Happiness_Score  GDP_per_Capita  Social_Support  \\\n",
      "0   China  2022             4.39        44984.68            0.53   \n",
      "1      UK  2015             5.49        30814.59            0.93   \n",
      "2  Brazil  2009             4.65        39214.84            0.03   \n",
      "3  France  2019             5.20        30655.75            0.77   \n",
      "4   China  2022             7.28        30016.87            0.05   \n",
      "\n",
      "   Healthy_Life_Expectancy  Freedom  Generosity  Corruption_Perception  \\\n",
      "0                    71.11     0.41       -0.05                   0.83   \n",
      "1                    63.14     0.89        0.04                   0.84   \n",
      "2                    62.36     0.01        0.16                   0.59   \n",
      "3                    78.94     0.98        0.25                   0.63   \n",
      "4                    50.33     0.62        0.18                   0.92   \n",
      "\n",
      "   Unemployment_Rate  ...  Public_Trust  Mental_Health_Index  \\\n",
      "0              14.98  ...          0.34                76.44   \n",
      "1              19.46  ...          0.72                53.38   \n",
      "2              16.68  ...          0.23                82.40   \n",
      "3               2.64  ...          0.68                46.87   \n",
      "4               7.70  ...          0.50                60.38   \n",
      "\n",
      "   Income_Inequality  Public_Health_Expenditure  Climate_Index  \\\n",
      "0              46.06                       8.92          62.75   \n",
      "1              46.43                       4.43          53.11   \n",
      "2              31.03                       3.78          33.30   \n",
      "3              57.65                       4.43          90.59   \n",
      "4              28.54                       7.66          59.33   \n",
      "\n",
      "   Work_Life_Balance  Internet_Access  Crime_Rate  Political_Stability  \\\n",
      "0               8.59            74.40       70.30                 0.29   \n",
      "1               8.76            91.74       73.32                 0.76   \n",
      "2               6.06            71.80       28.99                 0.94   \n",
      "3               6.36            86.16       45.76                 0.48   \n",
      "4               3.00            71.10       65.67                 0.12   \n",
      "\n",
      "   Employment_Rate  \n",
      "0            61.38  \n",
      "1            80.18  \n",
      "2            72.65  \n",
      "3            55.14  \n",
      "4            51.55  \n",
      "\n",
      "[5 rows x 24 columns]\n"
     ]
    }
   ],
   "execution_count": 4
  },
  {
   "metadata": {
    "ExecuteTime": {
     "end_time": "2025-04-13T17:46:00.249442Z",
     "start_time": "2025-04-13T17:46:00.220754Z"
    }
   },
   "cell_type": "code",
   "source": [
    "print(\"\\nИнформация о данных:\")\n",
    "print(data.info())"
   ],
   "id": "80ab648a8fa1ce92",
   "outputs": [
    {
     "name": "stdout",
     "output_type": "stream",
     "text": [
      "\n",
      "Информация о данных:\n",
      "<class 'pandas.core.frame.DataFrame'>\n",
      "RangeIndex: 4000 entries, 0 to 3999\n",
      "Data columns (total 24 columns):\n",
      " #   Column                     Non-Null Count  Dtype  \n",
      "---  ------                     --------------  -----  \n",
      " 0   Country                    4000 non-null   object \n",
      " 1   Year                       4000 non-null   int64  \n",
      " 2   Happiness_Score            4000 non-null   float64\n",
      " 3   GDP_per_Capita             4000 non-null   float64\n",
      " 4   Social_Support             4000 non-null   float64\n",
      " 5   Healthy_Life_Expectancy    4000 non-null   float64\n",
      " 6   Freedom                    4000 non-null   float64\n",
      " 7   Generosity                 4000 non-null   float64\n",
      " 8   Corruption_Perception      4000 non-null   float64\n",
      " 9   Unemployment_Rate          4000 non-null   float64\n",
      " 10  Education_Index            4000 non-null   float64\n",
      " 11  Population                 4000 non-null   int64  \n",
      " 12  Urbanization_Rate          4000 non-null   float64\n",
      " 13  Life_Satisfaction          4000 non-null   float64\n",
      " 14  Public_Trust               4000 non-null   float64\n",
      " 15  Mental_Health_Index        4000 non-null   float64\n",
      " 16  Income_Inequality          4000 non-null   float64\n",
      " 17  Public_Health_Expenditure  4000 non-null   float64\n",
      " 18  Climate_Index              4000 non-null   float64\n",
      " 19  Work_Life_Balance          4000 non-null   float64\n",
      " 20  Internet_Access            4000 non-null   float64\n",
      " 21  Crime_Rate                 4000 non-null   float64\n",
      " 22  Political_Stability        4000 non-null   float64\n",
      " 23  Employment_Rate            4000 non-null   float64\n",
      "dtypes: float64(21), int64(2), object(1)\n",
      "memory usage: 750.1+ KB\n",
      "None\n"
     ]
    }
   ],
   "execution_count": 5
  },
  {
   "metadata": {
    "ExecuteTime": {
     "end_time": "2025-04-13T17:46:03.390305Z",
     "start_time": "2025-04-13T17:46:03.245742Z"
    }
   },
   "cell_type": "code",
   "source": [
    "print(\"\\nОписательная статистика:\")\n",
    "print(data.describe())"
   ],
   "id": "24144b4b10648f57",
   "outputs": [
    {
     "name": "stdout",
     "output_type": "stream",
     "text": [
      "\n",
      "Описательная статистика:\n",
      "              Year  Happiness_Score  GDP_per_Capita  Social_Support  \\\n",
      "count  4000.000000      4000.000000     4000.000000     4000.000000   \n",
      "mean   2014.670750         5.455005    30482.009953        0.505860   \n",
      "std       5.724075         1.427370    17216.122032        0.286202   \n",
      "min    2005.000000         3.000000     1009.310000        0.000000   \n",
      "25%    2010.000000         4.237500    15425.125000        0.260000   \n",
      "50%    2015.000000         5.430000    29991.255000        0.510000   \n",
      "75%    2020.000000         6.662500    45763.085000        0.750000   \n",
      "max    2024.000000         8.000000    59980.720000        1.000000   \n",
      "\n",
      "       Healthy_Life_Expectancy      Freedom   Generosity  \\\n",
      "count              4000.000000  4000.000000  4000.000000   \n",
      "mean                 67.917605     0.502723     0.143960   \n",
      "std                  10.172091     0.285219     0.200088   \n",
      "min                  50.000000     0.000000    -0.200000   \n",
      "25%                  59.177500     0.260000    -0.030000   \n",
      "50%                  68.015000     0.500000     0.140000   \n",
      "75%                  76.690000     0.750000     0.310000   \n",
      "max                  85.000000     1.000000     0.500000   \n",
      "\n",
      "       Corruption_Perception  Unemployment_Rate  Education_Index  ...  \\\n",
      "count            4000.000000        4000.000000      4000.000000  ...   \n",
      "mean                0.498920          10.966748         0.750385  ...   \n",
      "std                 0.288866           5.210712         0.144819  ...   \n",
      "min                 0.000000           2.000000         0.500000  ...   \n",
      "25%                 0.240000           6.450000         0.630000  ...   \n",
      "50%                 0.500000          10.995000         0.750000  ...   \n",
      "75%                 0.742500          15.450000         0.880000  ...   \n",
      "max                 1.000000          19.990000         1.000000  ...   \n",
      "\n",
      "       Public_Trust  Mental_Health_Index  Income_Inequality  \\\n",
      "count   4000.000000          4000.000000        4000.000000   \n",
      "mean       0.502812            69.976853          40.002648   \n",
      "std        0.289186            17.128536          11.634987   \n",
      "min        0.000000            40.000000          20.010000   \n",
      "25%        0.260000            55.580000          29.865000   \n",
      "50%        0.500000            69.650000          40.015000   \n",
      "75%        0.760000            84.582500          50.187500   \n",
      "max        1.000000           100.000000          59.970000   \n",
      "\n",
      "       Public_Health_Expenditure  Climate_Index  Work_Life_Balance  \\\n",
      "count                4000.000000    4000.000000        4000.000000   \n",
      "mean                    6.009270      65.176380           5.987325   \n",
      "std                     2.291172      19.981357           1.725363   \n",
      "min                     2.010000      30.010000           3.000000   \n",
      "25%                     4.040000      48.170000           4.460000   \n",
      "50%                     6.070000      64.755000           6.020000   \n",
      "75%                     8.010000      82.652500           7.490000   \n",
      "max                    10.000000      99.990000           9.000000   \n",
      "\n",
      "       Internet_Access   Crime_Rate  Political_Stability  Employment_Rate  \n",
      "count      4000.000000  4000.000000          4000.000000      4000.000000  \n",
      "mean         67.586327    45.526322             0.494105        74.021450  \n",
      "std          15.769023    20.300069             0.293191        13.906888  \n",
      "min          40.010000    10.030000             0.000000        50.000000  \n",
      "25%          53.910000    27.840000             0.230000        61.867500  \n",
      "50%          68.015000    45.760000             0.490000        74.475000  \n",
      "75%          81.332500    63.197500             0.760000        85.912500  \n",
      "max          94.990000    79.990000             1.000000        98.000000  \n",
      "\n",
      "[8 rows x 23 columns]\n"
     ]
    }
   ],
   "execution_count": 6
  },
  {
   "metadata": {},
   "cell_type": "markdown",
   "source": "2. Предобработка данных",
   "id": "4c778a6a3feb0294"
  },
  {
   "metadata": {},
   "cell_type": "markdown",
   "source": "Проверка пропущенных значений",
   "id": "ccc8d3a78db54048"
  },
  {
   "metadata": {
    "ExecuteTime": {
     "end_time": "2025-04-13T17:46:07.759991Z",
     "start_time": "2025-04-13T17:46:07.746420Z"
    }
   },
   "cell_type": "code",
   "source": [
    "print(\"Пропущенные значения:\")\n",
    "print(data.isnull().sum())"
   ],
   "id": "48b621676ea7613b",
   "outputs": [
    {
     "name": "stdout",
     "output_type": "stream",
     "text": [
      "Пропущенные значения:\n",
      "Country                      0\n",
      "Year                         0\n",
      "Happiness_Score              0\n",
      "GDP_per_Capita               0\n",
      "Social_Support               0\n",
      "Healthy_Life_Expectancy      0\n",
      "Freedom                      0\n",
      "Generosity                   0\n",
      "Corruption_Perception        0\n",
      "Unemployment_Rate            0\n",
      "Education_Index              0\n",
      "Population                   0\n",
      "Urbanization_Rate            0\n",
      "Life_Satisfaction            0\n",
      "Public_Trust                 0\n",
      "Mental_Health_Index          0\n",
      "Income_Inequality            0\n",
      "Public_Health_Expenditure    0\n",
      "Climate_Index                0\n",
      "Work_Life_Balance            0\n",
      "Internet_Access              0\n",
      "Crime_Rate                   0\n",
      "Political_Stability          0\n",
      "Employment_Rate              0\n",
      "dtype: int64\n"
     ]
    }
   ],
   "execution_count": 7
  },
  {
   "metadata": {
    "ExecuteTime": {
     "end_time": "2025-04-13T17:46:08.752698Z",
     "start_time": "2025-04-13T17:46:08.669870Z"
    }
   },
   "cell_type": "code",
   "source": [
    "numeric_cols = data.select_dtypes(include=[np.number]).columns\n",
    "data[numeric_cols] = data[numeric_cols].fillna(data[numeric_cols].median())\n",
    "\n",
    "# Кодирование категориальной переменной Country\n",
    "data = pd.get_dummies(data, columns=['Country'], drop_first=True)\n",
    "\n",
    "# Выделение признаков и целевой переменной\n",
    "X = data.drop('Happiness_Score', axis=1)\n",
    "y = data['Happiness_Score']\n",
    "\n",
    "# Масштабирование признаков\n",
    "scaler = StandardScaler()\n",
    "X_scaled = scaler.fit_transform(X)\n",
    "\n",
    "# Разделение на обучающую и тестовую выборки\n",
    "X_train, X_test, y_train, y_test = train_test_split(X_scaled, y, test_size=0.3, random_state=42)"
   ],
   "id": "512a707ba82a2241",
   "outputs": [],
   "execution_count": 8
  },
  {
   "metadata": {},
   "cell_type": "markdown",
   "source": "3. Построение и оценка моделей",
   "id": "e01fd05e154e60c5"
  },
  {
   "metadata": {},
   "cell_type": "markdown",
   "source": "Линейная регрессия",
   "id": "4992ea92eeef6cbc"
  },
  {
   "metadata": {
    "ExecuteTime": {
     "end_time": "2025-04-13T17:46:13.922024Z",
     "start_time": "2025-04-13T17:46:13.530401Z"
    }
   },
   "cell_type": "code",
   "source": [
    "# Создание и обучение модели\n",
    "lr = LinearRegression()\n",
    "lr.fit(X_train, y_train)\n",
    "\n",
    "# Прогнозирование\n",
    "y_pred_lr = lr.predict(X_test)\n",
    "\n",
    "# Оценка качества\n",
    "mse_lr = mean_squared_error(y_test, y_pred_lr)\n",
    "rmse_lr = np.sqrt(mse_lr)\n",
    "mae_lr = mean_absolute_error(y_test, y_pred_lr)\n",
    "r2_lr = r2_score(y_test, y_pred_lr)\n",
    "\n",
    "print(\"\\nЛинейная регрессия:\")\n",
    "print(f\"RMSE: {rmse_lr:.4f}\")\n",
    "print(f\"MAE: {mae_lr:.4f}\")\n",
    "print(f\"R²: {r2_lr:.4f}\")"
   ],
   "id": "aab0bb19a34408ac",
   "outputs": [
    {
     "name": "stdout",
     "output_type": "stream",
     "text": [
      "\n",
      "Линейная регрессия:\n",
      "RMSE: 1.4437\n",
      "MAE: 1.2501\n",
      "R²: -0.0128\n"
     ]
    }
   ],
   "execution_count": 9
  },
  {
   "metadata": {},
   "cell_type": "markdown",
   "source": "Градиентный бустинг",
   "id": "6feded98a2acee93"
  },
  {
   "metadata": {
    "ExecuteTime": {
     "end_time": "2025-04-13T17:46:18.297392Z",
     "start_time": "2025-04-13T17:46:15.415945Z"
    }
   },
   "cell_type": "code",
   "source": [
    "# Создание и обучение модели\n",
    "gb = GradientBoostingRegressor(n_estimators=100, random_state=42)\n",
    "gb.fit(X_train, y_train)\n",
    "\n",
    "# Прогнозирование\n",
    "y_pred_gb = gb.predict(X_test)\n",
    "\n",
    "# Оценка качества\n",
    "mse_gb = mean_squared_error(y_test, y_pred_gb)\n",
    "rmse_gb = np.sqrt(mse_gb)\n",
    "mae_gb = mean_absolute_error(y_test, y_pred_gb)\n",
    "r2_gb = r2_score(y_test, y_pred_gb)\n",
    "\n",
    "print(\"\\nГрадиентный бустинг:\")\n",
    "print(f\"RMSE: {rmse_gb:.4f}\")\n",
    "print(f\"MAE: {mae_gb:.4f}\")\n",
    "print(f\"R²: {r2_gb:.4f}\")"
   ],
   "id": "c285a8448ecd4e32",
   "outputs": [
    {
     "name": "stdout",
     "output_type": "stream",
     "text": [
      "\n",
      "Градиентный бустинг:\n",
      "RMSE: 1.4621\n",
      "MAE: 1.2662\n",
      "R²: -0.0389\n"
     ]
    }
   ],
   "execution_count": 10
  },
  {
   "metadata": {},
   "cell_type": "markdown",
   "source": "4. Сравнение моделей и выводы",
   "id": "142fa03cbf201cb0"
  },
  {
   "metadata": {
    "ExecuteTime": {
     "end_time": "2025-04-13T17:46:21.660023Z",
     "start_time": "2025-04-13T17:46:20.740436Z"
    }
   },
   "cell_type": "code",
   "source": [
    "# Создание таблицы результатов\n",
    "results = pd.DataFrame({\n",
    "    'Метрика': ['RMSE', 'MAE', 'R²'],\n",
    "    'Линейная регрессия': [rmse_lr, mae_lr, r2_lr],\n",
    "    'Градиентный бустинг': [rmse_gb, mae_gb, r2_gb]\n",
    "})\n",
    "\n",
    "print(\"\\nСравнение моделей:\")\n",
    "print(results)\n",
    "\n",
    "# Визуализация важности признаков для градиентного бустинга\n",
    "feature_importance = pd.DataFrame({\n",
    "    'Признак': X.columns,\n",
    "    'Важность': gb.feature_importances_\n",
    "}).sort_values('Важность', ascending=False)\n",
    "\n",
    "plt.figure(figsize=(12, 8))\n",
    "sns.barplot(x='Важность', y='Признак', data=feature_importance.head(10))\n",
    "plt.title('Топ-10 важнейших признаков (Градиентный бустинг)')\n",
    "plt.show()"
   ],
   "id": "74db5b9ca6bc2fa",
   "outputs": [
    {
     "name": "stdout",
     "output_type": "stream",
     "text": [
      "\n",
      "Сравнение моделей:\n",
      "  Метрика  Линейная регрессия  Градиентный бустинг\n",
      "0    RMSE            1.443697             1.462146\n",
      "1     MAE            1.250058             1.266245\n",
      "2      R²           -0.012831            -0.038883\n"
     ]
    },
    {
     "data": {
      "text/plain": [
       "<Figure size 1200x800 with 1 Axes>"
      ],
      "image/png": "[encoded data removed]"
     },
     "metadata": {},
     "output_type": "display_data"
    }
   ],
   "execution_count": 11
  },
  {
   "metadata": {},
   "cell_type": "code",
   "outputs": [],
   "execution_count": null,
   "source": "",
   "id": "52dd232877b7878b"
  }
 ],
 "metadata": {
  "kernelspec": {
   "display_name": "Python 3",
   "language": "python",
   "name": "python3"
  },
  "language_info": {
   "codemirror_mode": {
    "name": "ipython",
    "version": 2
   },
   "file_extension": ".py",
   "mimetype": "text/x-python",
   "name": "python",
   "nbconvert_exporter": "python",
   "pygments_lexer": "ipython2",
   "version": "2.7.6"
  }
 },
 "nbformat": 4,
 "nbformat_minor": 5
}
