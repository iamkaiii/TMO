{
 "cells": [
  {
   "cell_type": "markdown",
   "metadata": {},
   "source": [
    "# Обработка пропусков в данных, кодирование категориальных признаков, масштабирование данных.\n",
    "\n",
    "Мы научимся обрабатывать пропуски в данных для количественных (числовых) и категориальных признаков и масштабировать данные. Также мы научимся преобразовывать категориальные признаки в числовые."
   ]
  },
  {
   "cell_type": "markdown",
   "metadata": {},
   "source": [
    "### В чем состоит проблема?\n",
    "\n",
    "- Если в данных есть пропуски, то большинство алгоритмов машинного обучения не будут с ними работать. Даже корреляционная матрица не будет строиться корректно.\n",
    "- Большинство алгоритмов машинного обучения требуют явного перекодирования категориальных признаков в числовые. Даже если алгоритм не требует этого явно, такое перекодирование возможно стоит попробовать, чтобы повысить качество модели.\n",
    "- Большинство алгоритмов показывает лучшее качество на масштабированных признаках, в особенности алгоритмы, использующие методы градиентного спуска.\n"
   ]
  },
  {
   "cell_type": "code",
   "metadata": {
    "ExecuteTime": {
     "end_time": "2025-03-06T09:26:33.440259Z",
     "start_time": "2025-03-06T09:26:33.415084Z"
    }
   },
   "source": [
    "import numpy as np\n",
    "import pandas as pd\n",
    "import seaborn as sns\n",
    "import matplotlib.pyplot as plt\n",
    "%matplotlib inline \n",
    "sns.set(style=\"ticks\")"
   ],
   "outputs": [],
   "execution_count": 1
  },
  {
   "cell_type": "markdown",
   "metadata": {},
   "source": [
    "## Загрузка и первичный анализ данных\n",
    "\n",
    "Используем данные из(https://www.kaggle.com/datasets/gauravkumar2525/shark-attacks?resource=download)"
   ]
  },
  {
   "cell_type": "code",
   "metadata": {
    "ExecuteTime": {
     "end_time": "2025-03-06T09:29:08.469173Z",
     "start_time": "2025-03-06T09:29:08.418605Z"
    }
   },
   "source": [
    "# Будем использовать только обучающую выборку\n",
    "data = pd.read_csv('../datasets/global_shark_attacks.csv', sep=\",\")"
   ],
   "outputs": [],
   "execution_count": 10
  },
  {
   "cell_type": "code",
   "metadata": {
    "ExecuteTime": {
     "end_time": "2025-03-06T09:29:12.504021Z",
     "start_time": "2025-03-06T09:29:12.492383Z"
    }
   },
   "source": [
    "# размер набора данных\n",
    "data.shape"
   ],
   "outputs": [
    {
     "data": {
      "text/plain": [
       "(6890, 13)"
      ]
     },
     "execution_count": 11,
     "metadata": {},
     "output_type": "execute_result"
    }
   ],
   "execution_count": 11
  },
  {
   "cell_type": "code",
   "metadata": {
    "ExecuteTime": {
     "end_time": "2025-03-06T09:29:17.396619Z",
     "start_time": "2025-03-06T09:29:17.389653Z"
    }
   },
   "source": [
    "# типы колонок\n",
    "data.dtypes"
   ],
   "outputs": [
    {
     "data": {
      "text/plain": [
       "date          object\n",
       "year         float64\n",
       "type          object\n",
       "country       object\n",
       "area          object\n",
       "location      object\n",
       "activity      object\n",
       "name          object\n",
       "sex           object\n",
       "age           object\n",
       "fatal_y_n     object\n",
       "time          object\n",
       "species       object\n",
       "dtype: object"
      ]
     },
     "execution_count": 12,
     "metadata": {},
     "output_type": "execute_result"
    }
   ],
   "execution_count": 12
  },
  {
   "cell_type": "code",
   "metadata": {
    "ExecuteTime": {
     "end_time": "2025-03-06T09:29:39.008263Z",
     "start_time": "2025-03-06T09:29:38.992188Z"
    }
   },
   "source": [
    "# проверим есть ли пропущенные значения\n",
    "data.isnull().sum()"
   ],
   "outputs": [
    {
     "data": {
      "text/plain": [
       "date          303\n",
       "year          132\n",
       "type           19\n",
       "country        51\n",
       "area          481\n",
       "location      565\n",
       "activity      586\n",
       "name          220\n",
       "sex           572\n",
       "age          2987\n",
       "fatal_y_n       0\n",
       "time         3518\n",
       "species      3118\n",
       "dtype: int64"
      ]
     },
     "execution_count": 13,
     "metadata": {},
     "output_type": "execute_result"
    }
   ],
   "execution_count": 13
  },
  {
   "cell_type": "code",
   "metadata": {
    "ExecuteTime": {
     "end_time": "2025-03-06T09:29:47.121241Z",
     "start_time": "2025-03-06T09:29:47.105920Z"
    }
   },
   "source": [
    "# Первые 5 строк датасета\n",
    "data.head()"
   ],
   "outputs": [
    {
     "data": {
      "text/plain": [
       "         date    year        type    country                area  \\\n",
       "0  2023-05-13  2023.0  Unprovoked  AUSTRALIA     South Australia   \n",
       "1  2023-04-29  2023.0  Unprovoked  AUSTRALIA   Western Australia   \n",
       "2  2022-10-07  2022.0  Unprovoked  AUSTRALIA  Western  Australia   \n",
       "3  2021-10-04  2021.0  Unprovoked        USA             Florida   \n",
       "4  2021-10-03  2021.0  Unprovoked        USA             Florida   \n",
       "\n",
       "                                   location      activity                name  \\\n",
       "0                                  Elliston       Surfing    Simon Baccanello   \n",
       "1                      Yallingup, Busselton      Swimming                male   \n",
       "2                              Port Hedland  Spearfishing         Robbie Peck   \n",
       "3  Fort Pierce State Park, St. Lucie County       Surfing  Truman Van Patrick   \n",
       "4               Jensen Beach, Martin County      Swimming                male   \n",
       "\n",
       "  sex   age fatal_y_n   time      species  \n",
       "0   M    46         Y  10h10  White shark  \n",
       "1   M   NaN         N  11h20     1m shark  \n",
       "2   M    38         N  11h30   Bull shark  \n",
       "3   M  25.0         N    NaN          NaN  \n",
       "4   M   NaN         N  12h00          NaN  "
      ],
      "text/html": [
       "<div>\n",
       "<style scoped>\n",
       "    .dataframe tbody tr th:only-of-type {\n",
       "        vertical-align: middle;\n",
       "    }\n",
       "\n",
       "    .dataframe tbody tr th {\n",
       "        vertical-align: top;\n",
       "    }\n",
       "\n",
       "    .dataframe thead th {\n",
       "        text-align: right;\n",
       "    }\n",
       "</style>\n",
       "<table border=\"1\" class=\"dataframe\">\n",
       "  <thead>\n",
       "    <tr style=\"text-align: right;\">\n",
       "      <th></th>\n",
       "      <th>date</th>\n",
       "      <th>year</th>\n",
       "      <th>type</th>\n",
       "      <th>country</th>\n",
       "      <th>area</th>\n",
       "      <th>location</th>\n",
       "      <th>activity</th>\n",
       "      <th>name</th>\n",
       "      <th>sex</th>\n",
       "      <th>age</th>\n",
       "      <th>fatal_y_n</th>\n",
       "      <th>time</th>\n",
       "      <th>species</th>\n",
       "    </tr>\n",
       "  </thead>\n",
       "  <tbody>\n",
       "    <tr>\n",
       "      <th>0</th>\n",
       "      <td>2023-05-13</td>\n",
       "      <td>2023.0</td>\n",
       "      <td>Unprovoked</td>\n",
       "      <td>AUSTRALIA</td>\n",
       "      <td>South Australia</td>\n",
       "      <td>Elliston</td>\n",
       "      <td>Surfing</td>\n",
       "      <td>Simon Baccanello</td>\n",
       "      <td>M</td>\n",
       "      <td>46</td>\n",
       "      <td>Y</td>\n",
       "      <td>10h10</td>\n",
       "      <td>White shark</td>\n",
       "    </tr>\n",
       "    <tr>\n",
       "      <th>1</th>\n",
       "      <td>2023-04-29</td>\n",
       "      <td>2023.0</td>\n",
       "      <td>Unprovoked</td>\n",
       "      <td>AUSTRALIA</td>\n",
       "      <td>Western Australia</td>\n",
       "      <td>Yallingup, Busselton</td>\n",
       "      <td>Swimming</td>\n",
       "      <td>male</td>\n",
       "      <td>M</td>\n",
       "      <td>NaN</td>\n",
       "      <td>N</td>\n",
       "      <td>11h20</td>\n",
       "      <td>1m shark</td>\n",
       "    </tr>\n",
       "    <tr>\n",
       "      <th>2</th>\n",
       "      <td>2022-10-07</td>\n",
       "      <td>2022.0</td>\n",
       "      <td>Unprovoked</td>\n",
       "      <td>AUSTRALIA</td>\n",
       "      <td>Western  Australia</td>\n",
       "      <td>Port Hedland</td>\n",
       "      <td>Spearfishing</td>\n",
       "      <td>Robbie Peck</td>\n",
       "      <td>M</td>\n",
       "      <td>38</td>\n",
       "      <td>N</td>\n",
       "      <td>11h30</td>\n",
       "      <td>Bull shark</td>\n",
       "    </tr>\n",
       "    <tr>\n",
       "      <th>3</th>\n",
       "      <td>2021-10-04</td>\n",
       "      <td>2021.0</td>\n",
       "      <td>Unprovoked</td>\n",
       "      <td>USA</td>\n",
       "      <td>Florida</td>\n",
       "      <td>Fort Pierce State Park, St. Lucie County</td>\n",
       "      <td>Surfing</td>\n",
       "      <td>Truman Van Patrick</td>\n",
       "      <td>M</td>\n",
       "      <td>25.0</td>\n",
       "      <td>N</td>\n",
       "      <td>NaN</td>\n",
       "      <td>NaN</td>\n",
       "    </tr>\n",
       "    <tr>\n",
       "      <th>4</th>\n",
       "      <td>2021-10-03</td>\n",
       "      <td>2021.0</td>\n",
       "      <td>Unprovoked</td>\n",
       "      <td>USA</td>\n",
       "      <td>Florida</td>\n",
       "      <td>Jensen Beach, Martin County</td>\n",
       "      <td>Swimming</td>\n",
       "      <td>male</td>\n",
       "      <td>M</td>\n",
       "      <td>NaN</td>\n",
       "      <td>N</td>\n",
       "      <td>12h00</td>\n",
       "      <td>NaN</td>\n",
       "    </tr>\n",
       "  </tbody>\n",
       "</table>\n",
       "</div>"
      ]
     },
     "execution_count": 14,
     "metadata": {},
     "output_type": "execute_result"
    }
   ],
   "execution_count": 14
  },
  {
   "cell_type": "code",
   "metadata": {
    "ExecuteTime": {
     "end_time": "2025-03-06T09:29:51.518772Z",
     "start_time": "2025-03-06T09:29:51.508569Z"
    }
   },
   "source": [
    "total_count = data.shape[0]\n",
    "print('Всего строк: {}'.format(total_count))"
   ],
   "outputs": [
    {
     "name": "stdout",
     "output_type": "stream",
     "text": [
      "Всего строк: 6890\n"
     ]
    }
   ],
   "execution_count": 15
  },
  {
   "cell_type": "markdown",
   "metadata": {},
   "source": [
    "# Обработка пропусков в данных"
   ]
  },
  {
   "cell_type": "markdown",
   "metadata": {},
   "source": [
    "## Простые стратегии - удаление или заполнение нулями\n",
    "\n",
    "Удаление колонок, содержащих пустые значения\n",
    "`res = data.dropna(axis=1, how='any')`\n",
    "\n",
    "Удаление строк, содержащих пустые значения\n",
    "`res = data.dropna(axis=0, how='any')`\n",
    "\n",
    "[Документация](https://pandas.pydata.org/pandas-docs/stable/reference/api/pandas.DataFrame.dropna.html)\n",
    "\n",
    "**Удаление может производиться для группы строк или колонок.**"
   ]
  },
  {
   "cell_type": "code",
   "metadata": {
    "ExecuteTime": {
     "end_time": "2025-03-06T09:30:09.828311Z",
     "start_time": "2025-03-06T09:30:09.811457Z"
    }
   },
   "source": [
    "# Удаление колонок, содержащих пустые значения\n",
    "data_new_1 = data.dropna(axis=1, how='any')\n",
    "(data.shape, data_new_1.shape)"
   ],
   "outputs": [
    {
     "data": {
      "text/plain": [
       "((6890, 13), (6890, 1))"
      ]
     },
     "execution_count": 16,
     "metadata": {},
     "output_type": "execute_result"
    }
   ],
   "execution_count": 16
  },
  {
   "cell_type": "code",
   "metadata": {
    "ExecuteTime": {
     "end_time": "2025-03-06T09:30:28.606359Z",
     "start_time": "2025-03-06T09:30:28.594434Z"
    }
   },
   "source": [
    "# Удаление строк, содержащих пустые значения\n",
    "data_new_2 = data.dropna(axis=0, how='any')\n",
    "(data.shape, data_new_2.shape)"
   ],
   "outputs": [
    {
     "data": {
      "text/plain": [
       "((6890, 13), (1653, 13))"
      ]
     },
     "execution_count": 17,
     "metadata": {},
     "output_type": "execute_result"
    }
   ],
   "execution_count": 17
  },
  {
   "cell_type": "code",
   "metadata": {
    "ExecuteTime": {
     "end_time": "2025-03-06T09:30:43.645735Z",
     "start_time": "2025-03-06T09:30:43.629087Z"
    }
   },
   "source": [
    "data.head()"
   ],
   "outputs": [
    {
     "data": {
      "text/plain": [
       "         date    year        type    country                area  \\\n",
       "0  2023-05-13  2023.0  Unprovoked  AUSTRALIA     South Australia   \n",
       "1  2023-04-29  2023.0  Unprovoked  AUSTRALIA   Western Australia   \n",
       "2  2022-10-07  2022.0  Unprovoked  AUSTRALIA  Western  Australia   \n",
       "3  2021-10-04  2021.0  Unprovoked        USA             Florida   \n",
       "4  2021-10-03  2021.0  Unprovoked        USA             Florida   \n",
       "\n",
       "                                   location      activity                name  \\\n",
       "0                                  Elliston       Surfing    Simon Baccanello   \n",
       "1                      Yallingup, Busselton      Swimming                male   \n",
       "2                              Port Hedland  Spearfishing         Robbie Peck   \n",
       "3  Fort Pierce State Park, St. Lucie County       Surfing  Truman Van Patrick   \n",
       "4               Jensen Beach, Martin County      Swimming                male   \n",
       "\n",
       "  sex   age fatal_y_n   time      species  \n",
       "0   M    46         Y  10h10  White shark  \n",
       "1   M   NaN         N  11h20     1m shark  \n",
       "2   M    38         N  11h30   Bull shark  \n",
       "3   M  25.0         N    NaN          NaN  \n",
       "4   M   NaN         N  12h00          NaN  "
      ],
      "text/html": [
       "<div>\n",
       "<style scoped>\n",
       "    .dataframe tbody tr th:only-of-type {\n",
       "        vertical-align: middle;\n",
       "    }\n",
       "\n",
       "    .dataframe tbody tr th {\n",
       "        vertical-align: top;\n",
       "    }\n",
       "\n",
       "    .dataframe thead th {\n",
       "        text-align: right;\n",
       "    }\n",
       "</style>\n",
       "<table border=\"1\" class=\"dataframe\">\n",
       "  <thead>\n",
       "    <tr style=\"text-align: right;\">\n",
       "      <th></th>\n",
       "      <th>date</th>\n",
       "      <th>year</th>\n",
       "      <th>type</th>\n",
       "      <th>country</th>\n",
       "      <th>area</th>\n",
       "      <th>location</th>\n",
       "      <th>activity</th>\n",
       "      <th>name</th>\n",
       "      <th>sex</th>\n",
       "      <th>age</th>\n",
       "      <th>fatal_y_n</th>\n",
       "      <th>time</th>\n",
       "      <th>species</th>\n",
       "    </tr>\n",
       "  </thead>\n",
       "  <tbody>\n",
       "    <tr>\n",
       "      <th>0</th>\n",
       "      <td>2023-05-13</td>\n",
       "      <td>2023.0</td>\n",
       "      <td>Unprovoked</td>\n",
       "      <td>AUSTRALIA</td>\n",
       "      <td>South Australia</td>\n",
       "      <td>Elliston</td>\n",
       "      <td>Surfing</td>\n",
       "      <td>Simon Baccanello</td>\n",
       "      <td>M</td>\n",
       "      <td>46</td>\n",
       "      <td>Y</td>\n",
       "      <td>10h10</td>\n",
       "      <td>White shark</td>\n",
       "    </tr>\n",
       "    <tr>\n",
       "      <th>1</th>\n",
       "      <td>2023-04-29</td>\n",
       "      <td>2023.0</td>\n",
       "      <td>Unprovoked</td>\n",
       "      <td>AUSTRALIA</td>\n",
       "      <td>Western Australia</td>\n",
       "      <td>Yallingup, Busselton</td>\n",
       "      <td>Swimming</td>\n",
       "      <td>male</td>\n",
       "      <td>M</td>\n",
       "      <td>NaN</td>\n",
       "      <td>N</td>\n",
       "      <td>11h20</td>\n",
       "      <td>1m shark</td>\n",
       "    </tr>\n",
       "    <tr>\n",
       "      <th>2</th>\n",
       "      <td>2022-10-07</td>\n",
       "      <td>2022.0</td>\n",
       "      <td>Unprovoked</td>\n",
       "      <td>AUSTRALIA</td>\n",
       "      <td>Western  Australia</td>\n",
       "      <td>Port Hedland</td>\n",
       "      <td>Spearfishing</td>\n",
       "      <td>Robbie Peck</td>\n",
       "      <td>M</td>\n",
       "      <td>38</td>\n",
       "      <td>N</td>\n",
       "      <td>11h30</td>\n",
       "      <td>Bull shark</td>\n",
       "    </tr>\n",
       "    <tr>\n",
       "      <th>3</th>\n",
       "      <td>2021-10-04</td>\n",
       "      <td>2021.0</td>\n",
       "      <td>Unprovoked</td>\n",
       "      <td>USA</td>\n",
       "      <td>Florida</td>\n",
       "      <td>Fort Pierce State Park, St. Lucie County</td>\n",
       "      <td>Surfing</td>\n",
       "      <td>Truman Van Patrick</td>\n",
       "      <td>M</td>\n",
       "      <td>25.0</td>\n",
       "      <td>N</td>\n",
       "      <td>NaN</td>\n",
       "      <td>NaN</td>\n",
       "    </tr>\n",
       "    <tr>\n",
       "      <th>4</th>\n",
       "      <td>2021-10-03</td>\n",
       "      <td>2021.0</td>\n",
       "      <td>Unprovoked</td>\n",
       "      <td>USA</td>\n",
       "      <td>Florida</td>\n",
       "      <td>Jensen Beach, Martin County</td>\n",
       "      <td>Swimming</td>\n",
       "      <td>male</td>\n",
       "      <td>M</td>\n",
       "      <td>NaN</td>\n",
       "      <td>N</td>\n",
       "      <td>12h00</td>\n",
       "      <td>NaN</td>\n",
       "    </tr>\n",
       "  </tbody>\n",
       "</table>\n",
       "</div>"
      ]
     },
     "execution_count": 18,
     "metadata": {},
     "output_type": "execute_result"
    }
   ],
   "execution_count": 18
  },
  {
   "cell_type": "code",
   "metadata": {
    "ExecuteTime": {
     "end_time": "2025-03-06T09:31:14.316278Z",
     "start_time": "2025-03-06T09:31:14.289813Z"
    }
   },
   "source": [
    "# Заполнение всех пропущенных значений нулями\n",
    "# В данном случае это некорректно, так как нулями заполняются в том числе категориальные колонки\n",
    "data_new_3 = data.fillna(0)\n",
    "data_new_3.head()"
   ],
   "outputs": [
    {
     "data": {
      "text/plain": [
       "         date    year        type    country                area  \\\n",
       "0  2023-05-13  2023.0  Unprovoked  AUSTRALIA     South Australia   \n",
       "1  2023-04-29  2023.0  Unprovoked  AUSTRALIA   Western Australia   \n",
       "2  2022-10-07  2022.0  Unprovoked  AUSTRALIA  Western  Australia   \n",
       "3  2021-10-04  2021.0  Unprovoked        USA             Florida   \n",
       "4  2021-10-03  2021.0  Unprovoked        USA             Florida   \n",
       "\n",
       "                                   location      activity                name  \\\n",
       "0                                  Elliston       Surfing    Simon Baccanello   \n",
       "1                      Yallingup, Busselton      Swimming                male   \n",
       "2                              Port Hedland  Spearfishing         Robbie Peck   \n",
       "3  Fort Pierce State Park, St. Lucie County       Surfing  Truman Van Patrick   \n",
       "4               Jensen Beach, Martin County      Swimming                male   \n",
       "\n",
       "  sex   age fatal_y_n   time      species  \n",
       "0   M    46         Y  10h10  White shark  \n",
       "1   M     0         N  11h20     1m shark  \n",
       "2   M    38         N  11h30   Bull shark  \n",
       "3   M  25.0         N      0            0  \n",
       "4   M     0         N  12h00            0  "
      ],
      "text/html": [
       "<div>\n",
       "<style scoped>\n",
       "    .dataframe tbody tr th:only-of-type {\n",
       "        vertical-align: middle;\n",
       "    }\n",
       "\n",
       "    .dataframe tbody tr th {\n",
       "        vertical-align: top;\n",
       "    }\n",
       "\n",
       "    .dataframe thead th {\n",
       "        text-align: right;\n",
       "    }\n",
       "</style>\n",
       "<table border=\"1\" class=\"dataframe\">\n",
       "  <thead>\n",
       "    <tr style=\"text-align: right;\">\n",
       "      <th></th>\n",
       "      <th>date</th>\n",
       "      <th>year</th>\n",
       "      <th>type</th>\n",
       "      <th>country</th>\n",
       "      <th>area</th>\n",
       "      <th>location</th>\n",
       "      <th>activity</th>\n",
       "      <th>name</th>\n",
       "      <th>sex</th>\n",
       "      <th>age</th>\n",
       "      <th>fatal_y_n</th>\n",
       "      <th>time</th>\n",
       "      <th>species</th>\n",
       "    </tr>\n",
       "  </thead>\n",
       "  <tbody>\n",
       "    <tr>\n",
       "      <th>0</th>\n",
       "      <td>2023-05-13</td>\n",
       "      <td>2023.0</td>\n",
       "      <td>Unprovoked</td>\n",
       "      <td>AUSTRALIA</td>\n",
       "      <td>South Australia</td>\n",
       "      <td>Elliston</td>\n",
       "      <td>Surfing</td>\n",
       "      <td>Simon Baccanello</td>\n",
       "      <td>M</td>\n",
       "      <td>46</td>\n",
       "      <td>Y</td>\n",
       "      <td>10h10</td>\n",
       "      <td>White shark</td>\n",
       "    </tr>\n",
       "    <tr>\n",
       "      <th>1</th>\n",
       "      <td>2023-04-29</td>\n",
       "      <td>2023.0</td>\n",
       "      <td>Unprovoked</td>\n",
       "      <td>AUSTRALIA</td>\n",
       "      <td>Western Australia</td>\n",
       "      <td>Yallingup, Busselton</td>\n",
       "      <td>Swimming</td>\n",
       "      <td>male</td>\n",
       "      <td>M</td>\n",
       "      <td>0</td>\n",
       "      <td>N</td>\n",
       "      <td>11h20</td>\n",
       "      <td>1m shark</td>\n",
       "    </tr>\n",
       "    <tr>\n",
       "      <th>2</th>\n",
       "      <td>2022-10-07</td>\n",
       "      <td>2022.0</td>\n",
       "      <td>Unprovoked</td>\n",
       "      <td>AUSTRALIA</td>\n",
       "      <td>Western  Australia</td>\n",
       "      <td>Port Hedland</td>\n",
       "      <td>Spearfishing</td>\n",
       "      <td>Robbie Peck</td>\n",
       "      <td>M</td>\n",
       "      <td>38</td>\n",
       "      <td>N</td>\n",
       "      <td>11h30</td>\n",
       "      <td>Bull shark</td>\n",
       "    </tr>\n",
       "    <tr>\n",
       "      <th>3</th>\n",
       "      <td>2021-10-04</td>\n",
       "      <td>2021.0</td>\n",
       "      <td>Unprovoked</td>\n",
       "      <td>USA</td>\n",
       "      <td>Florida</td>\n",
       "      <td>Fort Pierce State Park, St. Lucie County</td>\n",
       "      <td>Surfing</td>\n",
       "      <td>Truman Van Patrick</td>\n",
       "      <td>M</td>\n",
       "      <td>25.0</td>\n",
       "      <td>N</td>\n",
       "      <td>0</td>\n",
       "      <td>0</td>\n",
       "    </tr>\n",
       "    <tr>\n",
       "      <th>4</th>\n",
       "      <td>2021-10-03</td>\n",
       "      <td>2021.0</td>\n",
       "      <td>Unprovoked</td>\n",
       "      <td>USA</td>\n",
       "      <td>Florida</td>\n",
       "      <td>Jensen Beach, Martin County</td>\n",
       "      <td>Swimming</td>\n",
       "      <td>male</td>\n",
       "      <td>M</td>\n",
       "      <td>0</td>\n",
       "      <td>N</td>\n",
       "      <td>12h00</td>\n",
       "      <td>0</td>\n",
       "    </tr>\n",
       "  </tbody>\n",
       "</table>\n",
       "</div>"
      ]
     },
     "execution_count": 19,
     "metadata": {},
     "output_type": "execute_result"
    }
   ],
   "execution_count": 19
  },
  {
   "cell_type": "markdown",
   "metadata": {},
   "source": [
    "## \"Внедрение значений\" - импьютация (imputation)"
   ]
  },
  {
   "cell_type": "markdown",
   "metadata": {},
   "source": [
    "### Обработка пропусков в числовых данных"
   ]
  },
  {
   "cell_type": "code",
   "metadata": {
    "ExecuteTime": {
     "end_time": "2025-03-06T09:31:28.047992Z",
     "start_time": "2025-03-06T09:31:28.023983Z"
    }
   },
   "source": [
    "# Выберем числовые колонки с пропущенными значениями\n",
    "# Цикл по колонкам датасета\n",
    "num_cols = []\n",
    "for col in data.columns:\n",
    "    # Количество пустых значений \n",
    "    temp_null_count = data[data[col].isnull()].shape[0]\n",
    "    dt = str(data[col].dtype)\n",
    "    if temp_null_count>0 and (dt=='float64' or dt=='int64'):\n",
    "        num_cols.append(col)\n",
    "        temp_perc = round((temp_null_count / total_count) * 100.0, 2)\n",
    "        print('Колонка {}. Тип данных {}. Количество пустых значений {}, {}%.'.format(col, dt, temp_null_count, temp_perc))"
   ],
   "outputs": [
    {
     "name": "stdout",
     "output_type": "stream",
     "text": [
      "Колонка year. Тип данных float64. Количество пустых значений 132, 1.92%.\n"
     ]
    }
   ],
   "execution_count": 20
  },
  {
   "cell_type": "code",
   "metadata": {
    "ExecuteTime": {
     "end_time": "2025-03-06T09:31:34.214395Z",
     "start_time": "2025-03-06T09:31:34.197233Z"
    }
   },
   "source": [
    "# Фильтр по колонкам с пропущенными значениями\n",
    "data_num = data[num_cols]\n",
    "data_num"
   ],
   "outputs": [
    {
     "data": {
      "text/plain": [
       "        year\n",
       "0     2023.0\n",
       "1     2023.0\n",
       "2     2022.0\n",
       "3     2021.0\n",
       "4     2021.0\n",
       "...      ...\n",
       "6885     NaN\n",
       "6886     NaN\n",
       "6887     NaN\n",
       "6888     NaN\n",
       "6889     NaN\n",
       "\n",
       "[6890 rows x 1 columns]"
      ],
      "text/html": [
       "<div>\n",
       "<style scoped>\n",
       "    .dataframe tbody tr th:only-of-type {\n",
       "        vertical-align: middle;\n",
       "    }\n",
       "\n",
       "    .dataframe tbody tr th {\n",
       "        vertical-align: top;\n",
       "    }\n",
       "\n",
       "    .dataframe thead th {\n",
       "        text-align: right;\n",
       "    }\n",
       "</style>\n",
       "<table border=\"1\" class=\"dataframe\">\n",
       "  <thead>\n",
       "    <tr style=\"text-align: right;\">\n",
       "      <th></th>\n",
       "      <th>year</th>\n",
       "    </tr>\n",
       "  </thead>\n",
       "  <tbody>\n",
       "    <tr>\n",
       "      <th>0</th>\n",
       "      <td>2023.0</td>\n",
       "    </tr>\n",
       "    <tr>\n",
       "      <th>1</th>\n",
       "      <td>2023.0</td>\n",
       "    </tr>\n",
       "    <tr>\n",
       "      <th>2</th>\n",
       "      <td>2022.0</td>\n",
       "    </tr>\n",
       "    <tr>\n",
       "      <th>3</th>\n",
       "      <td>2021.0</td>\n",
       "    </tr>\n",
       "    <tr>\n",
       "      <th>4</th>\n",
       "      <td>2021.0</td>\n",
       "    </tr>\n",
       "    <tr>\n",
       "      <th>...</th>\n",
       "      <td>...</td>\n",
       "    </tr>\n",
       "    <tr>\n",
       "      <th>6885</th>\n",
       "      <td>NaN</td>\n",
       "    </tr>\n",
       "    <tr>\n",
       "      <th>6886</th>\n",
       "      <td>NaN</td>\n",
       "    </tr>\n",
       "    <tr>\n",
       "      <th>6887</th>\n",
       "      <td>NaN</td>\n",
       "    </tr>\n",
       "    <tr>\n",
       "      <th>6888</th>\n",
       "      <td>NaN</td>\n",
       "    </tr>\n",
       "    <tr>\n",
       "      <th>6889</th>\n",
       "      <td>NaN</td>\n",
       "    </tr>\n",
       "  </tbody>\n",
       "</table>\n",
       "<p>6890 rows × 1 columns</p>\n",
       "</div>"
      ]
     },
     "execution_count": 21,
     "metadata": {},
     "output_type": "execute_result"
    }
   ],
   "execution_count": 21
  },
  {
   "cell_type": "code",
   "metadata": {
    "ExecuteTime": {
     "end_time": "2025-03-06T09:32:03.330621Z",
     "start_time": "2025-03-06T09:32:02.984698Z"
    }
   },
   "source": [
    "# Гистограмма по признакам\n",
    "for col in data_num:\n",
    "    plt.hist(data[col], 50)\n",
    "    plt.xlabel(col)\n",
    "    plt.show()"
   ],
   "outputs": [
    {
     "data": {
      "text/plain": [
       "<Figure size 640x480 with 1 Axes>"
      ],
      "image/png": "[encoded data removed]"
     },
     "metadata": {},
     "output_type": "display_data"
    }
   ],
   "execution_count": 22
  },
  {
   "cell_type": "markdown",
   "metadata": {},
   "source": [
    "Будем использовать встроенные средства импьютации библиотеки scikit-learn - https://scikit-learn.org/stable/modules/impute.html"
   ]
  },
  {
   "cell_type": "code",
   "metadata": {
    "ExecuteTime": {
     "end_time": "2025-03-06T09:32:28.132254Z",
     "start_time": "2025-03-06T09:32:28.116269Z"
    }
   },
   "source": [
    "data_num_MasVnrArea = data_num[['year']]\n",
    "data_num_MasVnrArea.head()"
   ],
   "outputs": [
    {
     "data": {
      "text/plain": [
       "     year\n",
       "0  2023.0\n",
       "1  2023.0\n",
       "2  2022.0\n",
       "3  2021.0\n",
       "4  2021.0"
      ],
      "text/html": [
       "<div>\n",
       "<style scoped>\n",
       "    .dataframe tbody tr th:only-of-type {\n",
       "        vertical-align: middle;\n",
       "    }\n",
       "\n",
       "    .dataframe tbody tr th {\n",
       "        vertical-align: top;\n",
       "    }\n",
       "\n",
       "    .dataframe thead th {\n",
       "        text-align: right;\n",
       "    }\n",
       "</style>\n",
       "<table border=\"1\" class=\"dataframe\">\n",
       "  <thead>\n",
       "    <tr style=\"text-align: right;\">\n",
       "      <th></th>\n",
       "      <th>year</th>\n",
       "    </tr>\n",
       "  </thead>\n",
       "  <tbody>\n",
       "    <tr>\n",
       "      <th>0</th>\n",
       "      <td>2023.0</td>\n",
       "    </tr>\n",
       "    <tr>\n",
       "      <th>1</th>\n",
       "      <td>2023.0</td>\n",
       "    </tr>\n",
       "    <tr>\n",
       "      <th>2</th>\n",
       "      <td>2022.0</td>\n",
       "    </tr>\n",
       "    <tr>\n",
       "      <th>3</th>\n",
       "      <td>2021.0</td>\n",
       "    </tr>\n",
       "    <tr>\n",
       "      <th>4</th>\n",
       "      <td>2021.0</td>\n",
       "    </tr>\n",
       "  </tbody>\n",
       "</table>\n",
       "</div>"
      ]
     },
     "execution_count": 24,
     "metadata": {},
     "output_type": "execute_result"
    }
   ],
   "execution_count": 24
  },
  {
   "cell_type": "code",
   "metadata": {
    "ExecuteTime": {
     "end_time": "2025-03-06T09:39:08.986268Z",
     "start_time": "2025-03-06T09:39:07.325789Z"
    }
   },
   "source": [
    "from sklearn.impute import SimpleImputer\n",
    "from sklearn.impute import MissingIndicator"
   ],
   "outputs": [],
   "execution_count": 26
  },
  {
   "cell_type": "code",
   "metadata": {
    "ExecuteTime": {
     "end_time": "2025-03-06T09:39:15.899142Z",
     "start_time": "2025-03-06T09:39:15.886941Z"
    }
   },
   "source": [
    "# Фильтр для проверки заполнения пустых значений\n",
    "indicator = MissingIndicator()\n",
    "mask_missing_values_only = indicator.fit_transform(data_num_MasVnrArea)\n",
    "mask_missing_values_only"
   ],
   "outputs": [
    {
     "data": {
      "text/plain": [
       "array([[False],\n",
       "       [False],\n",
       "       [False],\n",
       "       ...,\n",
       "       [ True],\n",
       "       [ True],\n",
       "       [ True]], shape=(6890, 1))"
      ]
     },
     "execution_count": 27,
     "metadata": {},
     "output_type": "execute_result"
    }
   ],
   "execution_count": 27
  },
  {
   "cell_type": "markdown",
   "metadata": {},
   "source": [
    "С помощью класса [SimpleImputer](https://scikit-learn.org/stable/modules/generated/sklearn.impute.SimpleImputer.html#sklearn.impute.SimpleImputer) можно проводить импьютацию различными [показателями центра распределения](https://ru.wikipedia.org/wiki/%D0%9F%D0%BE%D0%BA%D0%B0%D0%B7%D0%B0%D1%82%D0%B5%D0%BB%D0%B8_%D1%86%D0%B5%D0%BD%D1%82%D1%80%D0%B0_%D1%80%D0%B0%D1%81%D0%BF%D1%80%D0%B5%D0%B4%D0%B5%D0%BB%D0%B5%D0%BD%D0%B8%D1%8F)"
   ]
  },
  {
   "cell_type": "code",
   "metadata": {
    "ExecuteTime": {
     "end_time": "2025-03-06T09:39:37.191894Z",
     "start_time": "2025-03-06T09:39:37.185384Z"
    }
   },
   "source": [
    "strategies=['mean', 'median', 'most_frequent']"
   ],
   "outputs": [],
   "execution_count": 28
  },
  {
   "cell_type": "code",
   "metadata": {
    "ExecuteTime": {
     "end_time": "2025-03-06T09:39:40.288808Z",
     "start_time": "2025-03-06T09:39:40.282512Z"
    }
   },
   "source": [
    "def test_num_impute(strategy_param):\n",
    "    imp_num = SimpleImputer(strategy=strategy_param)\n",
    "    data_num_imp = imp_num.fit_transform(data_num_MasVnrArea)\n",
    "    return data_num_imp[mask_missing_values_only]"
   ],
   "outputs": [],
   "execution_count": 29
  },
  {
   "cell_type": "code",
   "metadata": {
    "ExecuteTime": {
     "end_time": "2025-03-06T09:39:42.141591Z",
     "start_time": "2025-03-06T09:39:42.126675Z"
    }
   },
   "source": [
    "strategies[0], test_num_impute(strategies[0])"
   ],
   "outputs": [
    {
     "data": {
      "text/plain": [
       "('mean',\n",
       " array([1970.93592779, 1970.93592779, 1970.93592779, 1970.93592779,\n",
       "        1970.93592779, 1970.93592779, 1970.93592779, 1970.93592779,\n",
       "        1970.93592779, 1970.93592779, 1970.93592779, 1970.93592779,\n",
       "        1970.93592779, 1970.93592779, 1970.93592779, 1970.93592779,\n",
       "        1970.93592779, 1970.93592779, 1970.93592779, 1970.93592779,\n",
       "        1970.93592779, 1970.93592779, 1970.93592779, 1970.93592779,\n",
       "        1970.93592779, 1970.93592779, 1970.93592779, 1970.93592779,\n",
       "        1970.93592779, 1970.93592779, 1970.93592779, 1970.93592779,\n",
       "        1970.93592779, 1970.93592779, 1970.93592779, 1970.93592779,\n",
       "        1970.93592779, 1970.93592779, 1970.93592779, 1970.93592779,\n",
       "        1970.93592779, 1970.93592779, 1970.93592779, 1970.93592779,\n",
       "        1970.93592779, 1970.93592779, 1970.93592779, 1970.93592779,\n",
       "        1970.93592779, 1970.93592779, 1970.93592779, 1970.93592779,\n",
       "        1970.93592779, 1970.93592779, 1970.93592779, 1970.93592779,\n",
       "        1970.93592779, 1970.93592779, 1970.93592779, 1970.93592779,\n",
       "        1970.93592779, 1970.93592779, 1970.93592779, 1970.93592779,\n",
       "        1970.93592779, 1970.93592779, 1970.93592779, 1970.93592779,\n",
       "        1970.93592779, 1970.93592779, 1970.93592779, 1970.93592779,\n",
       "        1970.93592779, 1970.93592779, 1970.93592779, 1970.93592779,\n",
       "        1970.93592779, 1970.93592779, 1970.93592779, 1970.93592779,\n",
       "        1970.93592779, 1970.93592779, 1970.93592779, 1970.93592779,\n",
       "        1970.93592779, 1970.93592779, 1970.93592779, 1970.93592779,\n",
       "        1970.93592779, 1970.93592779, 1970.93592779, 1970.93592779,\n",
       "        1970.93592779, 1970.93592779, 1970.93592779, 1970.93592779,\n",
       "        1970.93592779, 1970.93592779, 1970.93592779, 1970.93592779,\n",
       "        1970.93592779, 1970.93592779, 1970.93592779, 1970.93592779,\n",
       "        1970.93592779, 1970.93592779, 1970.93592779, 1970.93592779,\n",
       "        1970.93592779, 1970.93592779, 1970.93592779, 1970.93592779,\n",
       "        1970.93592779, 1970.93592779, 1970.93592779, 1970.93592779,\n",
       "        1970.93592779, 1970.93592779, 1970.93592779, 1970.93592779,\n",
       "        1970.93592779, 1970.93592779, 1970.93592779, 1970.93592779,\n",
       "        1970.93592779, 1970.93592779, 1970.93592779, 1970.93592779,\n",
       "        1970.93592779, 1970.93592779, 1970.93592779, 1970.93592779]))"
      ]
     },
     "execution_count": 30,
     "metadata": {},
     "output_type": "execute_result"
    }
   ],
   "execution_count": 30
  },
  {
   "cell_type": "code",
   "metadata": {
    "ExecuteTime": {
     "end_time": "2025-03-06T09:39:50.786687Z",
     "start_time": "2025-03-06T09:39:50.773910Z"
    }
   },
   "source": [
    "strategies[1], test_num_impute(strategies[1])"
   ],
   "outputs": [
    {
     "data": {
      "text/plain": [
       "('median',\n",
       " array([1986., 1986., 1986., 1986., 1986., 1986., 1986., 1986., 1986.,\n",
       "        1986., 1986., 1986., 1986., 1986., 1986., 1986., 1986., 1986.,\n",
       "        1986., 1986., 1986., 1986., 1986., 1986., 1986., 1986., 1986.,\n",
       "        1986., 1986., 1986., 1986., 1986., 1986., 1986., 1986., 1986.,\n",
       "        1986., 1986., 1986., 1986., 1986., 1986., 1986., 1986., 1986.,\n",
       "        1986., 1986., 1986., 1986., 1986., 1986., 1986., 1986., 1986.,\n",
       "        1986., 1986., 1986., 1986., 1986., 1986., 1986., 1986., 1986.,\n",
       "        1986., 1986., 1986., 1986., 1986., 1986., 1986., 1986., 1986.,\n",
       "        1986., 1986., 1986., 1986., 1986., 1986., 1986., 1986., 1986.,\n",
       "        1986., 1986., 1986., 1986., 1986., 1986., 1986., 1986., 1986.,\n",
       "        1986., 1986., 1986., 1986., 1986., 1986., 1986., 1986., 1986.,\n",
       "        1986., 1986., 1986., 1986., 1986., 1986., 1986., 1986., 1986.,\n",
       "        1986., 1986., 1986., 1986., 1986., 1986., 1986., 1986., 1986.,\n",
       "        1986., 1986., 1986., 1986., 1986., 1986., 1986., 1986., 1986.,\n",
       "        1986., 1986., 1986., 1986., 1986., 1986.]))"
      ]
     },
     "execution_count": 31,
     "metadata": {},
     "output_type": "execute_result"
    }
   ],
   "execution_count": 31
  },
  {
   "cell_type": "code",
   "metadata": {
    "ExecuteTime": {
     "end_time": "2025-03-06T09:39:55.139454Z",
     "start_time": "2025-03-06T09:39:55.124347Z"
    }
   },
   "source": [
    "strategies[2], test_num_impute(strategies[2])"
   ],
   "outputs": [
    {
     "data": {
      "text/plain": [
       "('most_frequent',\n",
       " array([2015., 2015., 2015., 2015., 2015., 2015., 2015., 2015., 2015.,\n",
       "        2015., 2015., 2015., 2015., 2015., 2015., 2015., 2015., 2015.,\n",
       "        2015., 2015., 2015., 2015., 2015., 2015., 2015., 2015., 2015.,\n",
       "        2015., 2015., 2015., 2015., 2015., 2015., 2015., 2015., 2015.,\n",
       "        2015., 2015., 2015., 2015., 2015., 2015., 2015., 2015., 2015.,\n",
       "        2015., 2015., 2015., 2015., 2015., 2015., 2015., 2015., 2015.,\n",
       "        2015., 2015., 2015., 2015., 2015., 2015., 2015., 2015., 2015.,\n",
       "        2015., 2015., 2015., 2015., 2015., 2015., 2015., 2015., 2015.,\n",
       "        2015., 2015., 2015., 2015., 2015., 2015., 2015., 2015., 2015.,\n",
       "        2015., 2015., 2015., 2015., 2015., 2015., 2015., 2015., 2015.,\n",
       "        2015., 2015., 2015., 2015., 2015., 2015., 2015., 2015., 2015.,\n",
       "        2015., 2015., 2015., 2015., 2015., 2015., 2015., 2015., 2015.,\n",
       "        2015., 2015., 2015., 2015., 2015., 2015., 2015., 2015., 2015.,\n",
       "        2015., 2015., 2015., 2015., 2015., 2015., 2015., 2015., 2015.,\n",
       "        2015., 2015., 2015., 2015., 2015., 2015.]))"
      ]
     },
     "execution_count": 32,
     "metadata": {},
     "output_type": "execute_result"
    }
   ],
   "execution_count": 32
  },
  {
   "cell_type": "code",
   "metadata": {
    "ExecuteTime": {
     "end_time": "2025-03-06T09:40:01.191886Z",
     "start_time": "2025-03-06T09:40:01.181505Z"
    }
   },
   "source": [
    "# Более сложная функция, которая позволяет задавать колонку и вид импьютации\n",
    "def test_num_impute_col(dataset, column, strategy_param):\n",
    "    temp_data = dataset[[column]]\n",
    "    \n",
    "    indicator = MissingIndicator()\n",
    "    mask_missing_values_only = indicator.fit_transform(temp_data)\n",
    "    \n",
    "    imp_num = SimpleImputer(strategy=strategy_param)\n",
    "    data_num_imp = imp_num.fit_transform(temp_data)\n",
    "    \n",
    "    filled_data = data_num_imp[mask_missing_values_only]\n",
    "    \n",
    "    return column, strategy_param, filled_data.size, filled_data[0], filled_data[filled_data.size-1]"
   ],
   "outputs": [],
   "execution_count": 33
  },
  {
   "cell_type": "code",
   "metadata": {
    "ExecuteTime": {
     "end_time": "2025-03-06T09:40:11.339326Z",
     "start_time": "2025-03-06T09:40:11.325597Z"
    }
   },
   "source": "data[['year']].describe()",
   "outputs": [
    {
     "data": {
      "text/plain": [
       "              year\n",
       "count  6758.000000\n",
       "mean   1970.935928\n",
       "std      56.227881\n",
       "min       1.000000\n",
       "25%    1950.000000\n",
       "50%    1986.000000\n",
       "75%    2009.000000\n",
       "max    2023.000000"
      ],
      "text/html": [
       "<div>\n",
       "<style scoped>\n",
       "    .dataframe tbody tr th:only-of-type {\n",
       "        vertical-align: middle;\n",
       "    }\n",
       "\n",
       "    .dataframe tbody tr th {\n",
       "        vertical-align: top;\n",
       "    }\n",
       "\n",
       "    .dataframe thead th {\n",
       "        text-align: right;\n",
       "    }\n",
       "</style>\n",
       "<table border=\"1\" class=\"dataframe\">\n",
       "  <thead>\n",
       "    <tr style=\"text-align: right;\">\n",
       "      <th></th>\n",
       "      <th>year</th>\n",
       "    </tr>\n",
       "  </thead>\n",
       "  <tbody>\n",
       "    <tr>\n",
       "      <th>count</th>\n",
       "      <td>6758.000000</td>\n",
       "    </tr>\n",
       "    <tr>\n",
       "      <th>mean</th>\n",
       "      <td>1970.935928</td>\n",
       "    </tr>\n",
       "    <tr>\n",
       "      <th>std</th>\n",
       "      <td>56.227881</td>\n",
       "    </tr>\n",
       "    <tr>\n",
       "      <th>min</th>\n",
       "      <td>1.000000</td>\n",
       "    </tr>\n",
       "    <tr>\n",
       "      <th>25%</th>\n",
       "      <td>1950.000000</td>\n",
       "    </tr>\n",
       "    <tr>\n",
       "      <th>50%</th>\n",
       "      <td>1986.000000</td>\n",
       "    </tr>\n",
       "    <tr>\n",
       "      <th>75%</th>\n",
       "      <td>2009.000000</td>\n",
       "    </tr>\n",
       "    <tr>\n",
       "      <th>max</th>\n",
       "      <td>2023.000000</td>\n",
       "    </tr>\n",
       "  </tbody>\n",
       "</table>\n",
       "</div>"
      ]
     },
     "execution_count": 34,
     "metadata": {},
     "output_type": "execute_result"
    }
   ],
   "execution_count": 34
  },
  {
   "cell_type": "code",
   "metadata": {
    "ExecuteTime": {
     "end_time": "2025-03-06T09:40:26.129281Z",
     "start_time": "2025-03-06T09:40:26.111331Z"
    }
   },
   "source": "test_num_impute_col(data, 'year', strategies[0])",
   "outputs": [
    {
     "data": {
      "text/plain": [
       "('year',\n",
       " 'mean',\n",
       " 132,\n",
       " np.float64(1970.9359277892868),\n",
       " np.float64(1970.9359277892868))"
      ]
     },
     "execution_count": 36,
     "metadata": {},
     "output_type": "execute_result"
    }
   ],
   "execution_count": 36
  },
  {
   "cell_type": "code",
   "metadata": {
    "ExecuteTime": {
     "end_time": "2025-03-06T09:40:32.120549Z",
     "start_time": "2025-03-06T09:40:32.105220Z"
    }
   },
   "source": "test_num_impute_col(data, 'year', strategies[1])",
   "outputs": [
    {
     "data": {
      "text/plain": [
       "('year', 'median', 132, np.float64(1986.0), np.float64(1986.0))"
      ]
     },
     "execution_count": 37,
     "metadata": {},
     "output_type": "execute_result"
    }
   ],
   "execution_count": 37
  },
  {
   "cell_type": "code",
   "metadata": {
    "ExecuteTime": {
     "end_time": "2025-03-06T09:40:37.930513Z",
     "start_time": "2025-03-06T09:40:37.913115Z"
    }
   },
   "source": "test_num_impute_col(data, 'year', strategies[2])",
   "outputs": [
    {
     "data": {
      "text/plain": [
       "('year', 'most_frequent', 132, np.float64(2015.0), np.float64(2015.0))"
      ]
     },
     "execution_count": 38,
     "metadata": {},
     "output_type": "execute_result"
    }
   ],
   "execution_count": 38
  },
  {
   "cell_type": "markdown",
   "metadata": {},
   "source": [
    "### Обработка пропусков в категориальных данных"
   ]
  },
  {
   "cell_type": "code",
   "metadata": {
    "ExecuteTime": {
     "end_time": "2025-03-06T09:41:04.872156Z",
     "start_time": "2025-03-06T09:41:04.848531Z"
    }
   },
   "source": [
    "# Выберем категориальные колонки с пропущенными значениями\n",
    "# Цикл по колонкам датасета\n",
    "cat_cols = []\n",
    "for col in data.columns:\n",
    "    # Количество пустых значений \n",
    "    temp_null_count = data[data[col].isnull()].shape[0]\n",
    "    dt = str(data[col].dtype)\n",
    "    if temp_null_count>0 and (dt=='object'):\n",
    "        cat_cols.append(col)\n",
    "        temp_perc = round((temp_null_count / total_count) * 100.0, 2)\n",
    "        print('Колонка {}. Тип данных {}. Количество пустых значений {}, {}%.'.format(col, dt, temp_null_count, temp_perc))"
   ],
   "outputs": [
    {
     "name": "stdout",
     "output_type": "stream",
     "text": [
      "Колонка date. Тип данных object. Количество пустых значений 303, 4.4%.\n",
      "Колонка type. Тип данных object. Количество пустых значений 19, 0.28%.\n",
      "Колонка country. Тип данных object. Количество пустых значений 51, 0.74%.\n",
      "Колонка area. Тип данных object. Количество пустых значений 481, 6.98%.\n",
      "Колонка location. Тип данных object. Количество пустых значений 565, 8.2%.\n",
      "Колонка activity. Тип данных object. Количество пустых значений 586, 8.51%.\n",
      "Колонка name. Тип данных object. Количество пустых значений 220, 3.19%.\n",
      "Колонка sex. Тип данных object. Количество пустых значений 572, 8.3%.\n",
      "Колонка age. Тип данных object. Количество пустых значений 2987, 43.35%.\n",
      "Колонка time. Тип данных object. Количество пустых значений 3518, 51.06%.\n",
      "Колонка species. Тип данных object. Количество пустых значений 3118, 45.25%.\n"
     ]
    }
   ],
   "execution_count": 39
  },
  {
   "cell_type": "markdown",
   "metadata": {},
   "source": [
    "**Какие из этих колонок Вы бы выбрали или не выбрали для построения модели?**"
   ]
  },
  {
   "cell_type": "markdown",
   "metadata": {},
   "source": [
    "Класс SimpleImputer можно использовать для категориальных признаков со стратегиями \"most_frequent\" или \"constant\"."
   ]
  },
  {
   "cell_type": "code",
   "metadata": {
    "ExecuteTime": {
     "end_time": "2025-03-06T09:42:47.764260Z",
     "start_time": "2025-03-06T09:42:47.748183Z"
    }
   },
   "source": [
    "cat_temp_data = data[['country']]\n",
    "cat_temp_data.head()"
   ],
   "outputs": [
    {
     "data": {
      "text/plain": [
       "     country\n",
       "0  AUSTRALIA\n",
       "1  AUSTRALIA\n",
       "2  AUSTRALIA\n",
       "3        USA\n",
       "4        USA"
      ],
      "text/html": [
       "<div>\n",
       "<style scoped>\n",
       "    .dataframe tbody tr th:only-of-type {\n",
       "        vertical-align: middle;\n",
       "    }\n",
       "\n",
       "    .dataframe tbody tr th {\n",
       "        vertical-align: top;\n",
       "    }\n",
       "\n",
       "    .dataframe thead th {\n",
       "        text-align: right;\n",
       "    }\n",
       "</style>\n",
       "<table border=\"1\" class=\"dataframe\">\n",
       "  <thead>\n",
       "    <tr style=\"text-align: right;\">\n",
       "      <th></th>\n",
       "      <th>country</th>\n",
       "    </tr>\n",
       "  </thead>\n",
       "  <tbody>\n",
       "    <tr>\n",
       "      <th>0</th>\n",
       "      <td>AUSTRALIA</td>\n",
       "    </tr>\n",
       "    <tr>\n",
       "      <th>1</th>\n",
       "      <td>AUSTRALIA</td>\n",
       "    </tr>\n",
       "    <tr>\n",
       "      <th>2</th>\n",
       "      <td>AUSTRALIA</td>\n",
       "    </tr>\n",
       "    <tr>\n",
       "      <th>3</th>\n",
       "      <td>USA</td>\n",
       "    </tr>\n",
       "    <tr>\n",
       "      <th>4</th>\n",
       "      <td>USA</td>\n",
       "    </tr>\n",
       "  </tbody>\n",
       "</table>\n",
       "</div>"
      ]
     },
     "execution_count": 40,
     "metadata": {},
     "output_type": "execute_result"
    }
   ],
   "execution_count": 40
  },
  {
   "cell_type": "code",
   "metadata": {
    "ExecuteTime": {
     "end_time": "2025-03-06T09:43:02.395110Z",
     "start_time": "2025-03-06T09:43:02.388304Z"
    }
   },
   "source": "cat_temp_data['country'].unique()",
   "outputs": [
    {
     "data": {
      "text/plain": [
       "array(['AUSTRALIA', 'USA', 'JAMAICA', 'NEW ZEALAND', 'PAPUA NEW GUINEA',\n",
       "       'FRENCH POLYNESIA', 'CHINA', 'SOUTH AFRICA', 'BAHAMAS',\n",
       "       'NEW CALEDONIA', 'REUNION', 'PALESTINIAN TERRITORIES', 'BELIZE',\n",
       "       'PHILIPPINES', 'MOZAMBIQUE', 'KENYA', 'BRAZIL', 'MEXICO', 'FIJI',\n",
       "       'TANZANIA', 'ENGLAND', 'THAILAND', 'SOUTH KOREA', 'MAURITIUS',\n",
       "       'ITALY', 'MARSHALL ISLANDS', 'SPAIN', 'TAIWAN', 'TURKEY',\n",
       "       'SENEGAL', 'BERMUDA', 'AMERICAN SAMOA', 'PACIFIC OCEAN',\n",
       "       'INDIAN OCEAN', 'NEW GUINEA', 'SOLOMON ISLANDS', 'GREECE',\n",
       "       'COSTA RICA', 'INDONESIA', 'CUBA', 'GEORGIA', 'SIERRA LEONE',\n",
       "       'Coast of AFRICA', 'INDIA', 'TOBAGO', 'EGYPT', 'SAMOA',\n",
       "       'DOMINICAN REPUBLIC', 'MADAGASCAR', 'MALAYSIA', 'GULF OF ADEN',\n",
       "       'SRI LANKA', 'SOMALIA', 'CHILE', nan, 'SINGAPORE',\n",
       "       'BRITISH WEST INDIES', 'NORTH ATLANTIC OCEAN', 'JAPAN', 'OKINAWA',\n",
       "       'SOUTH PACIFIC OCEAN', 'SOUTH ATLANTIC OCEAN', 'CARIBBEAN SEA',\n",
       "       'ITALY / CROATIA', 'MONTENEGRO', 'YEMEN', 'VIETNAM',\n",
       "       'COOK ISLANDS', 'WEST INDIES', 'TURKS and CaICOS', 'Sierra Leone',\n",
       "       'TONGA', 'VANUATU', 'IRAN', 'HONG KONG', 'NEW BRITAIN',\n",
       "       'SOLOMON ISLANDS / VANUATU', 'PANAMA', 'GUYANA', 'ATLANTIC OCEAN',\n",
       "       'INDIAN OCEAN?', 'NORWAY', 'ANTIGUA', 'CANADA',\n",
       "       'MEDITERRANEAN SEA', 'BURMA', 'ST KITTS / NEVIS', 'MALDIVES',\n",
       "       'ECUADOR', 'VENEZUELA', 'PERSIAN GULF', 'THE BALKANS', 'NICARAGUA',\n",
       "       'BARBADOS', 'SAN DOMINGO', 'CROATIA', 'FRANCE', 'LEBANON',\n",
       "       'RED SEA?', 'IRAQ', 'NIGERIA', 'WESTERN SAMOA', 'SCOTLAND',\n",
       "       'CAPE VERDE', 'CEYLON', 'ROATAN', 'PERU', 'SUDAN', 'SAUDI ARABIA',\n",
       "       'SEYCHELLES', 'ARGENTINA', 'REUNION ISLAND', 'GRENADA',\n",
       "       'FEDERATED STATES OF MICRONESIA', 'NETHERLANDS ANTILLES',\n",
       "       'PORTUGAL', 'HONDURAS', 'CYPRUS', 'CRETE', 'HAITI', 'AZORES',\n",
       "       'ALGERIA', 'UNITED ARAB EMIRATES (UAE)', 'UNITED KINGDOM',\n",
       "       'MAYOTTE', 'COLUMBIA', 'LIBYA', 'South Africa', 'GUAM',\n",
       "       'MID ATLANTIC OCEAN', 'MALDIVE ISLANDS', 'MARTINIQUE',\n",
       "       'SOUTHWEST PACIFIC OCEAN', 'KUWAIT', 'SYRIA', 'Fiji',\n",
       "       'PUERTO RICO', 'TRINIDAD & TOBAGO', 'TURKS & CAICOS', 'TUNISIA',\n",
       "       'ISRAEL', 'BRITISH ISLES', 'MALTA', 'LIBERIA', 'NAMIBIA', 'ASIA?',\n",
       "       'RUSSIA', 'RED SEA', 'PALAU', 'ADMIRALTY ISLANDS',\n",
       "       'ANDAMAN / NICOBAR ISLANDAS', 'SLOVENIA', 'URUGUAY',\n",
       "       'NORTH PACIFIC OCEAN', 'MeXICO', 'BANGLADESH', 'JOHNSTON ISLAND',\n",
       "       'NORTHERN MARIANA ISLANDS', 'GREENLAND', 'KIRIBATI', 'IRELAND',\n",
       "       'CAYMAN ISLANDS', 'GUATEMALA', 'AFRICA', 'ST MARTIN', 'OCEAN',\n",
       "       'MICRONESIA', 'ICELAND', 'TUVALU', 'EQUATORIAL GUINEA / CAMEROON',\n",
       "       'Between PORTUGAL & INDIA', 'DJIBOUTI', 'Seychelles', 'SUDAN?',\n",
       "       'ANDAMAN ISLANDS', 'CEYLON (SRI LANKA)', 'JORDAN', 'COLOMBIA',\n",
       "       'MONACO', 'GHANA', 'EGYPT / ISRAEL', 'IRAN / IRAQ', 'JAVA',\n",
       "       'ST HELENA, British overseas territory', 'ST. MAARTIN',\n",
       "       'NORTH SEA', 'BRITISH NEW GUINEA', 'SWEDEN',\n",
       "       'British Overseas Territory', 'EL SALVADOR',\n",
       "       'RED SEA / INDIAN OCEAN', 'ANGOLA', 'CENTRAL PACIFIC', 'Australia',\n",
       "       'UNITED ARAB EMIRATES', 'GRAND CAYMAN', 'GUINEA', 'New Zealand',\n",
       "       'NEVIS', 'CURACAO', 'PARAGUAY', 'DIEGO GARCIA', 'SOUTH CHINA SEA',\n",
       "       'BAY OF BENGAL', 'COMOROS', 'ARUBA', 'BRITISH VIRGIN ISLANDS',\n",
       "       'NORTHERN ARABIAN SEA', 'GABON', 'FALKLAND ISLANDS', 'BAHREIN',\n",
       "       'Maldives', 'ST. MARTIN', 'MID-PACIFC OCEAN', 'TASMAN SEA',\n",
       "       'KOREA'], dtype=object)"
      ]
     },
     "execution_count": 41,
     "metadata": {},
     "output_type": "execute_result"
    }
   ],
   "execution_count": 41
  },
  {
   "cell_type": "code",
   "metadata": {
    "ExecuteTime": {
     "end_time": "2025-03-06T09:43:13.272120Z",
     "start_time": "2025-03-06T09:43:13.258180Z"
    }
   },
   "source": "cat_temp_data[cat_temp_data['country'].isnull()].shape",
   "outputs": [
    {
     "data": {
      "text/plain": [
       "(51, 1)"
      ]
     },
     "execution_count": 42,
     "metadata": {},
     "output_type": "execute_result"
    }
   ],
   "execution_count": 42
  },
  {
   "cell_type": "code",
   "metadata": {
    "ExecuteTime": {
     "end_time": "2025-03-06T09:43:17.572875Z",
     "start_time": "2025-03-06T09:43:17.559582Z"
    }
   },
   "source": [
    "# Импьютация наиболее частыми значениями\n",
    "imp2 = SimpleImputer(missing_values=np.nan, strategy='most_frequent')\n",
    "data_imp2 = imp2.fit_transform(cat_temp_data)\n",
    "data_imp2"
   ],
   "outputs": [
    {
     "data": {
      "text/plain": [
       "array([['AUSTRALIA'],\n",
       "       ['AUSTRALIA'],\n",
       "       ['AUSTRALIA'],\n",
       "       ...,\n",
       "       ['IRAQ'],\n",
       "       ['SOUTH AFRICA'],\n",
       "       ['AUSTRALIA']], shape=(6890, 1), dtype=object)"
      ]
     },
     "execution_count": 43,
     "metadata": {},
     "output_type": "execute_result"
    }
   ],
   "execution_count": 43
  },
  {
   "cell_type": "code",
   "metadata": {
    "ExecuteTime": {
     "end_time": "2025-03-06T09:43:22.996934Z",
     "start_time": "2025-03-06T09:43:22.988087Z"
    }
   },
   "source": [
    "# Пустые значения отсутствуют\n",
    "np.unique(data_imp2)"
   ],
   "outputs": [
    {
     "data": {
      "text/plain": [
       "array(['ADMIRALTY ISLANDS', 'AFRICA', 'ALGERIA', 'AMERICAN SAMOA',\n",
       "       'ANDAMAN / NICOBAR ISLANDAS', 'ANDAMAN ISLANDS', 'ANGOLA',\n",
       "       'ANTIGUA', 'ARGENTINA', 'ARUBA', 'ASIA?', 'ATLANTIC OCEAN',\n",
       "       'AUSTRALIA', 'AZORES', 'Australia', 'BAHAMAS', 'BAHREIN',\n",
       "       'BANGLADESH', 'BARBADOS', 'BAY OF BENGAL', 'BELIZE', 'BERMUDA',\n",
       "       'BRAZIL', 'BRITISH ISLES', 'BRITISH NEW GUINEA',\n",
       "       'BRITISH VIRGIN ISLANDS', 'BRITISH WEST INDIES', 'BURMA',\n",
       "       'Between PORTUGAL & INDIA', 'British Overseas Territory', 'CANADA',\n",
       "       'CAPE VERDE', 'CARIBBEAN SEA', 'CAYMAN ISLANDS', 'CENTRAL PACIFIC',\n",
       "       'CEYLON', 'CEYLON (SRI LANKA)', 'CHILE', 'CHINA', 'COLOMBIA',\n",
       "       'COLUMBIA', 'COMOROS', 'COOK ISLANDS', 'COSTA RICA', 'CRETE',\n",
       "       'CROATIA', 'CUBA', 'CURACAO', 'CYPRUS', 'Coast of AFRICA',\n",
       "       'DIEGO GARCIA', 'DJIBOUTI', 'DOMINICAN REPUBLIC', 'ECUADOR',\n",
       "       'EGYPT', 'EGYPT / ISRAEL', 'EL SALVADOR', 'ENGLAND',\n",
       "       'EQUATORIAL GUINEA / CAMEROON', 'FALKLAND ISLANDS',\n",
       "       'FEDERATED STATES OF MICRONESIA', 'FIJI', 'FRANCE',\n",
       "       'FRENCH POLYNESIA', 'Fiji', 'GABON', 'GEORGIA', 'GHANA',\n",
       "       'GRAND CAYMAN', 'GREECE', 'GREENLAND', 'GRENADA', 'GUAM',\n",
       "       'GUATEMALA', 'GUINEA', 'GULF OF ADEN', 'GUYANA', 'HAITI',\n",
       "       'HONDURAS', 'HONG KONG', 'ICELAND', 'INDIA', 'INDIAN OCEAN',\n",
       "       'INDIAN OCEAN?', 'INDONESIA', 'IRAN', 'IRAN / IRAQ', 'IRAQ',\n",
       "       'IRELAND', 'ISRAEL', 'ITALY', 'ITALY / CROATIA', 'JAMAICA',\n",
       "       'JAPAN', 'JAVA', 'JOHNSTON ISLAND', 'JORDAN', 'KENYA', 'KIRIBATI',\n",
       "       'KOREA', 'KUWAIT', 'LEBANON', 'LIBERIA', 'LIBYA', 'MADAGASCAR',\n",
       "       'MALAYSIA', 'MALDIVE ISLANDS', 'MALDIVES', 'MALTA',\n",
       "       'MARSHALL ISLANDS', 'MARTINIQUE', 'MAURITIUS', 'MAYOTTE',\n",
       "       'MEDITERRANEAN SEA', 'MEXICO', 'MICRONESIA', 'MID ATLANTIC OCEAN',\n",
       "       'MID-PACIFC OCEAN', 'MONACO', 'MONTENEGRO', 'MOZAMBIQUE',\n",
       "       'Maldives', 'MeXICO', 'NAMIBIA', 'NETHERLANDS ANTILLES', 'NEVIS',\n",
       "       'NEW BRITAIN', 'NEW CALEDONIA', 'NEW GUINEA', 'NEW ZEALAND',\n",
       "       'NICARAGUA', 'NIGERIA', 'NORTH ATLANTIC OCEAN',\n",
       "       'NORTH PACIFIC OCEAN', 'NORTH SEA', 'NORTHERN ARABIAN SEA',\n",
       "       'NORTHERN MARIANA ISLANDS', 'NORWAY', 'New Zealand', 'OCEAN',\n",
       "       'OKINAWA', 'PACIFIC OCEAN', 'PALAU', 'PALESTINIAN TERRITORIES',\n",
       "       'PANAMA', 'PAPUA NEW GUINEA', 'PARAGUAY', 'PERSIAN GULF', 'PERU',\n",
       "       'PHILIPPINES', 'PORTUGAL', 'PUERTO RICO', 'RED SEA',\n",
       "       'RED SEA / INDIAN OCEAN', 'RED SEA?', 'REUNION', 'REUNION ISLAND',\n",
       "       'ROATAN', 'RUSSIA', 'SAMOA', 'SAN DOMINGO', 'SAUDI ARABIA',\n",
       "       'SCOTLAND', 'SENEGAL', 'SEYCHELLES', 'SIERRA LEONE', 'SINGAPORE',\n",
       "       'SLOVENIA', 'SOLOMON ISLANDS', 'SOLOMON ISLANDS / VANUATU',\n",
       "       'SOMALIA', 'SOUTH AFRICA', 'SOUTH ATLANTIC OCEAN',\n",
       "       'SOUTH CHINA SEA', 'SOUTH KOREA', 'SOUTH PACIFIC OCEAN',\n",
       "       'SOUTHWEST PACIFIC OCEAN', 'SPAIN', 'SRI LANKA',\n",
       "       'ST HELENA, British overseas territory', 'ST KITTS / NEVIS',\n",
       "       'ST MARTIN', 'ST. MAARTIN', 'ST. MARTIN', 'SUDAN', 'SUDAN?',\n",
       "       'SWEDEN', 'SYRIA', 'Seychelles', 'Sierra Leone', 'South Africa',\n",
       "       'TAIWAN', 'TANZANIA', 'TASMAN SEA', 'THAILAND', 'THE BALKANS',\n",
       "       'TOBAGO', 'TONGA', 'TRINIDAD & TOBAGO', 'TUNISIA', 'TURKEY',\n",
       "       'TURKS & CAICOS', 'TURKS and CaICOS', 'TUVALU',\n",
       "       'UNITED ARAB EMIRATES', 'UNITED ARAB EMIRATES (UAE)',\n",
       "       'UNITED KINGDOM', 'URUGUAY', 'USA', 'VANUATU', 'VENEZUELA',\n",
       "       'VIETNAM', 'WEST INDIES', 'WESTERN SAMOA', 'YEMEN'], dtype=object)"
      ]
     },
     "execution_count": 44,
     "metadata": {},
     "output_type": "execute_result"
    }
   ],
   "execution_count": 44
  },
  {
   "cell_type": "code",
   "metadata": {
    "ExecuteTime": {
     "end_time": "2025-03-06T09:43:32.570401Z",
     "start_time": "2025-03-06T09:43:32.559755Z"
    }
   },
   "source": [
    "# Импьютация константой\n",
    "imp3 = SimpleImputer(missing_values=np.nan, strategy='constant', fill_value='NA')\n",
    "data_imp3 = imp3.fit_transform(cat_temp_data)\n",
    "data_imp3"
   ],
   "outputs": [
    {
     "data": {
      "text/plain": [
       "array([['AUSTRALIA'],\n",
       "       ['AUSTRALIA'],\n",
       "       ['AUSTRALIA'],\n",
       "       ...,\n",
       "       ['IRAQ'],\n",
       "       ['SOUTH AFRICA'],\n",
       "       ['AUSTRALIA']], shape=(6890, 1), dtype=object)"
      ]
     },
     "execution_count": 45,
     "metadata": {},
     "output_type": "execute_result"
    }
   ],
   "execution_count": 45
  },
  {
   "cell_type": "code",
   "metadata": {
    "ExecuteTime": {
     "end_time": "2025-03-06T09:43:37.238239Z",
     "start_time": "2025-03-06T09:43:37.226394Z"
    }
   },
   "source": [
    "np.unique(data_imp3)"
   ],
   "outputs": [
    {
     "data": {
      "text/plain": [
       "array(['ADMIRALTY ISLANDS', 'AFRICA', 'ALGERIA', 'AMERICAN SAMOA',\n",
       "       'ANDAMAN / NICOBAR ISLANDAS', 'ANDAMAN ISLANDS', 'ANGOLA',\n",
       "       'ANTIGUA', 'ARGENTINA', 'ARUBA', 'ASIA?', 'ATLANTIC OCEAN',\n",
       "       'AUSTRALIA', 'AZORES', 'Australia', 'BAHAMAS', 'BAHREIN',\n",
       "       'BANGLADESH', 'BARBADOS', 'BAY OF BENGAL', 'BELIZE', 'BERMUDA',\n",
       "       'BRAZIL', 'BRITISH ISLES', 'BRITISH NEW GUINEA',\n",
       "       'BRITISH VIRGIN ISLANDS', 'BRITISH WEST INDIES', 'BURMA',\n",
       "       'Between PORTUGAL & INDIA', 'British Overseas Territory', 'CANADA',\n",
       "       'CAPE VERDE', 'CARIBBEAN SEA', 'CAYMAN ISLANDS', 'CENTRAL PACIFIC',\n",
       "       'CEYLON', 'CEYLON (SRI LANKA)', 'CHILE', 'CHINA', 'COLOMBIA',\n",
       "       'COLUMBIA', 'COMOROS', 'COOK ISLANDS', 'COSTA RICA', 'CRETE',\n",
       "       'CROATIA', 'CUBA', 'CURACAO', 'CYPRUS', 'Coast of AFRICA',\n",
       "       'DIEGO GARCIA', 'DJIBOUTI', 'DOMINICAN REPUBLIC', 'ECUADOR',\n",
       "       'EGYPT', 'EGYPT / ISRAEL', 'EL SALVADOR', 'ENGLAND',\n",
       "       'EQUATORIAL GUINEA / CAMEROON', 'FALKLAND ISLANDS',\n",
       "       'FEDERATED STATES OF MICRONESIA', 'FIJI', 'FRANCE',\n",
       "       'FRENCH POLYNESIA', 'Fiji', 'GABON', 'GEORGIA', 'GHANA',\n",
       "       'GRAND CAYMAN', 'GREECE', 'GREENLAND', 'GRENADA', 'GUAM',\n",
       "       'GUATEMALA', 'GUINEA', 'GULF OF ADEN', 'GUYANA', 'HAITI',\n",
       "       'HONDURAS', 'HONG KONG', 'ICELAND', 'INDIA', 'INDIAN OCEAN',\n",
       "       'INDIAN OCEAN?', 'INDONESIA', 'IRAN', 'IRAN / IRAQ', 'IRAQ',\n",
       "       'IRELAND', 'ISRAEL', 'ITALY', 'ITALY / CROATIA', 'JAMAICA',\n",
       "       'JAPAN', 'JAVA', 'JOHNSTON ISLAND', 'JORDAN', 'KENYA', 'KIRIBATI',\n",
       "       'KOREA', 'KUWAIT', 'LEBANON', 'LIBERIA', 'LIBYA', 'MADAGASCAR',\n",
       "       'MALAYSIA', 'MALDIVE ISLANDS', 'MALDIVES', 'MALTA',\n",
       "       'MARSHALL ISLANDS', 'MARTINIQUE', 'MAURITIUS', 'MAYOTTE',\n",
       "       'MEDITERRANEAN SEA', 'MEXICO', 'MICRONESIA', 'MID ATLANTIC OCEAN',\n",
       "       'MID-PACIFC OCEAN', 'MONACO', 'MONTENEGRO', 'MOZAMBIQUE',\n",
       "       'Maldives', 'MeXICO', 'NA', 'NAMIBIA', 'NETHERLANDS ANTILLES',\n",
       "       'NEVIS', 'NEW BRITAIN', 'NEW CALEDONIA', 'NEW GUINEA',\n",
       "       'NEW ZEALAND', 'NICARAGUA', 'NIGERIA', 'NORTH ATLANTIC OCEAN',\n",
       "       'NORTH PACIFIC OCEAN', 'NORTH SEA', 'NORTHERN ARABIAN SEA',\n",
       "       'NORTHERN MARIANA ISLANDS', 'NORWAY', 'New Zealand', 'OCEAN',\n",
       "       'OKINAWA', 'PACIFIC OCEAN', 'PALAU', 'PALESTINIAN TERRITORIES',\n",
       "       'PANAMA', 'PAPUA NEW GUINEA', 'PARAGUAY', 'PERSIAN GULF', 'PERU',\n",
       "       'PHILIPPINES', 'PORTUGAL', 'PUERTO RICO', 'RED SEA',\n",
       "       'RED SEA / INDIAN OCEAN', 'RED SEA?', 'REUNION', 'REUNION ISLAND',\n",
       "       'ROATAN', 'RUSSIA', 'SAMOA', 'SAN DOMINGO', 'SAUDI ARABIA',\n",
       "       'SCOTLAND', 'SENEGAL', 'SEYCHELLES', 'SIERRA LEONE', 'SINGAPORE',\n",
       "       'SLOVENIA', 'SOLOMON ISLANDS', 'SOLOMON ISLANDS / VANUATU',\n",
       "       'SOMALIA', 'SOUTH AFRICA', 'SOUTH ATLANTIC OCEAN',\n",
       "       'SOUTH CHINA SEA', 'SOUTH KOREA', 'SOUTH PACIFIC OCEAN',\n",
       "       'SOUTHWEST PACIFIC OCEAN', 'SPAIN', 'SRI LANKA',\n",
       "       'ST HELENA, British overseas territory', 'ST KITTS / NEVIS',\n",
       "       'ST MARTIN', 'ST. MAARTIN', 'ST. MARTIN', 'SUDAN', 'SUDAN?',\n",
       "       'SWEDEN', 'SYRIA', 'Seychelles', 'Sierra Leone', 'South Africa',\n",
       "       'TAIWAN', 'TANZANIA', 'TASMAN SEA', 'THAILAND', 'THE BALKANS',\n",
       "       'TOBAGO', 'TONGA', 'TRINIDAD & TOBAGO', 'TUNISIA', 'TURKEY',\n",
       "       'TURKS & CAICOS', 'TURKS and CaICOS', 'TUVALU',\n",
       "       'UNITED ARAB EMIRATES', 'UNITED ARAB EMIRATES (UAE)',\n",
       "       'UNITED KINGDOM', 'URUGUAY', 'USA', 'VANUATU', 'VENEZUELA',\n",
       "       'VIETNAM', 'WEST INDIES', 'WESTERN SAMOA', 'YEMEN'], dtype=object)"
      ]
     },
     "execution_count": 46,
     "metadata": {},
     "output_type": "execute_result"
    }
   ],
   "execution_count": 46
  },
  {
   "cell_type": "code",
   "metadata": {
    "ExecuteTime": {
     "end_time": "2025-03-06T09:43:40.086141Z",
     "start_time": "2025-03-06T09:43:40.075735Z"
    }
   },
   "source": [
    "data_imp3[data_imp3=='NA'].size"
   ],
   "outputs": [
    {
     "data": {
      "text/plain": [
       "51"
      ]
     },
     "execution_count": 47,
     "metadata": {},
     "output_type": "execute_result"
    }
   ],
   "execution_count": 47
  },
  {
   "cell_type": "markdown",
   "metadata": {},
   "source": [
    "# Преобразование категориальных признаков в числовые"
   ]
  },
  {
   "cell_type": "code",
   "metadata": {
    "ExecuteTime": {
     "end_time": "2025-03-06T09:43:44.697701Z",
     "start_time": "2025-03-06T09:43:44.688795Z"
    }
   },
   "source": [
    "cat_enc = pd.DataFrame({'c1':data_imp2.T[0]})\n",
    "cat_enc"
   ],
   "outputs": [
    {
     "data": {
      "text/plain": [
       "                c1\n",
       "0        AUSTRALIA\n",
       "1        AUSTRALIA\n",
       "2        AUSTRALIA\n",
       "3              USA\n",
       "4              USA\n",
       "...            ...\n",
       "6885        GREECE\n",
       "6886     INDONESIA\n",
       "6887          IRAQ\n",
       "6888  SOUTH AFRICA\n",
       "6889     AUSTRALIA\n",
       "\n",
       "[6890 rows x 1 columns]"
      ],
      "text/html": [
       "<div>\n",
       "<style scoped>\n",
       "    .dataframe tbody tr th:only-of-type {\n",
       "        vertical-align: middle;\n",
       "    }\n",
       "\n",
       "    .dataframe tbody tr th {\n",
       "        vertical-align: top;\n",
       "    }\n",
       "\n",
       "    .dataframe thead th {\n",
       "        text-align: right;\n",
       "    }\n",
       "</style>\n",
       "<table border=\"1\" class=\"dataframe\">\n",
       "  <thead>\n",
       "    <tr style=\"text-align: right;\">\n",
       "      <th></th>\n",
       "      <th>c1</th>\n",
       "    </tr>\n",
       "  </thead>\n",
       "  <tbody>\n",
       "    <tr>\n",
       "      <th>0</th>\n",
       "      <td>AUSTRALIA</td>\n",
       "    </tr>\n",
       "    <tr>\n",
       "      <th>1</th>\n",
       "      <td>AUSTRALIA</td>\n",
       "    </tr>\n",
       "    <tr>\n",
       "      <th>2</th>\n",
       "      <td>AUSTRALIA</td>\n",
       "    </tr>\n",
       "    <tr>\n",
       "      <th>3</th>\n",
       "      <td>USA</td>\n",
       "    </tr>\n",
       "    <tr>\n",
       "      <th>4</th>\n",
       "      <td>USA</td>\n",
       "    </tr>\n",
       "    <tr>\n",
       "      <th>...</th>\n",
       "      <td>...</td>\n",
       "    </tr>\n",
       "    <tr>\n",
       "      <th>6885</th>\n",
       "      <td>GREECE</td>\n",
       "    </tr>\n",
       "    <tr>\n",
       "      <th>6886</th>\n",
       "      <td>INDONESIA</td>\n",
       "    </tr>\n",
       "    <tr>\n",
       "      <th>6887</th>\n",
       "      <td>IRAQ</td>\n",
       "    </tr>\n",
       "    <tr>\n",
       "      <th>6888</th>\n",
       "      <td>SOUTH AFRICA</td>\n",
       "    </tr>\n",
       "    <tr>\n",
       "      <th>6889</th>\n",
       "      <td>AUSTRALIA</td>\n",
       "    </tr>\n",
       "  </tbody>\n",
       "</table>\n",
       "<p>6890 rows × 1 columns</p>\n",
       "</div>"
      ]
     },
     "execution_count": 48,
     "metadata": {},
     "output_type": "execute_result"
    }
   ],
   "execution_count": 48
  },
  {
   "cell_type": "markdown",
   "metadata": {},
   "source": [
    "## Кодирование категорий целочисленными значениями (label encoding)\n",
    "\n",
    "В этом случае уникальные значения категориального признака кодируются целыми числами.\n",
    "\n",
    "В scikit-learn для такого кодирования используется два класса :\n",
    "\n",
    "- [LabelEncoder](https://scikit-learn.org/stable/modules/generated/sklearn.preprocessing.LabelEncoder.html) - который ориентирован на применение к одному признаку. Этот класс прежде всего предназначен для кодирования целевого признака, но может быть также использован для последовательного кодирования отдельных нецелевых признаков.\n",
    "- [OrdinalEncoder](https://scikit-learn.org/stable/modules/generated/sklearn.preprocessing.OrdinalEncoder.html) - который ориентирован на применение к матрице объект-признак, то есть для кодирования матрицы нецелевых признаков."
   ]
  },
  {
   "cell_type": "markdown",
   "metadata": {},
   "source": [
    "### Использование LabelEncoder"
   ]
  },
  {
   "cell_type": "code",
   "metadata": {
    "ExecuteTime": {
     "end_time": "2025-03-06T09:43:58.204196Z",
     "start_time": "2025-03-06T09:43:58.196196Z"
    }
   },
   "source": [
    "from sklearn.preprocessing import LabelEncoder"
   ],
   "outputs": [],
   "execution_count": 49
  },
  {
   "cell_type": "code",
   "metadata": {
    "ExecuteTime": {
     "end_time": "2025-03-06T09:44:00.235825Z",
     "start_time": "2025-03-06T09:44:00.223963Z"
    }
   },
   "source": [
    "cat_enc['c1'].unique()"
   ],
   "outputs": [
    {
     "data": {
      "text/plain": [
       "array(['AUSTRALIA', 'USA', 'JAMAICA', 'NEW ZEALAND', 'PAPUA NEW GUINEA',\n",
       "       'FRENCH POLYNESIA', 'CHINA', 'SOUTH AFRICA', 'BAHAMAS',\n",
       "       'NEW CALEDONIA', 'REUNION', 'PALESTINIAN TERRITORIES', 'BELIZE',\n",
       "       'PHILIPPINES', 'MOZAMBIQUE', 'KENYA', 'BRAZIL', 'MEXICO', 'FIJI',\n",
       "       'TANZANIA', 'ENGLAND', 'THAILAND', 'SOUTH KOREA', 'MAURITIUS',\n",
       "       'ITALY', 'MARSHALL ISLANDS', 'SPAIN', 'TAIWAN', 'TURKEY',\n",
       "       'SENEGAL', 'BERMUDA', 'AMERICAN SAMOA', 'PACIFIC OCEAN',\n",
       "       'INDIAN OCEAN', 'NEW GUINEA', 'SOLOMON ISLANDS', 'GREECE',\n",
       "       'COSTA RICA', 'INDONESIA', 'CUBA', 'GEORGIA', 'SIERRA LEONE',\n",
       "       'Coast of AFRICA', 'INDIA', 'TOBAGO', 'EGYPT', 'SAMOA',\n",
       "       'DOMINICAN REPUBLIC', 'MADAGASCAR', 'MALAYSIA', 'GULF OF ADEN',\n",
       "       'SRI LANKA', 'SOMALIA', 'CHILE', 'SINGAPORE',\n",
       "       'BRITISH WEST INDIES', 'NORTH ATLANTIC OCEAN', 'JAPAN', 'OKINAWA',\n",
       "       'SOUTH PACIFIC OCEAN', 'SOUTH ATLANTIC OCEAN', 'CARIBBEAN SEA',\n",
       "       'ITALY / CROATIA', 'MONTENEGRO', 'YEMEN', 'VIETNAM',\n",
       "       'COOK ISLANDS', 'WEST INDIES', 'TURKS and CaICOS', 'Sierra Leone',\n",
       "       'TONGA', 'VANUATU', 'IRAN', 'HONG KONG', 'NEW BRITAIN',\n",
       "       'SOLOMON ISLANDS / VANUATU', 'PANAMA', 'GUYANA', 'ATLANTIC OCEAN',\n",
       "       'INDIAN OCEAN?', 'NORWAY', 'ANTIGUA', 'CANADA',\n",
       "       'MEDITERRANEAN SEA', 'BURMA', 'ST KITTS / NEVIS', 'MALDIVES',\n",
       "       'ECUADOR', 'VENEZUELA', 'PERSIAN GULF', 'THE BALKANS', 'NICARAGUA',\n",
       "       'BARBADOS', 'SAN DOMINGO', 'CROATIA', 'FRANCE', 'LEBANON',\n",
       "       'RED SEA?', 'IRAQ', 'NIGERIA', 'WESTERN SAMOA', 'SCOTLAND',\n",
       "       'CAPE VERDE', 'CEYLON', 'ROATAN', 'PERU', 'SUDAN', 'SAUDI ARABIA',\n",
       "       'SEYCHELLES', 'ARGENTINA', 'REUNION ISLAND', 'GRENADA',\n",
       "       'FEDERATED STATES OF MICRONESIA', 'NETHERLANDS ANTILLES',\n",
       "       'PORTUGAL', 'HONDURAS', 'CYPRUS', 'CRETE', 'HAITI', 'AZORES',\n",
       "       'ALGERIA', 'UNITED ARAB EMIRATES (UAE)', 'UNITED KINGDOM',\n",
       "       'MAYOTTE', 'COLUMBIA', 'LIBYA', 'South Africa', 'GUAM',\n",
       "       'MID ATLANTIC OCEAN', 'MALDIVE ISLANDS', 'MARTINIQUE',\n",
       "       'SOUTHWEST PACIFIC OCEAN', 'KUWAIT', 'SYRIA', 'Fiji',\n",
       "       'PUERTO RICO', 'TRINIDAD & TOBAGO', 'TURKS & CAICOS', 'TUNISIA',\n",
       "       'ISRAEL', 'BRITISH ISLES', 'MALTA', 'LIBERIA', 'NAMIBIA', 'ASIA?',\n",
       "       'RUSSIA', 'RED SEA', 'PALAU', 'ADMIRALTY ISLANDS',\n",
       "       'ANDAMAN / NICOBAR ISLANDAS', 'SLOVENIA', 'URUGUAY',\n",
       "       'NORTH PACIFIC OCEAN', 'MeXICO', 'BANGLADESH', 'JOHNSTON ISLAND',\n",
       "       'NORTHERN MARIANA ISLANDS', 'GREENLAND', 'KIRIBATI', 'IRELAND',\n",
       "       'CAYMAN ISLANDS', 'GUATEMALA', 'AFRICA', 'ST MARTIN', 'OCEAN',\n",
       "       'MICRONESIA', 'ICELAND', 'TUVALU', 'EQUATORIAL GUINEA / CAMEROON',\n",
       "       'Between PORTUGAL & INDIA', 'DJIBOUTI', 'Seychelles', 'SUDAN?',\n",
       "       'ANDAMAN ISLANDS', 'CEYLON (SRI LANKA)', 'JORDAN', 'COLOMBIA',\n",
       "       'MONACO', 'GHANA', 'EGYPT / ISRAEL', 'IRAN / IRAQ', 'JAVA',\n",
       "       'ST HELENA, British overseas territory', 'ST. MAARTIN',\n",
       "       'NORTH SEA', 'BRITISH NEW GUINEA', 'SWEDEN',\n",
       "       'British Overseas Territory', 'EL SALVADOR',\n",
       "       'RED SEA / INDIAN OCEAN', 'ANGOLA', 'CENTRAL PACIFIC', 'Australia',\n",
       "       'UNITED ARAB EMIRATES', 'GRAND CAYMAN', 'GUINEA', 'New Zealand',\n",
       "       'NEVIS', 'CURACAO', 'PARAGUAY', 'DIEGO GARCIA', 'SOUTH CHINA SEA',\n",
       "       'BAY OF BENGAL', 'COMOROS', 'ARUBA', 'BRITISH VIRGIN ISLANDS',\n",
       "       'NORTHERN ARABIAN SEA', 'GABON', 'FALKLAND ISLANDS', 'BAHREIN',\n",
       "       'Maldives', 'ST. MARTIN', 'MID-PACIFC OCEAN', 'TASMAN SEA',\n",
       "       'KOREA'], dtype=object)"
      ]
     },
     "execution_count": 50,
     "metadata": {},
     "output_type": "execute_result"
    }
   ],
   "execution_count": 50
  },
  {
   "cell_type": "code",
   "metadata": {
    "ExecuteTime": {
     "end_time": "2025-03-06T09:44:11.302733Z",
     "start_time": "2025-03-06T09:44:11.286746Z"
    }
   },
   "source": [
    "le = LabelEncoder()\n",
    "cat_enc_le = le.fit_transform(cat_enc['c1'])"
   ],
   "outputs": [],
   "execution_count": 51
  },
  {
   "cell_type": "code",
   "metadata": {
    "ExecuteTime": {
     "end_time": "2025-03-06T09:44:14.490691Z",
     "start_time": "2025-03-06T09:44:14.478655Z"
    }
   },
   "source": [
    "# Наименования категорий в соответствии с порядковыми номерами\n",
    "\n",
    "# Свойство называется classes, потому что предполагается что мы решаем \n",
    "# задачу классификации и каждое значение категории соответствует \n",
    "# какому-либо классу целевого признака\n",
    "\n",
    "le.classes_"
   ],
   "outputs": [
    {
     "data": {
      "text/plain": [
       "array(['ADMIRALTY ISLANDS', 'AFRICA', 'ALGERIA', 'AMERICAN SAMOA',\n",
       "       'ANDAMAN / NICOBAR ISLANDAS', 'ANDAMAN ISLANDS', 'ANGOLA',\n",
       "       'ANTIGUA', 'ARGENTINA', 'ARUBA', 'ASIA?', 'ATLANTIC OCEAN',\n",
       "       'AUSTRALIA', 'AZORES', 'Australia', 'BAHAMAS', 'BAHREIN',\n",
       "       'BANGLADESH', 'BARBADOS', 'BAY OF BENGAL', 'BELIZE', 'BERMUDA',\n",
       "       'BRAZIL', 'BRITISH ISLES', 'BRITISH NEW GUINEA',\n",
       "       'BRITISH VIRGIN ISLANDS', 'BRITISH WEST INDIES', 'BURMA',\n",
       "       'Between PORTUGAL & INDIA', 'British Overseas Territory', 'CANADA',\n",
       "       'CAPE VERDE', 'CARIBBEAN SEA', 'CAYMAN ISLANDS', 'CENTRAL PACIFIC',\n",
       "       'CEYLON', 'CEYLON (SRI LANKA)', 'CHILE', 'CHINA', 'COLOMBIA',\n",
       "       'COLUMBIA', 'COMOROS', 'COOK ISLANDS', 'COSTA RICA', 'CRETE',\n",
       "       'CROATIA', 'CUBA', 'CURACAO', 'CYPRUS', 'Coast of AFRICA',\n",
       "       'DIEGO GARCIA', 'DJIBOUTI', 'DOMINICAN REPUBLIC', 'ECUADOR',\n",
       "       'EGYPT', 'EGYPT / ISRAEL', 'EL SALVADOR', 'ENGLAND',\n",
       "       'EQUATORIAL GUINEA / CAMEROON', 'FALKLAND ISLANDS',\n",
       "       'FEDERATED STATES OF MICRONESIA', 'FIJI', 'FRANCE',\n",
       "       'FRENCH POLYNESIA', 'Fiji', 'GABON', 'GEORGIA', 'GHANA',\n",
       "       'GRAND CAYMAN', 'GREECE', 'GREENLAND', 'GRENADA', 'GUAM',\n",
       "       'GUATEMALA', 'GUINEA', 'GULF OF ADEN', 'GUYANA', 'HAITI',\n",
       "       'HONDURAS', 'HONG KONG', 'ICELAND', 'INDIA', 'INDIAN OCEAN',\n",
       "       'INDIAN OCEAN?', 'INDONESIA', 'IRAN', 'IRAN / IRAQ', 'IRAQ',\n",
       "       'IRELAND', 'ISRAEL', 'ITALY', 'ITALY / CROATIA', 'JAMAICA',\n",
       "       'JAPAN', 'JAVA', 'JOHNSTON ISLAND', 'JORDAN', 'KENYA', 'KIRIBATI',\n",
       "       'KOREA', 'KUWAIT', 'LEBANON', 'LIBERIA', 'LIBYA', 'MADAGASCAR',\n",
       "       'MALAYSIA', 'MALDIVE ISLANDS', 'MALDIVES', 'MALTA',\n",
       "       'MARSHALL ISLANDS', 'MARTINIQUE', 'MAURITIUS', 'MAYOTTE',\n",
       "       'MEDITERRANEAN SEA', 'MEXICO', 'MICRONESIA', 'MID ATLANTIC OCEAN',\n",
       "       'MID-PACIFC OCEAN', 'MONACO', 'MONTENEGRO', 'MOZAMBIQUE',\n",
       "       'Maldives', 'MeXICO', 'NAMIBIA', 'NETHERLANDS ANTILLES', 'NEVIS',\n",
       "       'NEW BRITAIN', 'NEW CALEDONIA', 'NEW GUINEA', 'NEW ZEALAND',\n",
       "       'NICARAGUA', 'NIGERIA', 'NORTH ATLANTIC OCEAN',\n",
       "       'NORTH PACIFIC OCEAN', 'NORTH SEA', 'NORTHERN ARABIAN SEA',\n",
       "       'NORTHERN MARIANA ISLANDS', 'NORWAY', 'New Zealand', 'OCEAN',\n",
       "       'OKINAWA', 'PACIFIC OCEAN', 'PALAU', 'PALESTINIAN TERRITORIES',\n",
       "       'PANAMA', 'PAPUA NEW GUINEA', 'PARAGUAY', 'PERSIAN GULF', 'PERU',\n",
       "       'PHILIPPINES', 'PORTUGAL', 'PUERTO RICO', 'RED SEA',\n",
       "       'RED SEA / INDIAN OCEAN', 'RED SEA?', 'REUNION', 'REUNION ISLAND',\n",
       "       'ROATAN', 'RUSSIA', 'SAMOA', 'SAN DOMINGO', 'SAUDI ARABIA',\n",
       "       'SCOTLAND', 'SENEGAL', 'SEYCHELLES', 'SIERRA LEONE', 'SINGAPORE',\n",
       "       'SLOVENIA', 'SOLOMON ISLANDS', 'SOLOMON ISLANDS / VANUATU',\n",
       "       'SOMALIA', 'SOUTH AFRICA', 'SOUTH ATLANTIC OCEAN',\n",
       "       'SOUTH CHINA SEA', 'SOUTH KOREA', 'SOUTH PACIFIC OCEAN',\n",
       "       'SOUTHWEST PACIFIC OCEAN', 'SPAIN', 'SRI LANKA',\n",
       "       'ST HELENA, British overseas territory', 'ST KITTS / NEVIS',\n",
       "       'ST MARTIN', 'ST. MAARTIN', 'ST. MARTIN', 'SUDAN', 'SUDAN?',\n",
       "       'SWEDEN', 'SYRIA', 'Seychelles', 'Sierra Leone', 'South Africa',\n",
       "       'TAIWAN', 'TANZANIA', 'TASMAN SEA', 'THAILAND', 'THE BALKANS',\n",
       "       'TOBAGO', 'TONGA', 'TRINIDAD & TOBAGO', 'TUNISIA', 'TURKEY',\n",
       "       'TURKS & CAICOS', 'TURKS and CaICOS', 'TUVALU',\n",
       "       'UNITED ARAB EMIRATES', 'UNITED ARAB EMIRATES (UAE)',\n",
       "       'UNITED KINGDOM', 'URUGUAY', 'USA', 'VANUATU', 'VENEZUELA',\n",
       "       'VIETNAM', 'WEST INDIES', 'WESTERN SAMOA', 'YEMEN'], dtype=object)"
      ]
     },
     "execution_count": 52,
     "metadata": {},
     "output_type": "execute_result"
    }
   ],
   "execution_count": 52
  },
  {
   "cell_type": "code",
   "metadata": {
    "ExecuteTime": {
     "end_time": "2025-03-06T09:44:17.806584Z",
     "start_time": "2025-03-06T09:44:17.797781Z"
    }
   },
   "source": [
    "cat_enc_le"
   ],
   "outputs": [
    {
     "data": {
      "text/plain": [
       "array([ 12,  12,  12, ...,  87, 171,  12], shape=(6890,))"
      ]
     },
     "execution_count": 53,
     "metadata": {},
     "output_type": "execute_result"
    }
   ],
   "execution_count": 53
  },
  {
   "cell_type": "code",
   "metadata": {
    "ExecuteTime": {
     "end_time": "2025-03-06T09:44:20.322775Z",
     "start_time": "2025-03-06T09:44:20.306764Z"
    }
   },
   "source": [
    "np.unique(cat_enc_le)"
   ],
   "outputs": [
    {
     "data": {
      "text/plain": [
       "array([  0,   1,   2,   3,   4,   5,   6,   7,   8,   9,  10,  11,  12,\n",
       "        13,  14,  15,  16,  17,  18,  19,  20,  21,  22,  23,  24,  25,\n",
       "        26,  27,  28,  29,  30,  31,  32,  33,  34,  35,  36,  37,  38,\n",
       "        39,  40,  41,  42,  43,  44,  45,  46,  47,  48,  49,  50,  51,\n",
       "        52,  53,  54,  55,  56,  57,  58,  59,  60,  61,  62,  63,  64,\n",
       "        65,  66,  67,  68,  69,  70,  71,  72,  73,  74,  75,  76,  77,\n",
       "        78,  79,  80,  81,  82,  83,  84,  85,  86,  87,  88,  89,  90,\n",
       "        91,  92,  93,  94,  95,  96,  97,  98,  99, 100, 101, 102, 103,\n",
       "       104, 105, 106, 107, 108, 109, 110, 111, 112, 113, 114, 115, 116,\n",
       "       117, 118, 119, 120, 121, 122, 123, 124, 125, 126, 127, 128, 129,\n",
       "       130, 131, 132, 133, 134, 135, 136, 137, 138, 139, 140, 141, 142,\n",
       "       143, 144, 145, 146, 147, 148, 149, 150, 151, 152, 153, 154, 155,\n",
       "       156, 157, 158, 159, 160, 161, 162, 163, 164, 165, 166, 167, 168,\n",
       "       169, 170, 171, 172, 173, 174, 175, 176, 177, 178, 179, 180, 181,\n",
       "       182, 183, 184, 185, 186, 187, 188, 189, 190, 191, 192, 193, 194,\n",
       "       195, 196, 197, 198, 199, 200, 201, 202, 203, 204, 205, 206, 207,\n",
       "       208, 209, 210, 211, 212, 213, 214])"
      ]
     },
     "execution_count": 54,
     "metadata": {},
     "output_type": "execute_result"
    }
   ],
   "execution_count": 54
  },
  {
   "cell_type": "code",
   "metadata": {
    "ExecuteTime": {
     "end_time": "2025-03-06T09:44:24.265386Z",
     "start_time": "2025-03-06T09:44:24.257220Z"
    }
   },
   "source": [
    "# В этом примере видно, что перед кодированием \n",
    "# уникальные значения признака сортируются в лексикографиеском порядке\n",
    "le.inverse_transform([0, 1, 2, 3])"
   ],
   "outputs": [
    {
     "data": {
      "text/plain": [
       "array(['ADMIRALTY ISLANDS', 'AFRICA', 'ALGERIA', 'AMERICAN SAMOA'],\n",
       "      dtype=object)"
      ]
     },
     "execution_count": 55,
     "metadata": {},
     "output_type": "execute_result"
    }
   ],
   "execution_count": 55
  },
  {
   "cell_type": "markdown",
   "metadata": {},
   "source": [
    "### Использование OrdinalEncoder"
   ]
  },
  {
   "cell_type": "code",
   "metadata": {
    "ExecuteTime": {
     "end_time": "2025-03-06T09:44:30.344217Z",
     "start_time": "2025-03-06T09:44:30.340154Z"
    }
   },
   "source": [
    "from sklearn.preprocessing import OrdinalEncoder"
   ],
   "outputs": [],
   "execution_count": 56
  },
  {
   "cell_type": "code",
   "metadata": {
    "ExecuteTime": {
     "end_time": "2025-03-06T09:45:36.992971Z",
     "start_time": "2025-03-06T09:45:36.976929Z"
    }
   },
   "source": [
    "data_oe = data[['activity', 'country', 'sex']]\n",
    "data_oe.head()"
   ],
   "outputs": [
    {
     "data": {
      "text/plain": [
       "       activity    country sex\n",
       "0       Surfing  AUSTRALIA   M\n",
       "1      Swimming  AUSTRALIA   M\n",
       "2  Spearfishing  AUSTRALIA   M\n",
       "3       Surfing        USA   M\n",
       "4      Swimming        USA   M"
      ],
      "text/html": [
       "<div>\n",
       "<style scoped>\n",
       "    .dataframe tbody tr th:only-of-type {\n",
       "        vertical-align: middle;\n",
       "    }\n",
       "\n",
       "    .dataframe tbody tr th {\n",
       "        vertical-align: top;\n",
       "    }\n",
       "\n",
       "    .dataframe thead th {\n",
       "        text-align: right;\n",
       "    }\n",
       "</style>\n",
       "<table border=\"1\" class=\"dataframe\">\n",
       "  <thead>\n",
       "    <tr style=\"text-align: right;\">\n",
       "      <th></th>\n",
       "      <th>activity</th>\n",
       "      <th>country</th>\n",
       "      <th>sex</th>\n",
       "    </tr>\n",
       "  </thead>\n",
       "  <tbody>\n",
       "    <tr>\n",
       "      <th>0</th>\n",
       "      <td>Surfing</td>\n",
       "      <td>AUSTRALIA</td>\n",
       "      <td>M</td>\n",
       "    </tr>\n",
       "    <tr>\n",
       "      <th>1</th>\n",
       "      <td>Swimming</td>\n",
       "      <td>AUSTRALIA</td>\n",
       "      <td>M</td>\n",
       "    </tr>\n",
       "    <tr>\n",
       "      <th>2</th>\n",
       "      <td>Spearfishing</td>\n",
       "      <td>AUSTRALIA</td>\n",
       "      <td>M</td>\n",
       "    </tr>\n",
       "    <tr>\n",
       "      <th>3</th>\n",
       "      <td>Surfing</td>\n",
       "      <td>USA</td>\n",
       "      <td>M</td>\n",
       "    </tr>\n",
       "    <tr>\n",
       "      <th>4</th>\n",
       "      <td>Swimming</td>\n",
       "      <td>USA</td>\n",
       "      <td>M</td>\n",
       "    </tr>\n",
       "  </tbody>\n",
       "</table>\n",
       "</div>"
      ]
     },
     "execution_count": 57,
     "metadata": {},
     "output_type": "execute_result"
    }
   ],
   "execution_count": 57
  },
  {
   "cell_type": "code",
   "metadata": {
    "ExecuteTime": {
     "end_time": "2025-03-06T09:45:42.460732Z",
     "start_time": "2025-03-06T09:45:42.451254Z"
    }
   },
   "source": [
    "imp4 = SimpleImputer(missing_values=np.nan, strategy='constant', fill_value='NA')\n",
    "data_oe_filled = imp4.fit_transform(data_oe)\n",
    "data_oe_filled"
   ],
   "outputs": [
    {
     "data": {
      "text/plain": [
       "array([['Surfing', 'AUSTRALIA', 'M'],\n",
       "       ['Swimming', 'AUSTRALIA', 'M'],\n",
       "       ['Spearfishing', 'AUSTRALIA', 'M'],\n",
       "       ...,\n",
       "       ['Swimming', 'IRAQ', 'M'],\n",
       "       ['Crew swimming alongside their anchored ship', 'SOUTH AFRICA',\n",
       "        'M'],\n",
       "       ['Pearl diving', 'AUSTRALIA', 'M']], shape=(6890, 3), dtype=object)"
      ]
     },
     "execution_count": 58,
     "metadata": {},
     "output_type": "execute_result"
    }
   ],
   "execution_count": 58
  },
  {
   "cell_type": "code",
   "metadata": {
    "ExecuteTime": {
     "end_time": "2025-03-06T09:45:49.625812Z",
     "start_time": "2025-03-06T09:45:49.606366Z"
    }
   },
   "source": [
    "oe = OrdinalEncoder()\n",
    "cat_enc_oe = oe.fit_transform(data_oe_filled)\n",
    "cat_enc_oe"
   ],
   "outputs": [
    {
     "data": {
      "text/plain": [
       "array([[1166.,   12.,    2.],\n",
       "       [1202.,   12.,    2.],\n",
       "       [1055.,   12.,    2.],\n",
       "       ...,\n",
       "       [1202.,   87.,    2.],\n",
       "       [ 244.,  172.,    2.],\n",
       "       [ 855.,   12.,    2.]], shape=(6890, 3))"
      ]
     },
     "execution_count": 59,
     "metadata": {},
     "output_type": "execute_result"
    }
   ],
   "execution_count": 59
  },
  {
   "cell_type": "code",
   "metadata": {
    "ExecuteTime": {
     "end_time": "2025-03-06T09:45:52.300251Z",
     "start_time": "2025-03-06T09:45:52.292241Z"
    }
   },
   "source": [
    "# Уникальные значения 1 признака\n",
    "np.unique(cat_enc_oe[:, 0])"
   ],
   "outputs": [
    {
     "data": {
      "text/plain": [
       "array([0.000e+00, 1.000e+00, 2.000e+00, ..., 1.551e+03, 1.552e+03,\n",
       "       1.553e+03], shape=(1554,))"
      ]
     },
     "execution_count": 60,
     "metadata": {},
     "output_type": "execute_result"
    }
   ],
   "execution_count": 60
  },
  {
   "cell_type": "code",
   "metadata": {
    "ExecuteTime": {
     "end_time": "2025-03-06T09:45:54.831044Z",
     "start_time": "2025-03-06T09:45:54.819876Z"
    }
   },
   "source": [
    "# Уникальные значения 2 признака\n",
    "np.unique(cat_enc_oe[:, 1])"
   ],
   "outputs": [
    {
     "data": {
      "text/plain": [
       "array([  0.,   1.,   2.,   3.,   4.,   5.,   6.,   7.,   8.,   9.,  10.,\n",
       "        11.,  12.,  13.,  14.,  15.,  16.,  17.,  18.,  19.,  20.,  21.,\n",
       "        22.,  23.,  24.,  25.,  26.,  27.,  28.,  29.,  30.,  31.,  32.,\n",
       "        33.,  34.,  35.,  36.,  37.,  38.,  39.,  40.,  41.,  42.,  43.,\n",
       "        44.,  45.,  46.,  47.,  48.,  49.,  50.,  51.,  52.,  53.,  54.,\n",
       "        55.,  56.,  57.,  58.,  59.,  60.,  61.,  62.,  63.,  64.,  65.,\n",
       "        66.,  67.,  68.,  69.,  70.,  71.,  72.,  73.,  74.,  75.,  76.,\n",
       "        77.,  78.,  79.,  80.,  81.,  82.,  83.,  84.,  85.,  86.,  87.,\n",
       "        88.,  89.,  90.,  91.,  92.,  93.,  94.,  95.,  96.,  97.,  98.,\n",
       "        99., 100., 101., 102., 103., 104., 105., 106., 107., 108., 109.,\n",
       "       110., 111., 112., 113., 114., 115., 116., 117., 118., 119., 120.,\n",
       "       121., 122., 123., 124., 125., 126., 127., 128., 129., 130., 131.,\n",
       "       132., 133., 134., 135., 136., 137., 138., 139., 140., 141., 142.,\n",
       "       143., 144., 145., 146., 147., 148., 149., 150., 151., 152., 153.,\n",
       "       154., 155., 156., 157., 158., 159., 160., 161., 162., 163., 164.,\n",
       "       165., 166., 167., 168., 169., 170., 171., 172., 173., 174., 175.,\n",
       "       176., 177., 178., 179., 180., 181., 182., 183., 184., 185., 186.,\n",
       "       187., 188., 189., 190., 191., 192., 193., 194., 195., 196., 197.,\n",
       "       198., 199., 200., 201., 202., 203., 204., 205., 206., 207., 208.,\n",
       "       209., 210., 211., 212., 213., 214., 215.])"
      ]
     },
     "execution_count": 61,
     "metadata": {},
     "output_type": "execute_result"
    }
   ],
   "execution_count": 61
  },
  {
   "cell_type": "code",
   "metadata": {
    "ExecuteTime": {
     "end_time": "2025-03-06T09:45:56.670058Z",
     "start_time": "2025-03-06T09:45:56.654063Z"
    }
   },
   "source": [
    "# Уникальные значения 3 признака\n",
    "np.unique(cat_enc_oe[:, 2])"
   ],
   "outputs": [
    {
     "data": {
      "text/plain": [
       "array([0., 1., 2., 3., 4., 5., 6.])"
      ]
     },
     "execution_count": 62,
     "metadata": {},
     "output_type": "execute_result"
    }
   ],
   "execution_count": 62
  },
  {
   "cell_type": "code",
   "metadata": {
    "ExecuteTime": {
     "end_time": "2025-03-06T09:45:59.339220Z",
     "start_time": "2025-03-06T09:45:59.328076Z"
    }
   },
   "source": [
    "# Наименования категорий в соответствии с порядковыми номерами\n",
    "oe.categories_"
   ],
   "outputs": [
    {
     "data": {
      "text/plain": [
       "[array(['.',\n",
       "        \"12 of the Penang's crew were returning to the ship when their 12' dinghy capsized\",\n",
       "        '13 men in the water after sailboat capsized & sank', ...,\n",
       "        'wreck of the State Oil Company ship Permina', 'yachting accident',\n",
       "        'yachtsman in a zodiac'], shape=(1554,), dtype=object),\n",
       " array(['ADMIRALTY ISLANDS', 'AFRICA', 'ALGERIA', 'AMERICAN SAMOA',\n",
       "        'ANDAMAN / NICOBAR ISLANDAS', 'ANDAMAN ISLANDS', 'ANGOLA',\n",
       "        'ANTIGUA', 'ARGENTINA', 'ARUBA', 'ASIA?', 'ATLANTIC OCEAN',\n",
       "        'AUSTRALIA', 'AZORES', 'Australia', 'BAHAMAS', 'BAHREIN',\n",
       "        'BANGLADESH', 'BARBADOS', 'BAY OF BENGAL', 'BELIZE', 'BERMUDA',\n",
       "        'BRAZIL', 'BRITISH ISLES', 'BRITISH NEW GUINEA',\n",
       "        'BRITISH VIRGIN ISLANDS', 'BRITISH WEST INDIES', 'BURMA',\n",
       "        'Between PORTUGAL & INDIA', 'British Overseas Territory', 'CANADA',\n",
       "        'CAPE VERDE', 'CARIBBEAN SEA', 'CAYMAN ISLANDS', 'CENTRAL PACIFIC',\n",
       "        'CEYLON', 'CEYLON (SRI LANKA)', 'CHILE', 'CHINA', 'COLOMBIA',\n",
       "        'COLUMBIA', 'COMOROS', 'COOK ISLANDS', 'COSTA RICA', 'CRETE',\n",
       "        'CROATIA', 'CUBA', 'CURACAO', 'CYPRUS', 'Coast of AFRICA',\n",
       "        'DIEGO GARCIA', 'DJIBOUTI', 'DOMINICAN REPUBLIC', 'ECUADOR',\n",
       "        'EGYPT', 'EGYPT / ISRAEL', 'EL SALVADOR', 'ENGLAND',\n",
       "        'EQUATORIAL GUINEA / CAMEROON', 'FALKLAND ISLANDS',\n",
       "        'FEDERATED STATES OF MICRONESIA', 'FIJI', 'FRANCE',\n",
       "        'FRENCH POLYNESIA', 'Fiji', 'GABON', 'GEORGIA', 'GHANA',\n",
       "        'GRAND CAYMAN', 'GREECE', 'GREENLAND', 'GRENADA', 'GUAM',\n",
       "        'GUATEMALA', 'GUINEA', 'GULF OF ADEN', 'GUYANA', 'HAITI',\n",
       "        'HONDURAS', 'HONG KONG', 'ICELAND', 'INDIA', 'INDIAN OCEAN',\n",
       "        'INDIAN OCEAN?', 'INDONESIA', 'IRAN', 'IRAN / IRAQ', 'IRAQ',\n",
       "        'IRELAND', 'ISRAEL', 'ITALY', 'ITALY / CROATIA', 'JAMAICA',\n",
       "        'JAPAN', 'JAVA', 'JOHNSTON ISLAND', 'JORDAN', 'KENYA', 'KIRIBATI',\n",
       "        'KOREA', 'KUWAIT', 'LEBANON', 'LIBERIA', 'LIBYA', 'MADAGASCAR',\n",
       "        'MALAYSIA', 'MALDIVE ISLANDS', 'MALDIVES', 'MALTA',\n",
       "        'MARSHALL ISLANDS', 'MARTINIQUE', 'MAURITIUS', 'MAYOTTE',\n",
       "        'MEDITERRANEAN SEA', 'MEXICO', 'MICRONESIA', 'MID ATLANTIC OCEAN',\n",
       "        'MID-PACIFC OCEAN', 'MONACO', 'MONTENEGRO', 'MOZAMBIQUE',\n",
       "        'Maldives', 'MeXICO', 'NA', 'NAMIBIA', 'NETHERLANDS ANTILLES',\n",
       "        'NEVIS', 'NEW BRITAIN', 'NEW CALEDONIA', 'NEW GUINEA',\n",
       "        'NEW ZEALAND', 'NICARAGUA', 'NIGERIA', 'NORTH ATLANTIC OCEAN',\n",
       "        'NORTH PACIFIC OCEAN', 'NORTH SEA', 'NORTHERN ARABIAN SEA',\n",
       "        'NORTHERN MARIANA ISLANDS', 'NORWAY', 'New Zealand', 'OCEAN',\n",
       "        'OKINAWA', 'PACIFIC OCEAN', 'PALAU', 'PALESTINIAN TERRITORIES',\n",
       "        'PANAMA', 'PAPUA NEW GUINEA', 'PARAGUAY', 'PERSIAN GULF', 'PERU',\n",
       "        'PHILIPPINES', 'PORTUGAL', 'PUERTO RICO', 'RED SEA',\n",
       "        'RED SEA / INDIAN OCEAN', 'RED SEA?', 'REUNION', 'REUNION ISLAND',\n",
       "        'ROATAN', 'RUSSIA', 'SAMOA', 'SAN DOMINGO', 'SAUDI ARABIA',\n",
       "        'SCOTLAND', 'SENEGAL', 'SEYCHELLES', 'SIERRA LEONE', 'SINGAPORE',\n",
       "        'SLOVENIA', 'SOLOMON ISLANDS', 'SOLOMON ISLANDS / VANUATU',\n",
       "        'SOMALIA', 'SOUTH AFRICA', 'SOUTH ATLANTIC OCEAN',\n",
       "        'SOUTH CHINA SEA', 'SOUTH KOREA', 'SOUTH PACIFIC OCEAN',\n",
       "        'SOUTHWEST PACIFIC OCEAN', 'SPAIN', 'SRI LANKA',\n",
       "        'ST HELENA, British overseas territory', 'ST KITTS / NEVIS',\n",
       "        'ST MARTIN', 'ST. MAARTIN', 'ST. MARTIN', 'SUDAN', 'SUDAN?',\n",
       "        'SWEDEN', 'SYRIA', 'Seychelles', 'Sierra Leone', 'South Africa',\n",
       "        'TAIWAN', 'TANZANIA', 'TASMAN SEA', 'THAILAND', 'THE BALKANS',\n",
       "        'TOBAGO', 'TONGA', 'TRINIDAD & TOBAGO', 'TUNISIA', 'TURKEY',\n",
       "        'TURKS & CAICOS', 'TURKS and CaICOS', 'TUVALU',\n",
       "        'UNITED ARAB EMIRATES', 'UNITED ARAB EMIRATES (UAE)',\n",
       "        'UNITED KINGDOM', 'URUGUAY', 'USA', 'VANUATU', 'VENEZUELA',\n",
       "        'VIETNAM', 'WEST INDIES', 'WESTERN SAMOA', 'YEMEN'], dtype=object),\n",
       " array(['.', 'F', 'M', 'M x 2', 'N', 'NA', 'lli'], dtype=object)]"
      ]
     },
     "execution_count": 63,
     "metadata": {},
     "output_type": "execute_result"
    }
   ],
   "execution_count": 63
  },
  {
   "cell_type": "code",
   "metadata": {
    "ExecuteTime": {
     "end_time": "2025-03-06T09:46:13.878004Z",
     "start_time": "2025-03-06T09:46:13.871553Z"
    }
   },
   "source": [
    "# Обратное преобразование\n",
    "oe.inverse_transform(cat_enc_oe)"
   ],
   "outputs": [
    {
     "data": {
      "text/plain": [
       "array([['Surfing', 'AUSTRALIA', 'M'],\n",
       "       ['Swimming', 'AUSTRALIA', 'M'],\n",
       "       ['Spearfishing', 'AUSTRALIA', 'M'],\n",
       "       ...,\n",
       "       ['Swimming', 'IRAQ', 'M'],\n",
       "       ['Crew swimming alongside their anchored ship', 'SOUTH AFRICA',\n",
       "        'M'],\n",
       "       ['Pearl diving', 'AUSTRALIA', 'M']], shape=(6890, 3), dtype=object)"
      ]
     },
     "execution_count": 64,
     "metadata": {},
     "output_type": "execute_result"
    }
   ],
   "execution_count": 64
  },
  {
   "cell_type": "markdown",
   "metadata": {},
   "source": [
    "### Проблемы использования LabelEncoder и OrdinalEncoder\n",
    "\n",
    "Необходимо отметить, что LabelEncoder и OrdinalEncoder могут использоваться только для категориальных признаков в номинальных шкалах (для которых отсутствует порядок), например города, страны, названия рек и т.д. \n",
    "\n",
    "Это связано с тем, что задать какой-либо порядок при кодировании с помощью LabelEncoder и OrdinalEncoder невозможно, они сортируют категории в лексикографическом порядке.\n",
    "\n",
    "При этом кодирование целыми числами создает фиктивное отношение порядка (1 < 2 < 3 < ...) которого не было в исходных номинальных шкалах. Данное отношение порядка может негативно повлиять на построение модели машинного обучения."
   ]
  },
  {
   "cell_type": "markdown",
   "metadata": {},
   "source": [
    "### Кодирование шкал порядка\n",
    "\n",
    "Библиотека scikit-learn не предоставляет готового решения для кодирования шкал порядка, но можно воспользоваться [функцией map для отдельных объектов Series.](https://pandas.pydata.org/docs/reference/api/pandas.Series.map.html)"
   ]
  },
  {
   "cell_type": "code",
   "metadata": {
    "ExecuteTime": {
     "end_time": "2025-03-06T09:46:19.353201Z",
     "start_time": "2025-03-06T09:46:19.346738Z"
    }
   },
   "source": [
    "# пример шкалы порядка 'small' < 'medium' < 'large'\n",
    "sizes = ['small', 'medium', 'large', 'small', 'medium', 'large', 'small', 'medium', 'large']"
   ],
   "outputs": [],
   "execution_count": 65
  },
  {
   "cell_type": "code",
   "metadata": {
    "ExecuteTime": {
     "end_time": "2025-03-06T09:46:21.633703Z",
     "start_time": "2025-03-06T09:46:21.617745Z"
    }
   },
   "source": [
    "pd_sizes = pd.DataFrame(data={'sizes':sizes})\n",
    "pd_sizes"
   ],
   "outputs": [
    {
     "data": {
      "text/plain": [
       "    sizes\n",
       "0   small\n",
       "1  medium\n",
       "2   large\n",
       "3   small\n",
       "4  medium\n",
       "5   large\n",
       "6   small\n",
       "7  medium\n",
       "8   large"
      ],
      "text/html": [
       "<div>\n",
       "<style scoped>\n",
       "    .dataframe tbody tr th:only-of-type {\n",
       "        vertical-align: middle;\n",
       "    }\n",
       "\n",
       "    .dataframe tbody tr th {\n",
       "        vertical-align: top;\n",
       "    }\n",
       "\n",
       "    .dataframe thead th {\n",
       "        text-align: right;\n",
       "    }\n",
       "</style>\n",
       "<table border=\"1\" class=\"dataframe\">\n",
       "  <thead>\n",
       "    <tr style=\"text-align: right;\">\n",
       "      <th></th>\n",
       "      <th>sizes</th>\n",
       "    </tr>\n",
       "  </thead>\n",
       "  <tbody>\n",
       "    <tr>\n",
       "      <th>0</th>\n",
       "      <td>small</td>\n",
       "    </tr>\n",
       "    <tr>\n",
       "      <th>1</th>\n",
       "      <td>medium</td>\n",
       "    </tr>\n",
       "    <tr>\n",
       "      <th>2</th>\n",
       "      <td>large</td>\n",
       "    </tr>\n",
       "    <tr>\n",
       "      <th>3</th>\n",
       "      <td>small</td>\n",
       "    </tr>\n",
       "    <tr>\n",
       "      <th>4</th>\n",
       "      <td>medium</td>\n",
       "    </tr>\n",
       "    <tr>\n",
       "      <th>5</th>\n",
       "      <td>large</td>\n",
       "    </tr>\n",
       "    <tr>\n",
       "      <th>6</th>\n",
       "      <td>small</td>\n",
       "    </tr>\n",
       "    <tr>\n",
       "      <th>7</th>\n",
       "      <td>medium</td>\n",
       "    </tr>\n",
       "    <tr>\n",
       "      <th>8</th>\n",
       "      <td>large</td>\n",
       "    </tr>\n",
       "  </tbody>\n",
       "</table>\n",
       "</div>"
      ]
     },
     "execution_count": 66,
     "metadata": {},
     "output_type": "execute_result"
    }
   ],
   "execution_count": 66
  },
  {
   "cell_type": "code",
   "metadata": {
    "ExecuteTime": {
     "end_time": "2025-03-06T09:46:25.294430Z",
     "start_time": "2025-03-06T09:46:25.283420Z"
    }
   },
   "source": [
    "pd_sizes['sizes_codes'] = pd_sizes['sizes'].map({'small':1, 'medium':2, 'large':3})\n",
    "pd_sizes"
   ],
   "outputs": [
    {
     "data": {
      "text/plain": [
       "    sizes  sizes_codes\n",
       "0   small            1\n",
       "1  medium            2\n",
       "2   large            3\n",
       "3   small            1\n",
       "4  medium            2\n",
       "5   large            3\n",
       "6   small            1\n",
       "7  medium            2\n",
       "8   large            3"
      ],
      "text/html": [
       "<div>\n",
       "<style scoped>\n",
       "    .dataframe tbody tr th:only-of-type {\n",
       "        vertical-align: middle;\n",
       "    }\n",
       "\n",
       "    .dataframe tbody tr th {\n",
       "        vertical-align: top;\n",
       "    }\n",
       "\n",
       "    .dataframe thead th {\n",
       "        text-align: right;\n",
       "    }\n",
       "</style>\n",
       "<table border=\"1\" class=\"dataframe\">\n",
       "  <thead>\n",
       "    <tr style=\"text-align: right;\">\n",
       "      <th></th>\n",
       "      <th>sizes</th>\n",
       "      <th>sizes_codes</th>\n",
       "    </tr>\n",
       "  </thead>\n",
       "  <tbody>\n",
       "    <tr>\n",
       "      <th>0</th>\n",
       "      <td>small</td>\n",
       "      <td>1</td>\n",
       "    </tr>\n",
       "    <tr>\n",
       "      <th>1</th>\n",
       "      <td>medium</td>\n",
       "      <td>2</td>\n",
       "    </tr>\n",
       "    <tr>\n",
       "      <th>2</th>\n",
       "      <td>large</td>\n",
       "      <td>3</td>\n",
       "    </tr>\n",
       "    <tr>\n",
       "      <th>3</th>\n",
       "      <td>small</td>\n",
       "      <td>1</td>\n",
       "    </tr>\n",
       "    <tr>\n",
       "      <th>4</th>\n",
       "      <td>medium</td>\n",
       "      <td>2</td>\n",
       "    </tr>\n",
       "    <tr>\n",
       "      <th>5</th>\n",
       "      <td>large</td>\n",
       "      <td>3</td>\n",
       "    </tr>\n",
       "    <tr>\n",
       "      <th>6</th>\n",
       "      <td>small</td>\n",
       "      <td>1</td>\n",
       "    </tr>\n",
       "    <tr>\n",
       "      <th>7</th>\n",
       "      <td>medium</td>\n",
       "      <td>2</td>\n",
       "    </tr>\n",
       "    <tr>\n",
       "      <th>8</th>\n",
       "      <td>large</td>\n",
       "      <td>3</td>\n",
       "    </tr>\n",
       "  </tbody>\n",
       "</table>\n",
       "</div>"
      ]
     },
     "execution_count": 67,
     "metadata": {},
     "output_type": "execute_result"
    }
   ],
   "execution_count": 67
  },
  {
   "cell_type": "code",
   "metadata": {
    "ExecuteTime": {
     "end_time": "2025-03-06T09:46:27.994994Z",
     "start_time": "2025-03-06T09:46:27.980697Z"
    }
   },
   "source": [
    "pd_sizes['sizes_decoded'] = pd_sizes['sizes_codes'].map({1:'small', 2:'medium', 3:'large'})\n",
    "pd_sizes"
   ],
   "outputs": [
    {
     "data": {
      "text/plain": [
       "    sizes  sizes_codes sizes_decoded\n",
       "0   small            1         small\n",
       "1  medium            2        medium\n",
       "2   large            3         large\n",
       "3   small            1         small\n",
       "4  medium            2        medium\n",
       "5   large            3         large\n",
       "6   small            1         small\n",
       "7  medium            2        medium\n",
       "8   large            3         large"
      ],
      "text/html": [
       "<div>\n",
       "<style scoped>\n",
       "    .dataframe tbody tr th:only-of-type {\n",
       "        vertical-align: middle;\n",
       "    }\n",
       "\n",
       "    .dataframe tbody tr th {\n",
       "        vertical-align: top;\n",
       "    }\n",
       "\n",
       "    .dataframe thead th {\n",
       "        text-align: right;\n",
       "    }\n",
       "</style>\n",
       "<table border=\"1\" class=\"dataframe\">\n",
       "  <thead>\n",
       "    <tr style=\"text-align: right;\">\n",
       "      <th></th>\n",
       "      <th>sizes</th>\n",
       "      <th>sizes_codes</th>\n",
       "      <th>sizes_decoded</th>\n",
       "    </tr>\n",
       "  </thead>\n",
       "  <tbody>\n",
       "    <tr>\n",
       "      <th>0</th>\n",
       "      <td>small</td>\n",
       "      <td>1</td>\n",
       "      <td>small</td>\n",
       "    </tr>\n",
       "    <tr>\n",
       "      <th>1</th>\n",
       "      <td>medium</td>\n",
       "      <td>2</td>\n",
       "      <td>medium</td>\n",
       "    </tr>\n",
       "    <tr>\n",
       "      <th>2</th>\n",
       "      <td>large</td>\n",
       "      <td>3</td>\n",
       "      <td>large</td>\n",
       "    </tr>\n",
       "    <tr>\n",
       "      <th>3</th>\n",
       "      <td>small</td>\n",
       "      <td>1</td>\n",
       "      <td>small</td>\n",
       "    </tr>\n",
       "    <tr>\n",
       "      <th>4</th>\n",
       "      <td>medium</td>\n",
       "      <td>2</td>\n",
       "      <td>medium</td>\n",
       "    </tr>\n",
       "    <tr>\n",
       "      <th>5</th>\n",
       "      <td>large</td>\n",
       "      <td>3</td>\n",
       "      <td>large</td>\n",
       "    </tr>\n",
       "    <tr>\n",
       "      <th>6</th>\n",
       "      <td>small</td>\n",
       "      <td>1</td>\n",
       "      <td>small</td>\n",
       "    </tr>\n",
       "    <tr>\n",
       "      <th>7</th>\n",
       "      <td>medium</td>\n",
       "      <td>2</td>\n",
       "      <td>medium</td>\n",
       "    </tr>\n",
       "    <tr>\n",
       "      <th>8</th>\n",
       "      <td>large</td>\n",
       "      <td>3</td>\n",
       "      <td>large</td>\n",
       "    </tr>\n",
       "  </tbody>\n",
       "</table>\n",
       "</div>"
      ]
     },
     "execution_count": 68,
     "metadata": {},
     "output_type": "execute_result"
    }
   ],
   "execution_count": 68
  },
  {
   "cell_type": "markdown",
   "metadata": {},
   "source": [
    "## Кодирование категорий наборами бинарных значений - [one-hot encoding](https://scikit-learn.org/stable/modules/generated/sklearn.preprocessing.OneHotEncoder.html)\n",
    "\n",
    "В этом случае каждое уникальное значение признака становится новым отдельным признаком."
   ]
  },
  {
   "cell_type": "code",
   "metadata": {
    "ExecuteTime": {
     "end_time": "2025-03-06T09:46:32.909786Z",
     "start_time": "2025-03-06T09:46:32.899883Z"
    }
   },
   "source": [
    "from sklearn.preprocessing import OneHotEncoder"
   ],
   "outputs": [],
   "execution_count": 69
  },
  {
   "cell_type": "code",
   "metadata": {
    "ExecuteTime": {
     "end_time": "2025-03-06T09:46:35.187455Z",
     "start_time": "2025-03-06T09:46:35.178009Z"
    }
   },
   "source": [
    "ohe = OneHotEncoder()\n",
    "cat_enc_ohe = ohe.fit_transform(cat_enc[['c1']])"
   ],
   "outputs": [],
   "execution_count": 70
  },
  {
   "cell_type": "code",
   "metadata": {
    "ExecuteTime": {
     "end_time": "2025-03-06T09:46:35.909563Z",
     "start_time": "2025-03-06T09:46:35.903808Z"
    }
   },
   "source": [
    "cat_enc.shape"
   ],
   "outputs": [
    {
     "data": {
      "text/plain": [
       "(6890, 1)"
      ]
     },
     "execution_count": 71,
     "metadata": {},
     "output_type": "execute_result"
    }
   ],
   "execution_count": 71
  },
  {
   "cell_type": "code",
   "metadata": {
    "ExecuteTime": {
     "end_time": "2025-03-06T09:46:36.509651Z",
     "start_time": "2025-03-06T09:46:36.498163Z"
    }
   },
   "source": [
    "cat_enc_ohe.shape"
   ],
   "outputs": [
    {
     "data": {
      "text/plain": [
       "(6890, 215)"
      ]
     },
     "execution_count": 72,
     "metadata": {},
     "output_type": "execute_result"
    }
   ],
   "execution_count": 72
  },
  {
   "cell_type": "code",
   "metadata": {
    "ExecuteTime": {
     "end_time": "2025-03-06T09:46:37.302911Z",
     "start_time": "2025-03-06T09:46:37.297236Z"
    }
   },
   "source": [
    "cat_enc_ohe"
   ],
   "outputs": [
    {
     "data": {
      "text/plain": [
       "<Compressed Sparse Row sparse matrix of dtype 'float64'\n",
       "\twith 6890 stored elements and shape (6890, 215)>"
      ]
     },
     "execution_count": 73,
     "metadata": {},
     "output_type": "execute_result"
    }
   ],
   "execution_count": 73
  },
  {
   "cell_type": "code",
   "metadata": {
    "ExecuteTime": {
     "end_time": "2025-03-06T09:46:38.053674Z",
     "start_time": "2025-03-06T09:46:38.044173Z"
    }
   },
   "source": [
    "cat_enc_ohe.todense()[0:10]"
   ],
   "outputs": [
    {
     "data": {
      "text/plain": [
       "matrix([[0., 0., 0., ..., 0., 0., 0.],\n",
       "        [0., 0., 0., ..., 0., 0., 0.],\n",
       "        [0., 0., 0., ..., 0., 0., 0.],\n",
       "        ...,\n",
       "        [0., 0., 0., ..., 0., 0., 0.],\n",
       "        [0., 0., 0., ..., 0., 0., 0.],\n",
       "        [0., 0., 0., ..., 0., 0., 0.]], shape=(10, 215))"
      ]
     },
     "execution_count": 74,
     "metadata": {},
     "output_type": "execute_result"
    }
   ],
   "execution_count": 74
  },
  {
   "cell_type": "code",
   "metadata": {
    "ExecuteTime": {
     "end_time": "2025-03-06T09:46:39.163190Z",
     "start_time": "2025-03-06T09:46:39.146727Z"
    }
   },
   "source": [
    "cat_enc.head(10)"
   ],
   "outputs": [
    {
     "data": {
      "text/plain": [
       "          c1\n",
       "0  AUSTRALIA\n",
       "1  AUSTRALIA\n",
       "2  AUSTRALIA\n",
       "3        USA\n",
       "4        USA\n",
       "5        USA\n",
       "6        USA\n",
       "7    JAMAICA\n",
       "8        USA\n",
       "9  AUSTRALIA"
      ],
      "text/html": [
       "<div>\n",
       "<style scoped>\n",
       "    .dataframe tbody tr th:only-of-type {\n",
       "        vertical-align: middle;\n",
       "    }\n",
       "\n",
       "    .dataframe tbody tr th {\n",
       "        vertical-align: top;\n",
       "    }\n",
       "\n",
       "    .dataframe thead th {\n",
       "        text-align: right;\n",
       "    }\n",
       "</style>\n",
       "<table border=\"1\" class=\"dataframe\">\n",
       "  <thead>\n",
       "    <tr style=\"text-align: right;\">\n",
       "      <th></th>\n",
       "      <th>c1</th>\n",
       "    </tr>\n",
       "  </thead>\n",
       "  <tbody>\n",
       "    <tr>\n",
       "      <th>0</th>\n",
       "      <td>AUSTRALIA</td>\n",
       "    </tr>\n",
       "    <tr>\n",
       "      <th>1</th>\n",
       "      <td>AUSTRALIA</td>\n",
       "    </tr>\n",
       "    <tr>\n",
       "      <th>2</th>\n",
       "      <td>AUSTRALIA</td>\n",
       "    </tr>\n",
       "    <tr>\n",
       "      <th>3</th>\n",
       "      <td>USA</td>\n",
       "    </tr>\n",
       "    <tr>\n",
       "      <th>4</th>\n",
       "      <td>USA</td>\n",
       "    </tr>\n",
       "    <tr>\n",
       "      <th>5</th>\n",
       "      <td>USA</td>\n",
       "    </tr>\n",
       "    <tr>\n",
       "      <th>6</th>\n",
       "      <td>USA</td>\n",
       "    </tr>\n",
       "    <tr>\n",
       "      <th>7</th>\n",
       "      <td>JAMAICA</td>\n",
       "    </tr>\n",
       "    <tr>\n",
       "      <th>8</th>\n",
       "      <td>USA</td>\n",
       "    </tr>\n",
       "    <tr>\n",
       "      <th>9</th>\n",
       "      <td>AUSTRALIA</td>\n",
       "    </tr>\n",
       "  </tbody>\n",
       "</table>\n",
       "</div>"
      ]
     },
     "execution_count": 75,
     "metadata": {},
     "output_type": "execute_result"
    }
   ],
   "execution_count": 75
  },
  {
   "cell_type": "markdown",
   "metadata": {},
   "source": [
    "## [Pandas get_dummies](https://pandas.pydata.org/pandas-docs/stable/reference/api/pandas.get_dummies.html) - быстрый вариант one-hot кодирования"
   ]
  },
  {
   "cell_type": "code",
   "metadata": {
    "ExecuteTime": {
     "end_time": "2025-03-06T09:46:41.328882Z",
     "start_time": "2025-03-06T09:46:41.308770Z"
    }
   },
   "source": [
    "pd.get_dummies(cat_enc).head()"
   ],
   "outputs": [
    {
     "data": {
      "text/plain": [
       "   c1_ADMIRALTY ISLANDS  c1_AFRICA  c1_ALGERIA  c1_AMERICAN SAMOA  \\\n",
       "0                 False      False       False              False   \n",
       "1                 False      False       False              False   \n",
       "2                 False      False       False              False   \n",
       "3                 False      False       False              False   \n",
       "4                 False      False       False              False   \n",
       "\n",
       "   c1_ANDAMAN / NICOBAR ISLANDAS  c1_ANDAMAN ISLANDS  c1_ANGOLA  c1_ANTIGUA  \\\n",
       "0                          False               False      False       False   \n",
       "1                          False               False      False       False   \n",
       "2                          False               False      False       False   \n",
       "3                          False               False      False       False   \n",
       "4                          False               False      False       False   \n",
       "\n",
       "   c1_ARGENTINA  c1_ARUBA  ...  c1_UNITED ARAB EMIRATES (UAE)  \\\n",
       "0         False     False  ...                          False   \n",
       "1         False     False  ...                          False   \n",
       "2         False     False  ...                          False   \n",
       "3         False     False  ...                          False   \n",
       "4         False     False  ...                          False   \n",
       "\n",
       "   c1_UNITED KINGDOM  c1_URUGUAY  c1_USA  c1_VANUATU  c1_VENEZUELA  \\\n",
       "0              False       False   False       False         False   \n",
       "1              False       False   False       False         False   \n",
       "2              False       False   False       False         False   \n",
       "3              False       False    True       False         False   \n",
       "4              False       False    True       False         False   \n",
       "\n",
       "   c1_VIETNAM  c1_WEST INDIES  c1_WESTERN SAMOA  c1_YEMEN  \n",
       "0       False           False             False     False  \n",
       "1       False           False             False     False  \n",
       "2       False           False             False     False  \n",
       "3       False           False             False     False  \n",
       "4       False           False             False     False  \n",
       "\n",
       "[5 rows x 215 columns]"
      ],
      "text/html": [
       "<div>\n",
       "<style scoped>\n",
       "    .dataframe tbody tr th:only-of-type {\n",
       "        vertical-align: middle;\n",
       "    }\n",
       "\n",
       "    .dataframe tbody tr th {\n",
       "        vertical-align: top;\n",
       "    }\n",
       "\n",
       "    .dataframe thead th {\n",
       "        text-align: right;\n",
       "    }\n",
       "</style>\n",
       "<table border=\"1\" class=\"dataframe\">\n",
       "  <thead>\n",
       "    <tr style=\"text-align: right;\">\n",
       "      <th></th>\n",
       "      <th>c1_ADMIRALTY ISLANDS</th>\n",
       "      <th>c1_AFRICA</th>\n",
       "      <th>c1_ALGERIA</th>\n",
       "      <th>c1_AMERICAN SAMOA</th>\n",
       "      <th>c1_ANDAMAN / NICOBAR ISLANDAS</th>\n",
       "      <th>c1_ANDAMAN ISLANDS</th>\n",
       "      <th>c1_ANGOLA</th>\n",
       "      <th>c1_ANTIGUA</th>\n",
       "      <th>c1_ARGENTINA</th>\n",
       "      <th>c1_ARUBA</th>\n",
       "      <th>...</th>\n",
       "      <th>c1_UNITED ARAB EMIRATES (UAE)</th>\n",
       "      <th>c1_UNITED KINGDOM</th>\n",
       "      <th>c1_URUGUAY</th>\n",
       "      <th>c1_USA</th>\n",
       "      <th>c1_VANUATU</th>\n",
       "      <th>c1_VENEZUELA</th>\n",
       "      <th>c1_VIETNAM</th>\n",
       "      <th>c1_WEST INDIES</th>\n",
       "      <th>c1_WESTERN SAMOA</th>\n",
       "      <th>c1_YEMEN</th>\n",
       "    </tr>\n",
       "  </thead>\n",
       "  <tbody>\n",
       "    <tr>\n",
       "      <th>0</th>\n",
       "      <td>False</td>\n",
       "      <td>False</td>\n",
       "      <td>False</td>\n",
       "      <td>False</td>\n",
       "      <td>False</td>\n",
       "      <td>False</td>\n",
       "      <td>False</td>\n",
       "      <td>False</td>\n",
       "      <td>False</td>\n",
       "      <td>False</td>\n",
       "      <td>...</td>\n",
       "      <td>False</td>\n",
       "      <td>False</td>\n",
       "      <td>False</td>\n",
       "      <td>False</td>\n",
       "      <td>False</td>\n",
       "      <td>False</td>\n",
       "      <td>False</td>\n",
       "      <td>False</td>\n",
       "      <td>False</td>\n",
       "      <td>False</td>\n",
       "    </tr>\n",
       "    <tr>\n",
       "      <th>1</th>\n",
       "      <td>False</td>\n",
       "      <td>False</td>\n",
       "      <td>False</td>\n",
       "      <td>False</td>\n",
       "      <td>False</td>\n",
       "      <td>False</td>\n",
       "      <td>False</td>\n",
       "      <td>False</td>\n",
       "      <td>False</td>\n",
       "      <td>False</td>\n",
       "      <td>...</td>\n",
       "      <td>False</td>\n",
       "      <td>False</td>\n",
       "      <td>False</td>\n",
       "      <td>False</td>\n",
       "      <td>False</td>\n",
       "      <td>False</td>\n",
       "      <td>False</td>\n",
       "      <td>False</td>\n",
       "      <td>False</td>\n",
       "      <td>False</td>\n",
       "    </tr>\n",
       "    <tr>\n",
       "      <th>2</th>\n",
       "      <td>False</td>\n",
       "      <td>False</td>\n",
       "      <td>False</td>\n",
       "      <td>False</td>\n",
       "      <td>False</td>\n",
       "      <td>False</td>\n",
       "      <td>False</td>\n",
       "      <td>False</td>\n",
       "      <td>False</td>\n",
       "      <td>False</td>\n",
       "      <td>...</td>\n",
       "      <td>False</td>\n",
       "      <td>False</td>\n",
       "      <td>False</td>\n",
       "      <td>False</td>\n",
       "      <td>False</td>\n",
       "      <td>False</td>\n",
       "      <td>False</td>\n",
       "      <td>False</td>\n",
       "      <td>False</td>\n",
       "      <td>False</td>\n",
       "    </tr>\n",
       "    <tr>\n",
       "      <th>3</th>\n",
       "      <td>False</td>\n",
       "      <td>False</td>\n",
       "      <td>False</td>\n",
       "      <td>False</td>\n",
       "      <td>False</td>\n",
       "      <td>False</td>\n",
       "      <td>False</td>\n",
       "      <td>False</td>\n",
       "      <td>False</td>\n",
       "      <td>False</td>\n",
       "      <td>...</td>\n",
       "      <td>False</td>\n",
       "      <td>False</td>\n",
       "      <td>False</td>\n",
       "      <td>True</td>\n",
       "      <td>False</td>\n",
       "      <td>False</td>\n",
       "      <td>False</td>\n",
       "      <td>False</td>\n",
       "      <td>False</td>\n",
       "      <td>False</td>\n",
       "    </tr>\n",
       "    <tr>\n",
       "      <th>4</th>\n",
       "      <td>False</td>\n",
       "      <td>False</td>\n",
       "      <td>False</td>\n",
       "      <td>False</td>\n",
       "      <td>False</td>\n",
       "      <td>False</td>\n",
       "      <td>False</td>\n",
       "      <td>False</td>\n",
       "      <td>False</td>\n",
       "      <td>False</td>\n",
       "      <td>...</td>\n",
       "      <td>False</td>\n",
       "      <td>False</td>\n",
       "      <td>False</td>\n",
       "      <td>True</td>\n",
       "      <td>False</td>\n",
       "      <td>False</td>\n",
       "      <td>False</td>\n",
       "      <td>False</td>\n",
       "      <td>False</td>\n",
       "      <td>False</td>\n",
       "    </tr>\n",
       "  </tbody>\n",
       "</table>\n",
       "<p>5 rows × 215 columns</p>\n",
       "</div>"
      ]
     },
     "execution_count": 76,
     "metadata": {},
     "output_type": "execute_result"
    }
   ],
   "execution_count": 76
  },
  {
   "cell_type": "code",
   "metadata": {
    "ExecuteTime": {
     "end_time": "2025-03-06T09:46:42.384941Z",
     "start_time": "2025-03-06T09:46:42.350639Z"
    }
   },
   "source": [
    "pd.get_dummies(cat_temp_data, dummy_na=True).head()"
   ],
   "outputs": [
    {
     "data": {
      "text/plain": [
       "   country_ADMIRALTY ISLANDS  country_AFRICA  country_ALGERIA  \\\n",
       "0                      False           False            False   \n",
       "1                      False           False            False   \n",
       "2                      False           False            False   \n",
       "3                      False           False            False   \n",
       "4                      False           False            False   \n",
       "\n",
       "   country_AMERICAN SAMOA  country_ANDAMAN / NICOBAR ISLANDAS  \\\n",
       "0                   False                               False   \n",
       "1                   False                               False   \n",
       "2                   False                               False   \n",
       "3                   False                               False   \n",
       "4                   False                               False   \n",
       "\n",
       "   country_ANDAMAN ISLANDS  country_ANGOLA  country_ANTIGUA  \\\n",
       "0                    False           False            False   \n",
       "1                    False           False            False   \n",
       "2                    False           False            False   \n",
       "3                    False           False            False   \n",
       "4                    False           False            False   \n",
       "\n",
       "   country_ARGENTINA  country_ARUBA  ...  country_UNITED KINGDOM  \\\n",
       "0              False          False  ...                   False   \n",
       "1              False          False  ...                   False   \n",
       "2              False          False  ...                   False   \n",
       "3              False          False  ...                   False   \n",
       "4              False          False  ...                   False   \n",
       "\n",
       "   country_URUGUAY  country_USA  country_VANUATU  country_VENEZUELA  \\\n",
       "0            False        False            False              False   \n",
       "1            False        False            False              False   \n",
       "2            False        False            False              False   \n",
       "3            False         True            False              False   \n",
       "4            False         True            False              False   \n",
       "\n",
       "   country_VIETNAM  country_WEST INDIES  country_WESTERN SAMOA  country_YEMEN  \\\n",
       "0            False                False                  False          False   \n",
       "1            False                False                  False          False   \n",
       "2            False                False                  False          False   \n",
       "3            False                False                  False          False   \n",
       "4            False                False                  False          False   \n",
       "\n",
       "   country_nan  \n",
       "0        False  \n",
       "1        False  \n",
       "2        False  \n",
       "3        False  \n",
       "4        False  \n",
       "\n",
       "[5 rows x 216 columns]"
      ],
      "text/html": [
       "<div>\n",
       "<style scoped>\n",
       "    .dataframe tbody tr th:only-of-type {\n",
       "        vertical-align: middle;\n",
       "    }\n",
       "\n",
       "    .dataframe tbody tr th {\n",
       "        vertical-align: top;\n",
       "    }\n",
       "\n",
       "    .dataframe thead th {\n",
       "        text-align: right;\n",
       "    }\n",
       "</style>\n",
       "<table border=\"1\" class=\"dataframe\">\n",
       "  <thead>\n",
       "    <tr style=\"text-align: right;\">\n",
       "      <th></th>\n",
       "      <th>country_ADMIRALTY ISLANDS</th>\n",
       "      <th>country_AFRICA</th>\n",
       "      <th>country_ALGERIA</th>\n",
       "      <th>country_AMERICAN SAMOA</th>\n",
       "      <th>country_ANDAMAN / NICOBAR ISLANDAS</th>\n",
       "      <th>country_ANDAMAN ISLANDS</th>\n",
       "      <th>country_ANGOLA</th>\n",
       "      <th>country_ANTIGUA</th>\n",
       "      <th>country_ARGENTINA</th>\n",
       "      <th>country_ARUBA</th>\n",
       "      <th>...</th>\n",
       "      <th>country_UNITED KINGDOM</th>\n",
       "      <th>country_URUGUAY</th>\n",
       "      <th>country_USA</th>\n",
       "      <th>country_VANUATU</th>\n",
       "      <th>country_VENEZUELA</th>\n",
       "      <th>country_VIETNAM</th>\n",
       "      <th>country_WEST INDIES</th>\n",
       "      <th>country_WESTERN SAMOA</th>\n",
       "      <th>country_YEMEN</th>\n",
       "      <th>country_nan</th>\n",
       "    </tr>\n",
       "  </thead>\n",
       "  <tbody>\n",
       "    <tr>\n",
       "      <th>0</th>\n",
       "      <td>False</td>\n",
       "      <td>False</td>\n",
       "      <td>False</td>\n",
       "      <td>False</td>\n",
       "      <td>False</td>\n",
       "      <td>False</td>\n",
       "      <td>False</td>\n",
       "      <td>False</td>\n",
       "      <td>False</td>\n",
       "      <td>False</td>\n",
       "      <td>...</td>\n",
       "      <td>False</td>\n",
       "      <td>False</td>\n",
       "      <td>False</td>\n",
       "      <td>False</td>\n",
       "      <td>False</td>\n",
       "      <td>False</td>\n",
       "      <td>False</td>\n",
       "      <td>False</td>\n",
       "      <td>False</td>\n",
       "      <td>False</td>\n",
       "    </tr>\n",
       "    <tr>\n",
       "      <th>1</th>\n",
       "      <td>False</td>\n",
       "      <td>False</td>\n",
       "      <td>False</td>\n",
       "      <td>False</td>\n",
       "      <td>False</td>\n",
       "      <td>False</td>\n",
       "      <td>False</td>\n",
       "      <td>False</td>\n",
       "      <td>False</td>\n",
       "      <td>False</td>\n",
       "      <td>...</td>\n",
       "      <td>False</td>\n",
       "      <td>False</td>\n",
       "      <td>False</td>\n",
       "      <td>False</td>\n",
       "      <td>False</td>\n",
       "      <td>False</td>\n",
       "      <td>False</td>\n",
       "      <td>False</td>\n",
       "      <td>False</td>\n",
       "      <td>False</td>\n",
       "    </tr>\n",
       "    <tr>\n",
       "      <th>2</th>\n",
       "      <td>False</td>\n",
       "      <td>False</td>\n",
       "      <td>False</td>\n",
       "      <td>False</td>\n",
       "      <td>False</td>\n",
       "      <td>False</td>\n",
       "      <td>False</td>\n",
       "      <td>False</td>\n",
       "      <td>False</td>\n",
       "      <td>False</td>\n",
       "      <td>...</td>\n",
       "      <td>False</td>\n",
       "      <td>False</td>\n",
       "      <td>False</td>\n",
       "      <td>False</td>\n",
       "      <td>False</td>\n",
       "      <td>False</td>\n",
       "      <td>False</td>\n",
       "      <td>False</td>\n",
       "      <td>False</td>\n",
       "      <td>False</td>\n",
       "    </tr>\n",
       "    <tr>\n",
       "      <th>3</th>\n",
       "      <td>False</td>\n",
       "      <td>False</td>\n",
       "      <td>False</td>\n",
       "      <td>False</td>\n",
       "      <td>False</td>\n",
       "      <td>False</td>\n",
       "      <td>False</td>\n",
       "      <td>False</td>\n",
       "      <td>False</td>\n",
       "      <td>False</td>\n",
       "      <td>...</td>\n",
       "      <td>False</td>\n",
       "      <td>False</td>\n",
       "      <td>True</td>\n",
       "      <td>False</td>\n",
       "      <td>False</td>\n",
       "      <td>False</td>\n",
       "      <td>False</td>\n",
       "      <td>False</td>\n",
       "      <td>False</td>\n",
       "      <td>False</td>\n",
       "    </tr>\n",
       "    <tr>\n",
       "      <th>4</th>\n",
       "      <td>False</td>\n",
       "      <td>False</td>\n",
       "      <td>False</td>\n",
       "      <td>False</td>\n",
       "      <td>False</td>\n",
       "      <td>False</td>\n",
       "      <td>False</td>\n",
       "      <td>False</td>\n",
       "      <td>False</td>\n",
       "      <td>False</td>\n",
       "      <td>...</td>\n",
       "      <td>False</td>\n",
       "      <td>False</td>\n",
       "      <td>True</td>\n",
       "      <td>False</td>\n",
       "      <td>False</td>\n",
       "      <td>False</td>\n",
       "      <td>False</td>\n",
       "      <td>False</td>\n",
       "      <td>False</td>\n",
       "      <td>False</td>\n",
       "    </tr>\n",
       "  </tbody>\n",
       "</table>\n",
       "<p>5 rows × 216 columns</p>\n",
       "</div>"
      ]
     },
     "execution_count": 77,
     "metadata": {},
     "output_type": "execute_result"
    }
   ],
   "execution_count": 77
  },
  {
   "cell_type": "markdown",
   "metadata": {},
   "source": [
    "# Масштабирование данных"
   ]
  },
  {
   "cell_type": "markdown",
   "metadata": {},
   "source": [
    "Термины \"масштабирование\" и \"нормализация\" часто используются как синонимы, но это неверно. Масштабирование предполагает изменение диапазона измерения величины, а нормализация - изменение распределения этой величины. В этом разделе рассматривается только масштабирование.\n",
    "\n",
    "Если признаки лежат в различных диапазонах, то необходимо их нормализовать. Как правило, применяют два подхода:\n",
    "- MinMax масштабирование:\n",
    "$$ x_{новый} = \\frac{x_{старый} - min(X)}{max(X)-min(X)} $$\n",
    "\n",
    "В этом случае значения лежат в диапазоне от 0 до 1.\n",
    "- Масштабирование данных на основе [Z-оценки](https://ru.wikipedia.org/wiki/Z-%D0%BE%D1%86%D0%B5%D0%BD%D0%BA%D0%B0):\n",
    "$$ x_{новый} = \\frac{x_{старый} - AVG(X) }{\\sigma(X)} $$\n",
    "\n",
    "В этом случае большинство значений попадает в диапазон от -3 до 3.\n",
    "\n",
    "где $X$ - матрица объект-признак, $AVG(X)$ - среднее значение, $\\sigma$ - среднеквадратичное отклонение."
   ]
  },
  {
   "cell_type": "code",
   "metadata": {
    "ExecuteTime": {
     "end_time": "2025-03-06T09:46:57.759435Z",
     "start_time": "2025-03-06T09:46:57.747434Z"
    }
   },
   "source": [
    "from sklearn.preprocessing import MinMaxScaler, StandardScaler, Normalizer"
   ],
   "outputs": [],
   "execution_count": 78
  },
  {
   "cell_type": "markdown",
   "metadata": {},
   "source": [
    "## [MinMax масштабирование](https://scikit-learn.org/stable/modules/generated/sklearn.preprocessing.MinMaxScaler.html)"
   ]
  },
  {
   "cell_type": "code",
   "metadata": {
    "ExecuteTime": {
     "end_time": "2025-03-06T09:58:10.804728Z",
     "start_time": "2025-03-06T09:58:10.795339Z"
    }
   },
   "source": [
    "sc1 = MinMaxScaler()\n",
    "sc1_data = sc1.fit_transform(data[['year']])"
   ],
   "outputs": [],
   "execution_count": 85
  },
  {
   "cell_type": "code",
   "metadata": {
    "ExecuteTime": {
     "end_time": "2025-03-06T09:58:15.313585Z",
     "start_time": "2025-03-06T09:58:15.171771Z"
    }
   },
   "source": [
    "plt.hist(data['year'], 50)\n",
    "plt.show()"
   ],
   "outputs": [
    {
     "data": {
      "text/plain": [
       "<Figure size 640x480 with 1 Axes>"
      ],
      "image/png": "[encoded data removed]"
     },
     "metadata": {},
     "output_type": "display_data"
    }
   ],
   "execution_count": 86
  },
  {
   "cell_type": "code",
   "metadata": {
    "ExecuteTime": {
     "end_time": "2025-03-06T09:58:19.550893Z",
     "start_time": "2025-03-06T09:58:19.413793Z"
    }
   },
   "source": [
    "plt.hist(sc1_data, 50)\n",
    "plt.show()"
   ],
   "outputs": [
    {
     "data": {
      "text/plain": [
       "<Figure size 640x480 with 1 Axes>"
      ],
      "image/png": "[encoded data removed]"
     },
     "metadata": {},
     "output_type": "display_data"
    }
   ],
   "execution_count": 87
  },
  {
   "cell_type": "markdown",
   "metadata": {},
   "source": [
    "## Масштабирование данных на основе [Z-оценки](https://ru.wikipedia.org/wiki/Z-%D0%BE%D1%86%D0%B5%D0%BD%D0%BA%D0%B0) - [StandardScaler](https://scikit-learn.org/stable/modules/generated/sklearn.preprocessing.StandardScaler.html#sklearn.preprocessing.StandardScaler)"
   ]
  },
  {
   "cell_type": "code",
   "metadata": {
    "ExecuteTime": {
     "end_time": "2025-03-06T09:58:36.825285Z",
     "start_time": "2025-03-06T09:58:36.811703Z"
    }
   },
   "source": [
    "sc2 = StandardScaler()\n",
    "sc2_data = sc2.fit_transform(data[['year']])"
   ],
   "outputs": [],
   "execution_count": 88
  },
  {
   "cell_type": "code",
   "metadata": {
    "ExecuteTime": {
     "end_time": "2025-03-06T09:58:39.343793Z",
     "start_time": "2025-03-06T09:58:39.199685Z"
    }
   },
   "source": [
    "plt.hist(sc2_data, 50)\n",
    "plt.show()"
   ],
   "outputs": [
    {
     "data": {
      "text/plain": [
       "<Figure size 640x480 with 1 Axes>"
      ],
      "image/png": "[encoded data removed]"
     },
     "metadata": {},
     "output_type": "display_data"
    }
   ],
   "execution_count": 89
  },
  {
   "cell_type": "markdown",
   "metadata": {},
   "source": [
    "# Дополнительные источники\n",
    "- [Руководство scikit-learn по предобработке данных](https://scikit-learn.org/stable/modules/preprocessing.html)\n",
    "- [Kaggle Data Cleaning Challenge: Handling missing values (упражнения с пояснениями по обработке пропущенных значений и масштабированию признаков)](https://www.kaggle.com/rtatman/data-cleaning-challenge-handling-missing-values)\n",
    "- [Краткое руководство по категориальным признакам](https://towardsdatascience.com/encoding-categorical-features-21a2651a065c)"
   ]
  }
 ],
 "metadata": {
  "kernelspec": {
   "display_name": "Python 3 (ipykernel)",
   "language": "python",
   "name": "python3"
  },
  "language_info": {
   "codemirror_mode": {
    "name": "ipython",
    "version": 3
   },
   "file_extension": ".py",
   "mimetype": "text/x-python",
   "name": "python",
   "nbconvert_exporter": "python",
   "pygments_lexer": "ipython3",
   "version": "3.9.7"
  },
  "toc": {
   "base_numbering": 1,
   "nav_menu": {},
   "number_sections": true,
   "sideBar": true,
   "skip_h1_title": false,
   "title_cell": "Table of Contents",
   "title_sidebar": "Contents",
   "toc_cell": false,
   "toc_position": {},
   "toc_section_display": true,
   "toc_window_display": false
  }
 },
 "nbformat": 4,
 "nbformat_minor": 2
}
