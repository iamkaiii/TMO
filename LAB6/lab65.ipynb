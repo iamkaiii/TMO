{
 "cells": [
  {
   "metadata": {},
   "cell_type": "markdown",
   "source": [
    "<h1><b>Лабораторная работа №5 ч.2 </b></h1>\n",
    "Анализ ансамблевых методов машинного обучения"
   ],
   "id": "a37eb074dac401c2"
  },
  {
   "metadata": {},
   "cell_type": "markdown",
   "source": "1. Загрузка и подготовка данных",
   "id": "e77717fdff7cd324"
  },
  {
   "metadata": {
    "ExecuteTime": {
     "end_time": "2025-04-17T09:13:07.306159Z",
     "start_time": "2025-04-17T09:13:07.286172Z"
    }
   },
   "cell_type": "code",
   "source": [
    "import pandas as pd\n",
    "import numpy as np\n",
    "import matplotlib.pyplot as plt\n",
    "import seaborn as sns\n",
    "from sklearn.model_selection import train_test_split\n",
    "from sklearn.preprocessing import StandardScaler, OneHotEncoder\n",
    "from sklearn.ensemble import StackingRegressor\n",
    "from sklearn.linear_model import LinearRegression\n",
    "from sklearn.ensemble import RandomForestRegressor\n",
    "from sklearn.neural_network import MLPRegressor\n",
    "from sklearn.metrics import mean_squared_error, r2_score\n",
    "from gmdh import Combi, Multi, Mia, Ria\n",
    "import warnings\n",
    "warnings.filterwarnings('ignore')"
   ],
   "id": "39ecacd44c1c62ac",
   "outputs": [],
   "execution_count": 28
  },
  {
   "metadata": {},
   "cell_type": "markdown",
   "source": "",
   "id": "4543b733dfe7dd39"
  },
  {
   "metadata": {
    "ExecuteTime": {
     "end_time": "2025-04-17T09:13:07.636031Z",
     "start_time": "2025-04-17T09:13:07.613035Z"
    }
   },
   "cell_type": "code",
   "source": [
    "# Загрузка данных\n",
    "data = pd.read_csv('water_pollution_disease.csv')\n",
    "\n",
    "# Просмотр первых строк данных\n",
    "print(data.head())\n"
   ],
   "id": "dabb884032706aa4",
   "outputs": [
    {
     "name": "stdout",
     "output_type": "stream",
     "text": [
      "     Country   Region  Year Water Source Type  Contaminant Level (ppm)  \\\n",
      "0     Mexico    North  2015              Lake                     6.06   \n",
      "1     Brazil     West  2017              Well                     5.24   \n",
      "2  Indonesia  Central  2022              Pond                     0.24   \n",
      "3    Nigeria     East  2016              Well                     7.91   \n",
      "4     Mexico    South  2005              Well                     0.12   \n",
      "\n",
      "   pH Level  Turbidity (NTU)  Dissolved Oxygen (mg/L)  Nitrate Level (mg/L)  \\\n",
      "0      7.12             3.93                     4.28                  8.28   \n",
      "1      7.84             4.79                     3.86                 15.74   \n",
      "2      6.43             0.79                     3.42                 36.67   \n",
      "3      6.71             1.96                     3.12                 36.92   \n",
      "4      8.16             4.22                     9.15                 49.35   \n",
      "\n",
      "   Lead Concentration (µg/L)  ...  Cholera Cases per 100,000 people  \\\n",
      "0                       7.89  ...                                33   \n",
      "1                      14.68  ...                                27   \n",
      "2                       9.96  ...                                39   \n",
      "3                       6.77  ...                                33   \n",
      "4                      12.51  ...                                31   \n",
      "\n",
      "  Typhoid Cases per 100,000 people  \\\n",
      "0                               44   \n",
      "1                                8   \n",
      "2                               50   \n",
      "3                               13   \n",
      "4                               68   \n",
      "\n",
      "   Infant Mortality Rate (per 1,000 live births)  GDP per Capita (USD)  \\\n",
      "0                                          76.16                 57057   \n",
      "1                                          77.30                 17220   \n",
      "2                                          48.45                 86022   \n",
      "3                                          95.66                 31166   \n",
      "4                                          58.78                 25661   \n",
      "\n",
      "   Healthcare Access Index (0-100)  Urbanization Rate (%)  \\\n",
      "0                            96.92                  84.61   \n",
      "1                            84.73                  73.37   \n",
      "2                            58.37                  72.86   \n",
      "3                            39.07                  71.07   \n",
      "4                            23.03                  55.55   \n",
      "\n",
      "   Sanitation Coverage (% of Population)  Rainfall (mm per year)  \\\n",
      "0                                  63.23                    2800   \n",
      "1                                  29.12                    1572   \n",
      "2                                  93.56                    2074   \n",
      "3                                  94.25                     937   \n",
      "4                                  69.23                    2295   \n",
      "\n",
      "   Temperature (°C)  Population Density (people per km²)  \n",
      "0              4.94                                  593  \n",
      "1             16.93                                  234  \n",
      "2             21.73                                   57  \n",
      "3              3.79                                  555  \n",
      "4             31.44                                  414  \n",
      "\n",
      "[5 rows x 24 columns]\n"
     ]
    }
   ],
   "execution_count": 29
  },
  {
   "metadata": {
    "ExecuteTime": {
     "end_time": "2025-04-17T09:13:07.872030Z",
     "start_time": "2025-04-17T09:13:07.844031Z"
    }
   },
   "cell_type": "code",
   "source": [
    "# Основная информация о данных\n",
    "print(\"\\nИнформация о данных:\")\n",
    "print(data.info())"
   ],
   "id": "e42b1b254a274d97",
   "outputs": [
    {
     "name": "stdout",
     "output_type": "stream",
     "text": [
      "\n",
      "Информация о данных:\n",
      "<class 'pandas.core.frame.DataFrame'>\n",
      "RangeIndex: 3000 entries, 0 to 2999\n",
      "Data columns (total 24 columns):\n",
      " #   Column                                         Non-Null Count  Dtype  \n",
      "---  ------                                         --------------  -----  \n",
      " 0   Country                                        3000 non-null   object \n",
      " 1   Region                                         3000 non-null   object \n",
      " 2   Year                                           3000 non-null   int64  \n",
      " 3   Water Source Type                              3000 non-null   object \n",
      " 4   Contaminant Level (ppm)                        3000 non-null   float64\n",
      " 5   pH Level                                       3000 non-null   float64\n",
      " 6   Turbidity (NTU)                                3000 non-null   float64\n",
      " 7   Dissolved Oxygen (mg/L)                        3000 non-null   float64\n",
      " 8   Nitrate Level (mg/L)                           3000 non-null   float64\n",
      " 9   Lead Concentration (µg/L)                      3000 non-null   float64\n",
      " 10  Bacteria Count (CFU/mL)                        3000 non-null   int64  \n",
      " 11  Water Treatment Method                         2253 non-null   object \n",
      " 12  Access to Clean Water (% of Population)        3000 non-null   float64\n",
      " 13  Diarrheal Cases per 100,000 people             3000 non-null   int64  \n",
      " 14  Cholera Cases per 100,000 people               3000 non-null   int64  \n",
      " 15  Typhoid Cases per 100,000 people               3000 non-null   int64  \n",
      " 16  Infant Mortality Rate (per 1,000 live births)  3000 non-null   float64\n",
      " 17  GDP per Capita (USD)                           3000 non-null   int64  \n",
      " 18  Healthcare Access Index (0-100)                3000 non-null   float64\n",
      " 19  Urbanization Rate (%)                          3000 non-null   float64\n",
      " 20  Sanitation Coverage (% of Population)          3000 non-null   float64\n",
      " 21  Rainfall (mm per year)                         3000 non-null   int64  \n",
      " 22  Temperature (°C)                               3000 non-null   float64\n",
      " 23  Population Density (people per km²)            3000 non-null   int64  \n",
      "dtypes: float64(12), int64(8), object(4)\n",
      "memory usage: 562.6+ KB\n",
      "None\n"
     ]
    }
   ],
   "execution_count": 30
  },
  {
   "metadata": {
    "ExecuteTime": {
     "end_time": "2025-04-17T09:13:07.981028Z",
     "start_time": "2025-04-17T09:13:07.968033Z"
    }
   },
   "cell_type": "code",
   "source": [
    "# Проверка пропущенных значений\n",
    "print(\"\\nПропущенные значения:\")\n",
    "print(data.isnull().sum())\n"
   ],
   "id": "76f12e6139e4d91e",
   "outputs": [
    {
     "name": "stdout",
     "output_type": "stream",
     "text": [
      "\n",
      "Пропущенные значения:\n",
      "Country                                            0\n",
      "Region                                             0\n",
      "Year                                               0\n",
      "Water Source Type                                  0\n",
      "Contaminant Level (ppm)                            0\n",
      "pH Level                                           0\n",
      "Turbidity (NTU)                                    0\n",
      "Dissolved Oxygen (mg/L)                            0\n",
      "Nitrate Level (mg/L)                               0\n",
      "Lead Concentration (µg/L)                          0\n",
      "Bacteria Count (CFU/mL)                            0\n",
      "Water Treatment Method                           747\n",
      "Access to Clean Water (% of Population)            0\n",
      "Diarrheal Cases per 100,000 people                 0\n",
      "Cholera Cases per 100,000 people                   0\n",
      "Typhoid Cases per 100,000 people                   0\n",
      "Infant Mortality Rate (per 1,000 live births)      0\n",
      "GDP per Capita (USD)                               0\n",
      "Healthcare Access Index (0-100)                    0\n",
      "Urbanization Rate (%)                              0\n",
      "Sanitation Coverage (% of Population)              0\n",
      "Rainfall (mm per year)                             0\n",
      "Temperature (°C)                                   0\n",
      "Population Density (people per km²)                0\n",
      "dtype: int64\n"
     ]
    }
   ],
   "execution_count": 31
  },
  {
   "metadata": {
    "ExecuteTime": {
     "end_time": "2025-04-17T09:13:08.230733Z",
     "start_time": "2025-04-17T09:13:08.163736Z"
    }
   },
   "cell_type": "code",
   "source": [
    "# Описательная статистика\n",
    "print(\"\\nОписательная статистика:\")\n",
    "print(data.describe())"
   ],
   "id": "4987da393ca4a4ab",
   "outputs": [
    {
     "name": "stdout",
     "output_type": "stream",
     "text": [
      "\n",
      "Описательная статистика:\n",
      "              Year  Contaminant Level (ppm)     pH Level  Turbidity (NTU)  \\\n",
      "count  3000.000000              3000.000000  3000.000000      3000.000000   \n",
      "mean   2012.012667                 4.954390     7.255847         2.480023   \n",
      "std       7.229287                 2.860072     0.720464         1.419984   \n",
      "min    2000.000000                 0.000000     6.000000         0.000000   \n",
      "25%    2006.000000                 2.560000     6.630000         1.257500   \n",
      "50%    2012.000000                 4.950000     7.280000         2.460000   \n",
      "75%    2018.000000                 7.400000     7.870000         3.660000   \n",
      "max    2024.000000                10.000000     8.500000         4.990000   \n",
      "\n",
      "       Dissolved Oxygen (mg/L)  Nitrate Level (mg/L)  \\\n",
      "count              3000.000000            3000.00000   \n",
      "mean                  6.492850              25.08025   \n",
      "std                   2.027966              14.50517   \n",
      "min                   3.000000               0.05000   \n",
      "25%                   4.710000              12.52500   \n",
      "50%                   6.490000              24.79000   \n",
      "75%                   8.252500              37.91000   \n",
      "max                  10.000000              49.99000   \n",
      "\n",
      "       Lead Concentration (µg/L)  Bacteria Count (CFU/mL)  \\\n",
      "count                3000.000000              3000.000000   \n",
      "mean                   10.047913              2488.477333   \n",
      "std                     5.798238              1431.421553   \n",
      "min                     0.000000                 0.000000   \n",
      "25%                     5.120000              1268.000000   \n",
      "50%                    10.065000              2469.000000   \n",
      "75%                    15.032500              3736.250000   \n",
      "max                    20.000000              4998.000000   \n",
      "\n",
      "       Access to Clean Water (% of Population)  \\\n",
      "count                              3000.000000   \n",
      "mean                                 64.612333   \n",
      "std                                  20.308463   \n",
      "min                                  30.010000   \n",
      "25%                                  47.027500   \n",
      "50%                                  64.780000   \n",
      "75%                                  82.302500   \n",
      "max                                  99.990000   \n",
      "\n",
      "       Diarrheal Cases per 100,000 people  Cholera Cases per 100,000 people  \\\n",
      "count                         3000.000000                        3000.00000   \n",
      "mean                           249.776667                          24.25100   \n",
      "std                            144.111543                          14.33259   \n",
      "min                              0.000000                           0.00000   \n",
      "25%                            124.000000                          12.00000   \n",
      "50%                            248.000000                          24.00000   \n",
      "75%                            378.000000                          37.00000   \n",
      "max                            499.000000                          49.00000   \n",
      "\n",
      "       Typhoid Cases per 100,000 people  \\\n",
      "count                       3000.000000   \n",
      "mean                          49.270000   \n",
      "std                           28.984165   \n",
      "min                            0.000000   \n",
      "25%                           24.000000   \n",
      "50%                           49.000000   \n",
      "75%                           75.000000   \n",
      "max                           99.000000   \n",
      "\n",
      "       Infant Mortality Rate (per 1,000 live births)  GDP per Capita (USD)  \\\n",
      "count                                    3000.000000           3000.000000   \n",
      "mean                                       50.811900          50036.196667   \n",
      "std                                        28.465323          28598.750508   \n",
      "min                                         2.060000            521.000000   \n",
      "25%                                        26.467500          25010.250000   \n",
      "50%                                        50.230000          49621.500000   \n",
      "75%                                        76.260000          74778.250000   \n",
      "max                                        99.990000          99948.000000   \n",
      "\n",
      "       Healthcare Access Index (0-100)  Urbanization Rate (%)  \\\n",
      "count                      3000.000000            3000.000000   \n",
      "mean                         50.029193              50.062480   \n",
      "std                          28.896676              22.779125   \n",
      "min                           0.190000              10.030000   \n",
      "25%                          24.982500              30.557500   \n",
      "50%                          50.390000              49.795000   \n",
      "75%                          74.817500              69.727500   \n",
      "max                          99.980000              89.980000   \n",
      "\n",
      "       Sanitation Coverage (% of Population)  Rainfall (mm per year)  \\\n",
      "count                            3000.000000             3000.000000   \n",
      "mean                               60.371007             1591.849000   \n",
      "std                                23.159678              817.502434   \n",
      "min                                20.010000              200.000000   \n",
      "25%                                40.440000              865.750000   \n",
      "50%                                60.580000             1572.000000   \n",
      "75%                                80.420000             2308.250000   \n",
      "max                                99.990000             2999.000000   \n",
      "\n",
      "       Temperature (°C)  Population Density (people per km²)  \n",
      "count       3000.000000                          3000.000000  \n",
      "mean          20.130917                           505.390333  \n",
      "std           11.689244                           283.275224  \n",
      "min            0.060000                            10.000000  \n",
      "25%            9.840000                           254.750000  \n",
      "50%           20.175000                           513.000000  \n",
      "75%           30.672500                           745.000000  \n",
      "max           39.990000                           999.000000  \n"
     ]
    }
   ],
   "execution_count": 32
  },
  {
   "metadata": {},
   "cell_type": "markdown",
   "source": "2.Работа с данными",
   "id": "b608205f6386e3e8"
  },
  {
   "metadata": {
    "ExecuteTime": {
     "end_time": "2025-04-17T09:13:08.490494Z",
     "start_time": "2025-04-17T09:13:08.454496Z"
    }
   },
   "cell_type": "code",
   "source": [
    "# Заполнение пропусков медианными значениями\n",
    "numeric_cols = data.select_dtypes(include=[np.number]).columns\n",
    "data[numeric_cols] = data[numeric_cols].fillna(data[numeric_cols].median())"
   ],
   "id": "c38d5877e5778952",
   "outputs": [],
   "execution_count": 33
  },
  {
   "metadata": {},
   "cell_type": "markdown",
   "source": "Кодирование категориальных переменных",
   "id": "efe4d1236afd8695"
  },
  {
   "metadata": {
    "ExecuteTime": {
     "end_time": "2025-04-17T09:13:08.837489Z",
     "start_time": "2025-04-17T09:13:08.821504Z"
    }
   },
   "cell_type": "code",
   "source": [
    "cat_cols = ['Country', 'Region', 'Water Source Type', 'Water Treatment Method']\n",
    "data = pd.get_dummies(data, columns=cat_cols, drop_first=True)"
   ],
   "id": "52dfdb05a6d0ac8a",
   "outputs": [],
   "execution_count": 34
  },
  {
   "metadata": {},
   "cell_type": "markdown",
   "source": "3. Подготовка данных для моделирования",
   "id": "3e1e87116bcaafa9"
  },
  {
   "metadata": {},
   "cell_type": "markdown",
   "source": "Выделение признаков и целевой переменной (Infant Mortality Rate) --- Коэффициент младенческой смертности\n",
   "id": "6b566d596911d741"
  },
  {
   "metadata": {
    "ExecuteTime": {
     "end_time": "2025-04-17T09:13:09.359066Z",
     "start_time": "2025-04-17T09:13:09.350883Z"
    }
   },
   "cell_type": "code",
   "source": [
    "X = data.drop('Infant Mortality Rate (per 1,000 live births)', axis=1)\n",
    "y = data['Infant Mortality Rate (per 1,000 live births)']"
   ],
   "id": "ed466035a9f6db1",
   "outputs": [],
   "execution_count": 35
  },
  {
   "metadata": {},
   "cell_type": "markdown",
   "source": "Масштабирование признаков\n",
   "id": "d5c94e52a0bd9b1a"
  },
  {
   "metadata": {
    "ExecuteTime": {
     "end_time": "2025-04-17T09:13:09.754236Z",
     "start_time": "2025-04-17T09:13:09.719236Z"
    }
   },
   "cell_type": "code",
   "source": [
    "scaler = StandardScaler()\n",
    "X_scaled = scaler.fit_transform(X)"
   ],
   "id": "a04a31c1e76929f0",
   "outputs": [],
   "execution_count": 36
  },
  {
   "metadata": {},
   "cell_type": "markdown",
   "source": "Разделение на обучающую и тестовую выборки",
   "id": "953c40047d7e25c"
  },
  {
   "metadata": {
    "ExecuteTime": {
     "end_time": "2025-04-17T09:13:10.102217Z",
     "start_time": "2025-04-17T09:13:10.088219Z"
    }
   },
   "cell_type": "code",
   "source": "X_train, X_test, y_train, y_test = train_test_split(X_scaled, y, test_size=0.3, random_state=42)",
   "id": "7730c2f6d83409f0",
   "outputs": [],
   "execution_count": 37
  },
  {
   "metadata": {},
   "cell_type": "markdown",
   "source": "4. Построение и оценка моделей",
   "id": "170046fcb54a54e3"
  },
  {
   "metadata": {
    "ExecuteTime": {
     "end_time": "2025-04-17T09:13:29.060804Z",
     "start_time": "2025-04-17T09:13:10.456066Z"
    }
   },
   "cell_type": "code",
   "source": [
    "# Определение базовых моделей для стекинга\n",
    "estimators = [\n",
    "    ('lr', LinearRegression()),\n",
    "    ('rf', RandomForestRegressor(n_estimators=100, random_state=42))\n",
    "]\n",
    "\n",
    "# Создание и обучение модели стекинга\n",
    "stacking = StackingRegressor(\n",
    "    estimators=estimators,\n",
    "    final_estimator=LinearRegression()\n",
    ")\n",
    "stacking.fit(X_train, y_train)\n",
    "\n",
    "# Прогнозирование и оценка\n",
    "y_pred_stack = stacking.predict(X_test)\n",
    "rmse_stack = np.sqrt(mean_squared_error(y_test, y_pred_stack))\n",
    "r2_stack = r2_score(y_test, y_pred_stack)\n",
    "\n",
    "print(\"\\nСтекинг:\")\n",
    "print(f\"RMSE: {rmse_stack:.4f}\")\n",
    "print(f\"R²: {r2_stack:.4f}\")"
   ],
   "id": "440f88bcbcbe44e4",
   "outputs": [
    {
     "name": "stdout",
     "output_type": "stream",
     "text": [
      "\n",
      "Стекинг:\n",
      "RMSE: 28.3694\n",
      "R²: -0.0072\n"
     ]
    }
   ],
   "execution_count": 38
  },
  {
   "metadata": {},
   "cell_type": "markdown",
   "source": "4.2. Многослойный перцептрон (MLP)",
   "id": "a124bccee0c39d32"
  },
  {
   "metadata": {
    "ExecuteTime": {
     "end_time": "2025-04-17T09:13:39.838446Z",
     "start_time": "2025-04-17T09:13:29.062802Z"
    }
   },
   "cell_type": "code",
   "source": [
    "# Создание и обучение MLP\n",
    "mlp = MLPRegressor(\n",
    "    hidden_layer_sizes=(100, 50),\n",
    "    activation='relu',\n",
    "    solver='adam',\n",
    "    max_iter=1000,\n",
    "    random_state=42\n",
    ")\n",
    "mlp.fit(X_train, y_train)\n",
    "\n",
    "# Прогнозирование и оценка\n",
    "y_pred_mlp = mlp.predict(X_test)\n",
    "rmse_mlp = np.sqrt(mean_squared_error(y_test, y_pred_mlp))\n",
    "r2_mlp = r2_score(y_test, y_pred_mlp)\n",
    "\n",
    "print(\"\\nМногослойный перцептрон:\")\n",
    "print(f\"RMSE: {rmse_mlp:.4f}\")\n",
    "print(f\"R²: {r2_mlp:.4f}\")"
   ],
   "id": "f5f9bfefa2e80c6f",
   "outputs": [
    {
     "name": "stdout",
     "output_type": "stream",
     "text": [
      "\n",
      "Многослойный перцептрон:\n",
      "RMSE: 38.0136\n",
      "R²: -0.8083\n"
     ]
    }
   ],
   "execution_count": 39
  },
  {
   "metadata": {},
   "cell_type": "markdown",
   "source": "4.3 Методы МГУА (GMDH)",
   "id": "17f10c03e751fb00"
  },
  {
   "metadata": {
    "jupyter": {
     "is_executing": true
    },
    "ExecuteTime": {
     "start_time": "2025-04-17T09:16:13.983770Z"
    }
   },
   "cell_type": "code",
   "source": [
    "import numpy as np\n",
    "from sklearn.model_selection import train_test_split\n",
    "from sklearn.metrics import mean_squared_error, r2_score\n",
    "\n",
    "# Уменьшение данных до 10% от исходного размера\n",
    "def reduce_data_size(X, y, fraction=0.1):\n",
    "    _, X_reduced, _, y_reduced = train_test_split(\n",
    "        X, y, \n",
    "        train_size=fraction, \n",
    "        random_state=42, \n",
    "        stratify=None\n",
    "    )\n",
    "    return X_reduced, y_reduced\n",
    "\n",
    "# Применение к обучающим данным\n",
    "X_train_reduced, y_train_reduced = reduce_data_size(X_train, y_train)\n",
    "\n",
    "# Преобразование данных для GMDH (требует numpy массивы)\n",
    "X_train_gmdh = np.array(X_train_reduced)\n",
    "y_train_gmdh = np.array(y_train_reduced)\n",
    "X_test_gmdh = np.array(X_test)\n",
    "\n",
    "# Линейный метод COMBI\n",
    "try:\n",
    "    combi = Combi()\n",
    "    combi.fit(X_train_gmdh, y_train_gmdh)\n",
    "    y_pred_combi = combi.predict(X_test_gmdh)\n",
    "    rmse_combi = np.sqrt(mean_squared_error(y_test, y_pred_combi))\n",
    "    r2_combi = r2_score(y_test, y_pred_combi)\n",
    "\n",
    "    print(\"\\nМГУА (COMBI) на 10% данных:\")\n",
    "    print(f\"RMSE: {rmse_combi:.4f}\")\n",
    "    print(f\"R²: {r2_combi:.4f}\")\n",
    "except Exception as e:\n",
    "    print(f\"\\nОшибка при выполнении COMBI: {str(e)}\")\n",
    "    print(\"Попробуйте установить библиотеку gmdh или использовать альтернативные методы\")\n",
    "\n",
    "# Нелинейный метод MIA\n",
    "try:\n",
    "    mia = Mia()\n",
    "    mia.fit(X_train_gmdh, y_train_gmdh)\n",
    "    y_pred_mia = mia.predict(X_test_gmdh)\n",
    "    rmse_mia = np.sqrt(mean_squared_error(y_test, y_pred_mia))\n",
    "    r2_mia = r2_score(y_test, y_pred_mia)\n",
    "\n",
    "    print(\"\\nМГУА (MIA) на 10% данных:\")\n",
    "    print(f\"RMSE: {rmse_mia:.4f}\")\n",
    "    print(f\"R²: {r2_mia:.4f}\")\n",
    "except Exception as e:\n",
    "    print(f\"\\nОшибка при выполнении MIA: {str(e)}\")\n",
    "    print(\"Попробуйте установить библиотеку gmdh или использовать альтернативные методы\")\n",
    "\n",
    "# Альтернатива если GMDH не работает\n",
    "if 'rmse_combi' not in locals():\n",
    "    print(\"\\nИспользуем Ridge и RandomForest как альтернативу GMDH\")\n",
    "    \n",
    "    from sklearn.linear_model import Ridge\n",
    "    from sklearn.ensemble import RandomForestRegressor\n",
    "    \n",
    "    # Линейная модель (аналог COMBI)\n",
    "    ridge = Ridge()\n",
    "    ridge.fit(X_train_reduced, y_train_reduced)\n",
    "    y_pred_ridge = ridge.predict(X_test)\n",
    "    rmse_ridge = np.sqrt(mean_squared_error(y_test, y_pred_ridge))\n",
    "    r2_ridge = r2_score(y_test, y_pred_ridge)\n",
    "    \n",
    "    print(\"\\nRidge (линейная альтернатива COMBI):\")\n",
    "    print(f\"RMSE: {rmse_ridge:.4f}\")\n",
    "    print(f\"R²: {r2_ridge:.4f}\")\n",
    "    \n",
    "    # Нелинейная модель (аналог MIA)\n",
    "    rf = RandomForestRegressor(n_estimators=50, random_state=42)\n",
    "    rf.fit(X_train_reduced, y_train_reduced)\n",
    "    y_pred_rf = rf.predict(X_test)\n",
    "    rmse_rf = np.sqrt(mean_squared_error(y_test, y_pred_rf))\n",
    "    r2_rf = r2_score(y_test, y_pred_rf)\n",
    "    \n",
    "    print(\"\\nRandomForest (нелинейная альтернатива MIA):\")\n",
    "    print(f\"RMSE: {rmse_rf:.4f}\")\n",
    "    print(f\"R²: {r2_rf:.4f}\")"
   ],
   "id": "2fc031869f9f3a8a",
   "outputs": [],
   "execution_count": null
  },
  {
   "metadata": {},
   "cell_type": "markdown",
   "source": "f5. Сравнение моделей:",
   "id": "5999199aacf60e3b"
  },
  {
   "metadata": {},
   "cell_type": "code",
   "source": [
    "# Создание таблицы результатов\n",
    "results = pd.DataFrame({\n",
    "    'Метод': ['Стекинг', 'Многослойный перцептрон', 'МГУА (COMBI)', 'МГУА (MIA)'],\n",
    "    'RMSE': [rmse_stack, rmse_mlp, rmse_combi, rmse_mia],\n",
    "    'R²': [r2_stack, r2_mlp, r2_combi, r2_mia]\n",
    "})\n",
    "\n",
    "print(\"\\nСравнение моделей:\")\n",
    "print(results.sort_values('R²', ascending=False))\n",
    "\n",
    "# Визуализация результатов\n",
    "plt.figure(figsize=(10, 6))\n",
    "plt.bar(results['Метод'], results['R²'])\n",
    "plt.title('Сравнение моделей по метрике R²')\n",
    "plt.ylabel('R²')\n",
    "plt.xticks(rotation=45)\n",
    "plt.show()"
   ],
   "id": "5f174bdaa4320fec",
   "outputs": [],
   "execution_count": null
  }
 ],
 "metadata": {
  "kernelspec": {
   "display_name": "Python 3",
   "language": "python",
   "name": "python3"
  },
  "language_info": {
   "codemirror_mode": {
    "name": "ipython",
    "version": 2
   },
   "file_extension": ".py",
   "mimetype": "text/x-python",
   "name": "python",
   "nbconvert_exporter": "python",
   "pygments_lexer": "ipython2",
   "version": "2.7.6"
  }
 },
 "nbformat": 4,
 "nbformat_minor": 5
}
